{
  "metadata": {
    "accelerator": "GPU",
    "colab": {
      "provenance": [],
      "machine_shape": "hm",
      "gpuType": "T4"
    },
    "kernelspec": {
      "name": "python3",
      "display_name": "Python 3",
      "language": "python"
    },
    "language_info": {
      "name": "python",
      "version": "3.10.10",
      "mimetype": "text/x-python",
      "codemirror_mode": {
        "name": "ipython",
        "version": 3
      },
      "pygments_lexer": "ipython3",
      "nbconvert_exporter": "python",
      "file_extension": ".py"
    },
    "gpuClass": "standard"
  },
  "nbformat_minor": 0,
  "nbformat": 4,
  "cells": [
    {
      "cell_type": "markdown",
      "source": [
        "## **Installing LibAUC**\n"
      ],
      "metadata": {
        "id": "efaf1543"
      }
    },
    {
      "cell_type": "code",
      "source": [
        "! pip install medmnist\n",
        "! pip install libauc==1.2.0"
      ],
      "metadata": {
        "id": "0hQeospBloJU",
        "execution": {
          "iopub.status.busy": "2023-05-07T13:44:05.677224Z",
          "iopub.execute_input": "2023-05-07T13:44:05.677616Z",
          "iopub.status.idle": "2023-05-07T13:44:05.684953Z",
          "shell.execute_reply.started": "2023-05-07T13:44:05.677584Z",
          "shell.execute_reply": "2023-05-07T13:44:05.683757Z"
        },
        "trusted": true,
        "colab": {
          "base_uri": "https://localhost:8080/"
        },
        "outputId": "d6e11738-ac94-456c-c861-9c55d82a05d4"
      },
      "execution_count": 1,
      "outputs": [
        {
          "output_type": "stream",
          "name": "stdout",
          "text": [
            "Looking in indexes: https://pypi.org/simple, https://us-python.pkg.dev/colab-wheels/public/simple/\n",
            "Collecting medmnist\n",
            "  Downloading medmnist-2.2.1-py3-none-any.whl (21 kB)\n",
            "Requirement already satisfied: numpy in /usr/local/lib/python3.10/dist-packages (from medmnist) (1.22.4)\n",
            "Requirement already satisfied: pandas in /usr/local/lib/python3.10/dist-packages (from medmnist) (1.5.3)\n",
            "Collecting fire\n",
            "  Downloading fire-0.5.0.tar.gz (88 kB)\n",
            "\u001b[2K     \u001b[90m━━━━━━━━━━━━━━━━━━━━━━━━━━━━━━━━━━━━━━━━\u001b[0m \u001b[32m88.3/88.3 kB\u001b[0m \u001b[31m6.1 MB/s\u001b[0m eta \u001b[36m0:00:00\u001b[0m\n",
            "\u001b[?25h  Preparing metadata (setup.py) ... \u001b[?25l\u001b[?25hdone\n",
            "Requirement already satisfied: torchvision in /usr/local/lib/python3.10/dist-packages (from medmnist) (0.15.1+cu118)\n",
            "Requirement already satisfied: Pillow in /usr/local/lib/python3.10/dist-packages (from medmnist) (8.4.0)\n",
            "Requirement already satisfied: scikit-learn in /usr/local/lib/python3.10/dist-packages (from medmnist) (1.2.2)\n",
            "Requirement already satisfied: torch in /usr/local/lib/python3.10/dist-packages (from medmnist) (2.0.0+cu118)\n",
            "Requirement already satisfied: scikit-image in /usr/local/lib/python3.10/dist-packages (from medmnist) (0.19.3)\n",
            "Requirement already satisfied: tqdm in /usr/local/lib/python3.10/dist-packages (from medmnist) (4.65.0)\n",
            "Requirement already satisfied: six in /usr/local/lib/python3.10/dist-packages (from fire->medmnist) (1.16.0)\n",
            "Requirement already satisfied: termcolor in /usr/local/lib/python3.10/dist-packages (from fire->medmnist) (2.3.0)\n",
            "Requirement already satisfied: pytz>=2020.1 in /usr/local/lib/python3.10/dist-packages (from pandas->medmnist) (2022.7.1)\n",
            "Requirement already satisfied: python-dateutil>=2.8.1 in /usr/local/lib/python3.10/dist-packages (from pandas->medmnist) (2.8.2)\n",
            "Requirement already satisfied: networkx>=2.2 in /usr/local/lib/python3.10/dist-packages (from scikit-image->medmnist) (3.1)\n",
            "Requirement already satisfied: packaging>=20.0 in /usr/local/lib/python3.10/dist-packages (from scikit-image->medmnist) (23.1)\n",
            "Requirement already satisfied: tifffile>=2019.7.26 in /usr/local/lib/python3.10/dist-packages (from scikit-image->medmnist) (2023.4.12)\n",
            "Requirement already satisfied: PyWavelets>=1.1.1 in /usr/local/lib/python3.10/dist-packages (from scikit-image->medmnist) (1.4.1)\n",
            "Requirement already satisfied: scipy>=1.4.1 in /usr/local/lib/python3.10/dist-packages (from scikit-image->medmnist) (1.10.1)\n",
            "Requirement already satisfied: imageio>=2.4.1 in /usr/local/lib/python3.10/dist-packages (from scikit-image->medmnist) (2.25.1)\n",
            "Requirement already satisfied: joblib>=1.1.1 in /usr/local/lib/python3.10/dist-packages (from scikit-learn->medmnist) (1.2.0)\n",
            "Requirement already satisfied: threadpoolctl>=2.0.0 in /usr/local/lib/python3.10/dist-packages (from scikit-learn->medmnist) (3.1.0)\n",
            "Requirement already satisfied: typing-extensions in /usr/local/lib/python3.10/dist-packages (from torch->medmnist) (4.5.0)\n",
            "Requirement already satisfied: filelock in /usr/local/lib/python3.10/dist-packages (from torch->medmnist) (3.12.0)\n",
            "Requirement already satisfied: jinja2 in /usr/local/lib/python3.10/dist-packages (from torch->medmnist) (3.1.2)\n",
            "Requirement already satisfied: sympy in /usr/local/lib/python3.10/dist-packages (from torch->medmnist) (1.11.1)\n",
            "Requirement already satisfied: triton==2.0.0 in /usr/local/lib/python3.10/dist-packages (from torch->medmnist) (2.0.0)\n",
            "Requirement already satisfied: lit in /usr/local/lib/python3.10/dist-packages (from triton==2.0.0->torch->medmnist) (16.0.2)\n",
            "Requirement already satisfied: cmake in /usr/local/lib/python3.10/dist-packages (from triton==2.0.0->torch->medmnist) (3.25.2)\n",
            "Requirement already satisfied: requests in /usr/local/lib/python3.10/dist-packages (from torchvision->medmnist) (2.27.1)\n",
            "Requirement already satisfied: MarkupSafe>=2.0 in /usr/local/lib/python3.10/dist-packages (from jinja2->torch->medmnist) (2.1.2)\n",
            "Requirement already satisfied: urllib3<1.27,>=1.21.1 in /usr/local/lib/python3.10/dist-packages (from requests->torchvision->medmnist) (1.26.15)\n",
            "Requirement already satisfied: certifi>=2017.4.17 in /usr/local/lib/python3.10/dist-packages (from requests->torchvision->medmnist) (2022.12.7)\n",
            "Requirement already satisfied: charset-normalizer~=2.0.0 in /usr/local/lib/python3.10/dist-packages (from requests->torchvision->medmnist) (2.0.12)\n",
            "Requirement already satisfied: idna<4,>=2.5 in /usr/local/lib/python3.10/dist-packages (from requests->torchvision->medmnist) (3.4)\n",
            "Requirement already satisfied: mpmath>=0.19 in /usr/local/lib/python3.10/dist-packages (from sympy->torch->medmnist) (1.3.0)\n",
            "Building wheels for collected packages: fire\n",
            "  Building wheel for fire (setup.py) ... \u001b[?25l\u001b[?25hdone\n",
            "  Created wheel for fire: filename=fire-0.5.0-py2.py3-none-any.whl size=116952 sha256=5c88e9905753853e2ca9a796bbfa15bc7492c3f9735f5a2dd3d76b7c266f9ec7\n",
            "  Stored in directory: /root/.cache/pip/wheels/90/d4/f7/9404e5db0116bd4d43e5666eaa3e70ab53723e1e3ea40c9a95\n",
            "Successfully built fire\n",
            "Installing collected packages: fire, medmnist\n",
            "Successfully installed fire-0.5.0 medmnist-2.2.1\n",
            "Looking in indexes: https://pypi.org/simple, https://us-python.pkg.dev/colab-wheels/public/simple/\n",
            "Collecting libauc==1.2.0\n",
            "  Downloading libauc-1.2.0-py3-none-any.whl (73 kB)\n",
            "\u001b[2K     \u001b[90m━━━━━━━━━━━━━━━━━━━━━━━━━━━━━━━━━━━━━━━━\u001b[0m \u001b[32m73.6/73.6 kB\u001b[0m \u001b[31m3.2 MB/s\u001b[0m eta \u001b[36m0:00:00\u001b[0m\n",
            "\u001b[?25hRequirement already satisfied: scikit-learn in /usr/local/lib/python3.10/dist-packages (from libauc==1.2.0) (1.2.2)\n",
            "Requirement already satisfied: opencv-python in /usr/local/lib/python3.10/dist-packages (from libauc==1.2.0) (4.7.0.72)\n",
            "Requirement already satisfied: torch>=1.2 in /usr/local/lib/python3.10/dist-packages (from libauc==1.2.0) (2.0.0+cu118)\n",
            "Requirement already satisfied: numpy in /usr/local/lib/python3.10/dist-packages (from libauc==1.2.0) (1.22.4)\n",
            "Requirement already satisfied: scikit-image in /usr/local/lib/python3.10/dist-packages (from libauc==1.2.0) (0.19.3)\n",
            "Requirement already satisfied: pandas in /usr/local/lib/python3.10/dist-packages (from libauc==1.2.0) (1.5.3)\n",
            "Requirement already satisfied: Pillow in /usr/local/lib/python3.10/dist-packages (from libauc==1.2.0) (8.4.0)\n",
            "Requirement already satisfied: networkx in /usr/local/lib/python3.10/dist-packages (from torch>=1.2->libauc==1.2.0) (3.1)\n",
            "Requirement already satisfied: jinja2 in /usr/local/lib/python3.10/dist-packages (from torch>=1.2->libauc==1.2.0) (3.1.2)\n",
            "Requirement already satisfied: sympy in /usr/local/lib/python3.10/dist-packages (from torch>=1.2->libauc==1.2.0) (1.11.1)\n",
            "Requirement already satisfied: filelock in /usr/local/lib/python3.10/dist-packages (from torch>=1.2->libauc==1.2.0) (3.12.0)\n",
            "Requirement already satisfied: triton==2.0.0 in /usr/local/lib/python3.10/dist-packages (from torch>=1.2->libauc==1.2.0) (2.0.0)\n",
            "Requirement already satisfied: typing-extensions in /usr/local/lib/python3.10/dist-packages (from torch>=1.2->libauc==1.2.0) (4.5.0)\n",
            "Requirement already satisfied: cmake in /usr/local/lib/python3.10/dist-packages (from triton==2.0.0->torch>=1.2->libauc==1.2.0) (3.25.2)\n",
            "Requirement already satisfied: lit in /usr/local/lib/python3.10/dist-packages (from triton==2.0.0->torch>=1.2->libauc==1.2.0) (16.0.2)\n",
            "Requirement already satisfied: pytz>=2020.1 in /usr/local/lib/python3.10/dist-packages (from pandas->libauc==1.2.0) (2022.7.1)\n",
            "Requirement already satisfied: python-dateutil>=2.8.1 in /usr/local/lib/python3.10/dist-packages (from pandas->libauc==1.2.0) (2.8.2)\n",
            "Requirement already satisfied: imageio>=2.4.1 in /usr/local/lib/python3.10/dist-packages (from scikit-image->libauc==1.2.0) (2.25.1)\n",
            "Requirement already satisfied: scipy>=1.4.1 in /usr/local/lib/python3.10/dist-packages (from scikit-image->libauc==1.2.0) (1.10.1)\n",
            "Requirement already satisfied: tifffile>=2019.7.26 in /usr/local/lib/python3.10/dist-packages (from scikit-image->libauc==1.2.0) (2023.4.12)\n",
            "Requirement already satisfied: packaging>=20.0 in /usr/local/lib/python3.10/dist-packages (from scikit-image->libauc==1.2.0) (23.1)\n",
            "Requirement already satisfied: PyWavelets>=1.1.1 in /usr/local/lib/python3.10/dist-packages (from scikit-image->libauc==1.2.0) (1.4.1)\n",
            "Requirement already satisfied: threadpoolctl>=2.0.0 in /usr/local/lib/python3.10/dist-packages (from scikit-learn->libauc==1.2.0) (3.1.0)\n",
            "Requirement already satisfied: joblib>=1.1.1 in /usr/local/lib/python3.10/dist-packages (from scikit-learn->libauc==1.2.0) (1.2.0)\n",
            "Requirement already satisfied: six>=1.5 in /usr/local/lib/python3.10/dist-packages (from python-dateutil>=2.8.1->pandas->libauc==1.2.0) (1.16.0)\n",
            "Requirement already satisfied: MarkupSafe>=2.0 in /usr/local/lib/python3.10/dist-packages (from jinja2->torch>=1.2->libauc==1.2.0) (2.1.2)\n",
            "Requirement already satisfied: mpmath>=0.19 in /usr/local/lib/python3.10/dist-packages (from sympy->torch>=1.2->libauc==1.2.0) (1.3.0)\n",
            "Installing collected packages: libauc\n",
            "Successfully installed libauc-1.2.0\n"
          ]
        }
      ]
    },
    {
      "cell_type": "markdown",
      "source": [
        "# **Importing Libraries**\n"
      ],
      "metadata": {
        "id": "TYTvudnlQMEX"
      }
    },
    {
      "cell_type": "code",
      "source": [
        "import os\n",
        "import time\n",
        "from PIL import Image\n",
        "import numpy as np\n",
        "import random\n",
        "\n",
        "from libauc.losses import AUCMLoss, CrossEntropyLoss\n",
        "from libauc.optimizers import PESG\n",
        "from libauc.models import resnet20 as ResNet20\n",
        "from libauc.models import resnet18 as ResNet18\n",
        "from libauc.utils import ImbalancedDataGenerator\n",
        "from libauc.sampler import DualSampler\n",
        "from libauc.metrics import auc_roc_score\n",
        "\n",
        "import medmnist\n",
        "from medmnist import PneumoniaMNIST\n",
        "from medmnist import INFO, Evaluator\n",
        "\n",
        "import torch \n",
        "import torch.nn as nn\n",
        "import torchvision.transforms as transforms\n",
        "from torch.utils.data import Dataset, DataLoader\n",
        "import torch.optim as optim\n",
        "\n",
        "from sklearn import metrics\n",
        "from sklearn.metrics import accuracy_score\n",
        "from sklearn.metrics import roc_auc_score\n",
        "\n",
        "import warnings\n",
        "warnings.filterwarnings('ignore')"
      ],
      "metadata": {
        "id": "HBdrV5mOV9ze",
        "execution": {
          "iopub.status.busy": "2023-05-07T13:44:05.688023Z",
          "iopub.execute_input": "2023-05-07T13:44:05.688770Z",
          "iopub.status.idle": "2023-05-07T13:44:05.697634Z",
          "shell.execute_reply.started": "2023-05-07T13:44:05.688736Z",
          "shell.execute_reply": "2023-05-07T13:44:05.696640Z"
        },
        "trusted": true
      },
      "execution_count": 2,
      "outputs": []
    },
    {
      "cell_type": "markdown",
      "source": [
        "## **Reproducibility**\n",
        "\n"
      ],
      "metadata": {
        "id": "c4gWa0Yisyoi"
      }
    },
    {
      "cell_type": "code",
      "source": [
        "random_seed = 42\n",
        "random.seed(random_seed)\n",
        "np.random.seed(random_seed)\n",
        "torch.manual_seed(random_seed)\n",
        "torch.backends.cudnn.deterministic = True\n",
        "torch.backends.cudnn.benchmark = False"
      ],
      "metadata": {
        "id": "glsgJdAKsyoi",
        "execution": {
          "iopub.status.busy": "2023-05-07T13:44:05.700060Z",
          "iopub.execute_input": "2023-05-07T13:44:05.700964Z",
          "iopub.status.idle": "2023-05-07T13:44:05.708463Z",
          "shell.execute_reply.started": "2023-05-07T13:44:05.700931Z",
          "shell.execute_reply": "2023-05-07T13:44:05.707375Z"
        },
        "trusted": true
      },
      "execution_count": 3,
      "outputs": []
    },
    {
      "cell_type": "markdown",
      "source": [
        "## **Image Dataset**\n",
        "\n",
        "\n",
        "\n"
      ],
      "metadata": {
        "id": "QFmMHcdDsyoj"
      }
    },
    {
      "cell_type": "code",
      "source": [
        "class ImageDataset(Dataset):\n",
        "    def __init__(self, images, targets, image_size=32, crop_size=28, mode='train'):\n",
        "       self.images = images.astype(np.uint8)\n",
        "       self.targets = targets\n",
        "       self.mode = mode\n",
        "       self.transform_train = transforms.Compose([                                                \n",
        "                              transforms.ToTensor(),\n",
        "                              # transforms.RandomCrop((crop_size, crop_size), padding=None),\n",
        "                              transforms.RandomHorizontalFlip(),\n",
        "                              transforms.Resize((image_size, image_size)),\n",
        "                              transforms.Normalize(mean=[.5], std=[.5])\n",
        "                              ])\n",
        "       self.transform_test = transforms.Compose([\n",
        "                             transforms.ToTensor(),\n",
        "                             transforms.Resize((image_size, image_size)),\n",
        "                             transforms.Normalize(mean=[.5], std=[.5])\n",
        "                              ])\n",
        "    def __len__(self):\n",
        "        return len(self.images)\n",
        "\n",
        "    def __getitem__(self, idx):\n",
        "        image = self.images[idx]\n",
        "        target = self.targets[idx]\n",
        "        image = Image.fromarray(image.astype('uint8'))\n",
        "        if self.mode == 'train':\n",
        "            image = self.transform_train(image)\n",
        "        else:\n",
        "            image = self.transform_test(image)\n",
        "        return image, target"
      ],
      "metadata": {
        "id": "Y7rC7aTuQ2cX",
        "execution": {
          "iopub.status.busy": "2023-05-07T13:44:05.710251Z",
          "iopub.execute_input": "2023-05-07T13:44:05.710706Z",
          "iopub.status.idle": "2023-05-07T13:44:05.720819Z",
          "shell.execute_reply.started": "2023-05-07T13:44:05.710677Z",
          "shell.execute_reply": "2023-05-07T13:44:05.719825Z"
        },
        "trusted": true
      },
      "execution_count": 16,
      "outputs": []
    },
    {
      "cell_type": "markdown",
      "source": [
        "# **Paramaters**"
      ],
      "metadata": {
        "id": "YjTW36iTQ60Q"
      }
    },
    {
      "cell_type": "code",
      "source": [
        "# HyperParameters\n",
        "imratio = 0.1 # for demo \n",
        "total_epochs = 120\n",
        "decay_epochs = [50, 75]\n",
        "sampling_rate = 0.5\n",
        "lr = 0.1\n",
        "margin = 1.0\n",
        "epoch_decay = 0.003\n",
        "weight_decay = 0.0001\n",
        "BATCH_SIZE=128\n",
        "momentum=0.9"
      ],
      "metadata": {
        "id": "STRhOR7YQ4_r",
        "execution": {
          "iopub.status.busy": "2023-05-07T13:44:05.723192Z",
          "iopub.execute_input": "2023-05-07T13:44:05.723684Z",
          "iopub.status.idle": "2023-05-07T13:44:05.732939Z",
          "shell.execute_reply.started": "2023-05-07T13:44:05.723654Z",
          "shell.execute_reply": "2023-05-07T13:44:05.732061Z"
        },
        "trusted": true
      },
      "execution_count": 17,
      "outputs": []
    },
    {
      "cell_type": "markdown",
      "source": [
        "# **Loading datasets**"
      ],
      "metadata": {
        "id": "5fgzICg5Q-RE"
      }
    },
    {
      "cell_type": "code",
      "source": [
        "dataflag = 'pneumoniamnist'\n",
        "info = INFO[dataflag]\n",
        "task = info['task']\n",
        "n_classes = len(info['label'])\n",
        "info"
      ],
      "metadata": {
        "colab": {
          "base_uri": "https://localhost:8080/"
        },
        "id": "mTN9dxiTS5Ae",
        "outputId": "c75f2191-f964-4bea-8c40-f62dbbb61917"
      },
      "execution_count": 18,
      "outputs": [
        {
          "output_type": "execute_result",
          "data": {
            "text/plain": [
              "{'python_class': 'PneumoniaMNIST',\n",
              " 'description': 'The PneumoniaMNIST is based on a prior dataset of 5,856 pediatric chest X-Ray images. The task is binary-class classification of pneumonia against normal. We split the source training set with a ratio of 9:1 into training and validation set and use its source validation set as the test set. The source images are gray-scale, and their sizes are (384−2,916)×(127−2,713). We center-crop the images and resize them into 1×28×28.',\n",
              " 'url': 'https://zenodo.org/record/6496656/files/pneumoniamnist.npz?download=1',\n",
              " 'MD5': '28209eda62fecd6e6a2d98b1501bb15f',\n",
              " 'task': 'binary-class',\n",
              " 'label': {'0': 'normal', '1': 'pneumonia'},\n",
              " 'n_channels': 1,\n",
              " 'n_samples': {'train': 4708, 'val': 524, 'test': 624},\n",
              " 'license': 'CC BY 4.0'}"
            ]
          },
          "metadata": {},
          "execution_count": 18
        }
      ]
    },
    {
      "cell_type": "code",
      "source": [
        "# Load the train dataset\n",
        "train_dataset = PneumoniaMNIST(root='./', split='train', download=True)\n",
        "train_images = train_dataset.imgs \n",
        "train_labels = train_dataset.labels[:, 0]\n",
        "\n",
        "# Load the val dataset\n",
        "val_dataset = PneumoniaMNIST(root='./', split='val', download=True)\n",
        "val_images = val_dataset.imgs \n",
        "val_labels = val_dataset.labels[:, 0]\n",
        "\n",
        "# Load the test dataset\n",
        "test_dataset = PneumoniaMNIST(root='./', split='test', download=True)\n",
        "test_images = test_dataset.imgs \n",
        "test_labels = test_dataset.labels[:, 0]"
      ],
      "metadata": {
        "colab": {
          "base_uri": "https://localhost:8080/"
        },
        "id": "FpRdtbwy7m-4",
        "outputId": "eb100c3a-08b2-4d42-f388-ba235824fb92",
        "execution": {
          "iopub.status.busy": "2023-05-07T13:44:05.736144Z",
          "iopub.execute_input": "2023-05-07T13:44:05.736873Z",
          "iopub.status.idle": "2023-05-07T13:44:05.756695Z",
          "shell.execute_reply.started": "2023-05-07T13:44:05.736850Z",
          "shell.execute_reply": "2023-05-07T13:44:05.755808Z"
        },
        "trusted": true
      },
      "execution_count": 19,
      "outputs": [
        {
          "output_type": "stream",
          "name": "stdout",
          "text": [
            "Using downloaded and verified file: ./pneumoniamnist.npz\n",
            "Using downloaded and verified file: ./pneumoniamnist.npz\n",
            "Using downloaded and verified file: ./pneumoniamnist.npz\n"
          ]
        }
      ]
    },
    {
      "cell_type": "code",
      "source": [
        "# data augmentations \n",
        "trainSet = ImageDataset(train_images, train_labels)\n",
        "trainSet_eval = ImageDataset(val_images, val_labels, mode='test')\n",
        "testSet = ImageDataset(test_images, test_labels, mode='test')\n",
        "\n",
        "# dataloaders\n",
        "sampler = DualSampler(trainSet, BATCH_SIZE, sampling_rate=sampling_rate)\n",
        "train_loader = torch.utils.data.DataLoader(trainSet, batch_size=BATCH_SIZE, sampler=sampler, num_workers=2)\n",
        "val_loader = torch.utils.data.DataLoader(trainSet_eval, batch_size=BATCH_SIZE, shuffle=False, num_workers=2)\n",
        "test_loader = torch.utils.data.DataLoader(testSet, batch_size=BATCH_SIZE, shuffle=False, num_workers=2)"
      ],
      "metadata": {
        "id": "nGbjRYxqQ9sv",
        "execution": {
          "iopub.status.busy": "2023-05-07T13:44:05.758013Z",
          "iopub.execute_input": "2023-05-07T13:44:05.758602Z",
          "iopub.status.idle": "2023-05-07T13:44:05.767403Z",
          "shell.execute_reply.started": "2023-05-07T13:44:05.758570Z",
          "shell.execute_reply": "2023-05-07T13:44:05.766474Z"
        },
        "trusted": true
      },
      "execution_count": 20,
      "outputs": []
    },
    {
      "cell_type": "markdown",
      "source": [
        "# **Creating models & AUC Optimizer**"
      ],
      "metadata": {
        "id": "_MrH548IRDIc"
      }
    },
    {
      "cell_type": "code",
      "source": [
        "# Creating the model\n",
        "model = ResNet18(pretrained=False, last_activation=None) \n",
        "model = model.cuda()\n",
        "\n",
        "# Defining Loss and Optimizers\n",
        "loss_fn = AUCMLoss()\n",
        "optimizer = PESG(model, \n",
        "                 loss_fn=loss_fn,\n",
        "                 lr=lr, \n",
        "                 momentum=momentum,\n",
        "                 margin=margin, \n",
        "                 epoch_decay=epoch_decay, \n",
        "                 weight_decay=weight_decay)"
      ],
      "metadata": {
        "id": "cFxB8QblRCt5",
        "execution": {
          "iopub.status.busy": "2023-05-07T13:44:05.771658Z",
          "iopub.execute_input": "2023-05-07T13:44:05.771911Z",
          "iopub.status.idle": "2023-05-07T13:44:06.110012Z",
          "shell.execute_reply.started": "2023-05-07T13:44:05.771888Z",
          "shell.execute_reply": "2023-05-07T13:44:06.109038Z"
        },
        "trusted": true
      },
      "execution_count": 21,
      "outputs": []
    },
    {
      "cell_type": "markdown",
      "source": [
        "# **Training**"
      ],
      "metadata": {
        "id": "fG5VXXEIRfw3"
      }
    },
    {
      "cell_type": "code",
      "source": [
        "print ('Start Training')\n",
        "print ('-'*30)\n",
        "\n",
        "best_val_auc = 0\n",
        "best_model = model\n",
        "\n",
        "train_log = []\n",
        "\n",
        "for epoch in range(total_epochs):\n",
        "     if epoch in decay_epochs:\n",
        "         optimizer.update_regularizer(decay_factor=10) # decrease learning rate by 10x & update regularizer\n",
        "   \n",
        "     # TRAINING   \n",
        "     train_loss = []\n",
        "     model.train()    \n",
        "     for train_data, train_targets in train_loader:\n",
        "         train_data, train_targets  = train_data.cuda(), train_targets.cuda()\n",
        "         train_data = train_data.expand(-1, 3, -1, -1)\n",
        "         y_pred = model(train_data)\n",
        "         y_pred = torch.sigmoid(y_pred)\n",
        "         loss = loss_fn(y_pred, train_targets)\n",
        "         optimizer.zero_grad()\n",
        "         loss.backward()\n",
        "         optimizer.step()\n",
        "         train_loss.append(loss.item())\n",
        "    \n",
        "     epoch_loss = np.mean(train_loss)\n",
        "\n",
        "     # VALIDATION\n",
        "     with torch.no_grad():\n",
        "        model.eval()\n",
        "        val_pred_list = []\n",
        "        val_true_list = []\n",
        "        for val_data, val_targets in val_loader:\n",
        "            val_data  = val_data.cuda()\n",
        "            val_data = val_data.expand(-1, 3, -1, -1)\n",
        "            val_pred = model(val_data)\n",
        "            val_pred_list.append(val_pred.cpu().detach().numpy())\n",
        "            val_true_list.append(val_targets.numpy())\n",
        "        val_true = np.concatenate(val_true_list)\n",
        "        val_pred = np.concatenate(val_pred_list)\n",
        "        val_auc = auc_roc_score(val_true, val_pred)\n",
        "\n",
        "        val_pred_binary = (val_pred > 0.5).astype(int)\n",
        "        val_accuracy = accuracy_score(val_true, val_pred_binary)\n",
        "          \n",
        "        if best_val_auc < val_auc:\n",
        "          best_val_auc = val_auc\n",
        "          best_model = model\n",
        "          \n",
        "        train_log.append(val_auc)    \n",
        "\n",
        "     print(\"epoch: %s, epoch_loss: %.4f, val_auc: %.4f, lr: %.4f, best_val_auc: %.4f\"%(epoch, epoch_loss, val_auc, optimizer.lr, best_val_auc ))    "
      ],
      "metadata": {
        "colab": {
          "base_uri": "https://localhost:8080/"
        },
        "id": "H1nk8FK3Qygb",
        "outputId": "1594ff88-4482-4e20-bde7-e9e1abb25622",
        "execution": {
          "iopub.status.busy": "2023-05-07T13:44:06.113447Z",
          "iopub.execute_input": "2023-05-07T13:44:06.114394Z",
          "iopub.status.idle": "2023-05-07T13:45:25.961757Z",
          "shell.execute_reply.started": "2023-05-07T13:44:06.114359Z",
          "shell.execute_reply": "2023-05-07T13:45:25.960212Z"
        },
        "trusted": true
      },
      "execution_count": 22,
      "outputs": [
        {
          "output_type": "stream",
          "name": "stdout",
          "text": [
            "Start Training\n",
            "------------------------------\n",
            "epoch: 0, epoch_loss: 0.0568, val_auc: 0.9741, lr: 0.1000, best_val_auc: 0.9741\n",
            "epoch: 1, epoch_loss: 0.0179, val_auc: 0.9865, lr: 0.1000, best_val_auc: 0.9865\n",
            "epoch: 2, epoch_loss: 0.0126, val_auc: 0.9931, lr: 0.1000, best_val_auc: 0.9931\n",
            "epoch: 3, epoch_loss: 0.0104, val_auc: 0.9919, lr: 0.1000, best_val_auc: 0.9931\n",
            "epoch: 4, epoch_loss: 0.0066, val_auc: 0.9938, lr: 0.1000, best_val_auc: 0.9938\n",
            "epoch: 5, epoch_loss: 0.0062, val_auc: 0.9918, lr: 0.1000, best_val_auc: 0.9938\n",
            "epoch: 6, epoch_loss: 0.0040, val_auc: 0.9943, lr: 0.1000, best_val_auc: 0.9943\n",
            "epoch: 7, epoch_loss: 0.0038, val_auc: 0.9927, lr: 0.1000, best_val_auc: 0.9943\n",
            "epoch: 8, epoch_loss: 0.0031, val_auc: 0.9904, lr: 0.1000, best_val_auc: 0.9943\n",
            "epoch: 9, epoch_loss: 0.0025, val_auc: 0.9937, lr: 0.1000, best_val_auc: 0.9943\n",
            "epoch: 10, epoch_loss: 0.0019, val_auc: 0.9938, lr: 0.1000, best_val_auc: 0.9943\n",
            "epoch: 11, epoch_loss: 0.0020, val_auc: 0.9884, lr: 0.1000, best_val_auc: 0.9943\n",
            "epoch: 12, epoch_loss: 0.0019, val_auc: 0.9925, lr: 0.1000, best_val_auc: 0.9943\n",
            "epoch: 13, epoch_loss: 0.0016, val_auc: 0.9934, lr: 0.1000, best_val_auc: 0.9943\n",
            "epoch: 14, epoch_loss: 0.0019, val_auc: 0.9899, lr: 0.1000, best_val_auc: 0.9943\n",
            "epoch: 15, epoch_loss: 0.0016, val_auc: 0.9942, lr: 0.1000, best_val_auc: 0.9943\n",
            "epoch: 16, epoch_loss: 0.0010, val_auc: 0.9916, lr: 0.1000, best_val_auc: 0.9943\n",
            "epoch: 17, epoch_loss: 0.0011, val_auc: 0.9932, lr: 0.1000, best_val_auc: 0.9943\n",
            "epoch: 18, epoch_loss: 0.0007, val_auc: 0.9930, lr: 0.1000, best_val_auc: 0.9943\n",
            "epoch: 19, epoch_loss: 0.0009, val_auc: 0.9940, lr: 0.1000, best_val_auc: 0.9943\n",
            "epoch: 20, epoch_loss: 0.0009, val_auc: 0.9930, lr: 0.1000, best_val_auc: 0.9943\n",
            "epoch: 21, epoch_loss: 0.0008, val_auc: 0.9939, lr: 0.1000, best_val_auc: 0.9943\n",
            "epoch: 22, epoch_loss: 0.0006, val_auc: 0.9938, lr: 0.1000, best_val_auc: 0.9943\n",
            "epoch: 23, epoch_loss: 0.0005, val_auc: 0.9934, lr: 0.1000, best_val_auc: 0.9943\n",
            "epoch: 24, epoch_loss: 0.0005, val_auc: 0.9945, lr: 0.1000, best_val_auc: 0.9945\n",
            "epoch: 25, epoch_loss: 0.0015, val_auc: 0.9871, lr: 0.1000, best_val_auc: 0.9945\n",
            "epoch: 26, epoch_loss: 0.0079, val_auc: 0.9928, lr: 0.1000, best_val_auc: 0.9945\n",
            "epoch: 27, epoch_loss: 0.0069, val_auc: 0.9898, lr: 0.1000, best_val_auc: 0.9945\n",
            "epoch: 28, epoch_loss: 0.0058, val_auc: 0.9932, lr: 0.1000, best_val_auc: 0.9945\n",
            "epoch: 29, epoch_loss: 0.0052, val_auc: 0.9930, lr: 0.1000, best_val_auc: 0.9945\n",
            "epoch: 30, epoch_loss: 0.0043, val_auc: 0.9929, lr: 0.1000, best_val_auc: 0.9945\n",
            "epoch: 31, epoch_loss: 0.0022, val_auc: 0.9943, lr: 0.1000, best_val_auc: 0.9945\n",
            "epoch: 32, epoch_loss: 0.0015, val_auc: 0.9907, lr: 0.1000, best_val_auc: 0.9945\n",
            "epoch: 33, epoch_loss: 0.0012, val_auc: 0.9951, lr: 0.1000, best_val_auc: 0.9951\n",
            "epoch: 34, epoch_loss: 0.0010, val_auc: 0.9967, lr: 0.1000, best_val_auc: 0.9967\n",
            "epoch: 35, epoch_loss: 0.0009, val_auc: 0.9958, lr: 0.1000, best_val_auc: 0.9967\n",
            "epoch: 36, epoch_loss: 0.0006, val_auc: 0.9966, lr: 0.1000, best_val_auc: 0.9967\n",
            "epoch: 37, epoch_loss: 0.0006, val_auc: 0.9970, lr: 0.1000, best_val_auc: 0.9970\n",
            "epoch: 38, epoch_loss: 0.0003, val_auc: 0.9965, lr: 0.1000, best_val_auc: 0.9970\n",
            "epoch: 39, epoch_loss: 0.0003, val_auc: 0.9968, lr: 0.1000, best_val_auc: 0.9970\n",
            "epoch: 40, epoch_loss: 0.0005, val_auc: 0.9971, lr: 0.1000, best_val_auc: 0.9971\n",
            "epoch: 41, epoch_loss: 0.0003, val_auc: 0.9966, lr: 0.1000, best_val_auc: 0.9971\n",
            "epoch: 42, epoch_loss: 0.0004, val_auc: 0.9968, lr: 0.1000, best_val_auc: 0.9971\n",
            "epoch: 43, epoch_loss: 0.0004, val_auc: 0.9972, lr: 0.1000, best_val_auc: 0.9972\n",
            "epoch: 44, epoch_loss: 0.0002, val_auc: 0.9969, lr: 0.1000, best_val_auc: 0.9972\n",
            "epoch: 45, epoch_loss: 0.0049, val_auc: 0.9868, lr: 0.1000, best_val_auc: 0.9972\n",
            "epoch: 46, epoch_loss: 0.0069, val_auc: 0.9845, lr: 0.1000, best_val_auc: 0.9972\n",
            "epoch: 47, epoch_loss: 0.0061, val_auc: 0.9886, lr: 0.1000, best_val_auc: 0.9972\n",
            "epoch: 48, epoch_loss: 0.0047, val_auc: 0.9837, lr: 0.1000, best_val_auc: 0.9972\n",
            "epoch: 49, epoch_loss: 0.0038, val_auc: 0.9912, lr: 0.1000, best_val_auc: 0.9972\n",
            "Reducing learning rate to 0.01000 @ T=2700!\n",
            "Updating regularizer @ T=2700!\n",
            "epoch: 50, epoch_loss: 0.0021, val_auc: 0.9940, lr: 0.0100, best_val_auc: 0.9972\n",
            "epoch: 51, epoch_loss: 0.0009, val_auc: 0.9945, lr: 0.0100, best_val_auc: 0.9972\n",
            "epoch: 52, epoch_loss: 0.0008, val_auc: 0.9946, lr: 0.0100, best_val_auc: 0.9972\n",
            "epoch: 53, epoch_loss: 0.0006, val_auc: 0.9947, lr: 0.0100, best_val_auc: 0.9972\n",
            "epoch: 54, epoch_loss: 0.0005, val_auc: 0.9946, lr: 0.0100, best_val_auc: 0.9972\n",
            "epoch: 55, epoch_loss: 0.0006, val_auc: 0.9949, lr: 0.0100, best_val_auc: 0.9972\n",
            "epoch: 56, epoch_loss: 0.0004, val_auc: 0.9950, lr: 0.0100, best_val_auc: 0.9972\n",
            "epoch: 57, epoch_loss: 0.0003, val_auc: 0.9951, lr: 0.0100, best_val_auc: 0.9972\n",
            "epoch: 58, epoch_loss: 0.0002, val_auc: 0.9950, lr: 0.0100, best_val_auc: 0.9972\n",
            "epoch: 59, epoch_loss: 0.0004, val_auc: 0.9951, lr: 0.0100, best_val_auc: 0.9972\n",
            "epoch: 60, epoch_loss: 0.0003, val_auc: 0.9953, lr: 0.0100, best_val_auc: 0.9972\n",
            "epoch: 61, epoch_loss: 0.0003, val_auc: 0.9951, lr: 0.0100, best_val_auc: 0.9972\n",
            "epoch: 62, epoch_loss: 0.0002, val_auc: 0.9952, lr: 0.0100, best_val_auc: 0.9972\n",
            "epoch: 63, epoch_loss: 0.0003, val_auc: 0.9954, lr: 0.0100, best_val_auc: 0.9972\n",
            "epoch: 64, epoch_loss: 0.0003, val_auc: 0.9953, lr: 0.0100, best_val_auc: 0.9972\n",
            "epoch: 65, epoch_loss: 0.0002, val_auc: 0.9955, lr: 0.0100, best_val_auc: 0.9972\n",
            "epoch: 66, epoch_loss: 0.0002, val_auc: 0.9953, lr: 0.0100, best_val_auc: 0.9972\n",
            "epoch: 67, epoch_loss: 0.0002, val_auc: 0.9953, lr: 0.0100, best_val_auc: 0.9972\n",
            "epoch: 68, epoch_loss: 0.0002, val_auc: 0.9952, lr: 0.0100, best_val_auc: 0.9972\n",
            "epoch: 69, epoch_loss: 0.0001, val_auc: 0.9953, lr: 0.0100, best_val_auc: 0.9972\n",
            "epoch: 70, epoch_loss: 0.0002, val_auc: 0.9954, lr: 0.0100, best_val_auc: 0.9972\n",
            "epoch: 71, epoch_loss: 0.0002, val_auc: 0.9954, lr: 0.0100, best_val_auc: 0.9972\n",
            "epoch: 72, epoch_loss: 0.0001, val_auc: 0.9953, lr: 0.0100, best_val_auc: 0.9972\n",
            "epoch: 73, epoch_loss: 0.0002, val_auc: 0.9954, lr: 0.0100, best_val_auc: 0.9972\n",
            "epoch: 74, epoch_loss: 0.0002, val_auc: 0.9954, lr: 0.0100, best_val_auc: 0.9972\n",
            "Reducing learning rate to 0.00100 @ T=4050!\n",
            "Updating regularizer @ T=4050!\n",
            "epoch: 75, epoch_loss: 0.0001, val_auc: 0.9954, lr: 0.0010, best_val_auc: 0.9972\n",
            "epoch: 76, epoch_loss: 0.0002, val_auc: 0.9954, lr: 0.0010, best_val_auc: 0.9972\n",
            "epoch: 77, epoch_loss: 0.0002, val_auc: 0.9954, lr: 0.0010, best_val_auc: 0.9972\n",
            "epoch: 78, epoch_loss: 0.0002, val_auc: 0.9954, lr: 0.0010, best_val_auc: 0.9972\n",
            "epoch: 79, epoch_loss: 0.0001, val_auc: 0.9954, lr: 0.0010, best_val_auc: 0.9972\n",
            "epoch: 80, epoch_loss: 0.0002, val_auc: 0.9954, lr: 0.0010, best_val_auc: 0.9972\n",
            "epoch: 81, epoch_loss: 0.0001, val_auc: 0.9953, lr: 0.0010, best_val_auc: 0.9972\n",
            "epoch: 82, epoch_loss: 0.0001, val_auc: 0.9954, lr: 0.0010, best_val_auc: 0.9972\n",
            "epoch: 83, epoch_loss: 0.0001, val_auc: 0.9955, lr: 0.0010, best_val_auc: 0.9972\n",
            "epoch: 84, epoch_loss: 0.0002, val_auc: 0.9954, lr: 0.0010, best_val_auc: 0.9972\n",
            "epoch: 85, epoch_loss: 0.0001, val_auc: 0.9954, lr: 0.0010, best_val_auc: 0.9972\n",
            "epoch: 86, epoch_loss: 0.0002, val_auc: 0.9954, lr: 0.0010, best_val_auc: 0.9972\n",
            "epoch: 87, epoch_loss: 0.0002, val_auc: 0.9954, lr: 0.0010, best_val_auc: 0.9972\n",
            "epoch: 88, epoch_loss: 0.0002, val_auc: 0.9954, lr: 0.0010, best_val_auc: 0.9972\n",
            "epoch: 89, epoch_loss: 0.0002, val_auc: 0.9955, lr: 0.0010, best_val_auc: 0.9972\n",
            "epoch: 90, epoch_loss: 0.0002, val_auc: 0.9953, lr: 0.0010, best_val_auc: 0.9972\n",
            "epoch: 91, epoch_loss: 0.0002, val_auc: 0.9954, lr: 0.0010, best_val_auc: 0.9972\n",
            "epoch: 92, epoch_loss: 0.0002, val_auc: 0.9954, lr: 0.0010, best_val_auc: 0.9972\n",
            "epoch: 93, epoch_loss: 0.0002, val_auc: 0.9954, lr: 0.0010, best_val_auc: 0.9972\n",
            "epoch: 94, epoch_loss: 0.0001, val_auc: 0.9954, lr: 0.0010, best_val_auc: 0.9972\n",
            "epoch: 95, epoch_loss: 0.0002, val_auc: 0.9954, lr: 0.0010, best_val_auc: 0.9972\n",
            "epoch: 96, epoch_loss: 0.0002, val_auc: 0.9954, lr: 0.0010, best_val_auc: 0.9972\n",
            "epoch: 97, epoch_loss: 0.0002, val_auc: 0.9955, lr: 0.0010, best_val_auc: 0.9972\n",
            "epoch: 98, epoch_loss: 0.0001, val_auc: 0.9954, lr: 0.0010, best_val_auc: 0.9972\n",
            "epoch: 99, epoch_loss: 0.0001, val_auc: 0.9954, lr: 0.0010, best_val_auc: 0.9972\n",
            "epoch: 100, epoch_loss: 0.0002, val_auc: 0.9954, lr: 0.0010, best_val_auc: 0.9972\n",
            "epoch: 101, epoch_loss: 0.0001, val_auc: 0.9955, lr: 0.0010, best_val_auc: 0.9972\n",
            "epoch: 102, epoch_loss: 0.0002, val_auc: 0.9954, lr: 0.0010, best_val_auc: 0.9972\n",
            "epoch: 103, epoch_loss: 0.0002, val_auc: 0.9954, lr: 0.0010, best_val_auc: 0.9972\n",
            "epoch: 104, epoch_loss: 0.0001, val_auc: 0.9953, lr: 0.0010, best_val_auc: 0.9972\n",
            "epoch: 105, epoch_loss: 0.0002, val_auc: 0.9954, lr: 0.0010, best_val_auc: 0.9972\n",
            "epoch: 106, epoch_loss: 0.0001, val_auc: 0.9954, lr: 0.0010, best_val_auc: 0.9972\n",
            "epoch: 107, epoch_loss: 0.0002, val_auc: 0.9954, lr: 0.0010, best_val_auc: 0.9972\n",
            "epoch: 108, epoch_loss: 0.0001, val_auc: 0.9954, lr: 0.0010, best_val_auc: 0.9972\n",
            "epoch: 109, epoch_loss: 0.0001, val_auc: 0.9954, lr: 0.0010, best_val_auc: 0.9972\n",
            "epoch: 110, epoch_loss: 0.0001, val_auc: 0.9954, lr: 0.0010, best_val_auc: 0.9972\n",
            "epoch: 111, epoch_loss: 0.0002, val_auc: 0.9954, lr: 0.0010, best_val_auc: 0.9972\n",
            "epoch: 112, epoch_loss: 0.0002, val_auc: 0.9954, lr: 0.0010, best_val_auc: 0.9972\n",
            "epoch: 113, epoch_loss: 0.0001, val_auc: 0.9954, lr: 0.0010, best_val_auc: 0.9972\n",
            "epoch: 114, epoch_loss: 0.0002, val_auc: 0.9955, lr: 0.0010, best_val_auc: 0.9972\n",
            "epoch: 115, epoch_loss: 0.0001, val_auc: 0.9954, lr: 0.0010, best_val_auc: 0.9972\n",
            "epoch: 116, epoch_loss: 0.0001, val_auc: 0.9955, lr: 0.0010, best_val_auc: 0.9972\n",
            "epoch: 117, epoch_loss: 0.0001, val_auc: 0.9955, lr: 0.0010, best_val_auc: 0.9972\n",
            "epoch: 118, epoch_loss: 0.0001, val_auc: 0.9955, lr: 0.0010, best_val_auc: 0.9972\n",
            "epoch: 119, epoch_loss: 0.0001, val_auc: 0.9955, lr: 0.0010, best_val_auc: 0.9972\n"
          ]
        }
      ]
    },
    {
      "cell_type": "markdown",
      "source": [
        "# **Testing**"
      ],
      "metadata": {
        "id": "WwLpPTjmGjIn"
      }
    },
    {
      "cell_type": "code",
      "source": [
        "# Evaluation on Test data\n",
        "\n",
        "test_pred_list = []\n",
        "test_true_list = [] \n",
        "for test_data, test_targets in test_loader:\n",
        "    test_data  = test_data.cuda()\n",
        "    test_data = test_data.expand(-1, 3, -1, -1)\n",
        "    test_pred = best_model(test_data)\n",
        "    test_pred_list.append(test_pred.cpu().detach().numpy())\n",
        "    test_true_list.append(test_targets.numpy())\n",
        "test_true = np.concatenate(test_true_list)\n",
        "test_pred = np.concatenate(test_pred_list)\n",
        "test_auc =  auc_roc_score(test_true, test_pred) \n",
        "\n",
        "test_pred_binary = (test_pred > 0.5).astype(int)\n",
        "test_accuracy = accuracy_score(test_true, test_pred_binary)\n",
        "print(\"best_test_auc: %.4f, test_accuracy: %.4f\"%(test_auc, test_accuracy))      "
      ],
      "metadata": {
        "colab": {
          "base_uri": "https://localhost:8080/"
        },
        "id": "mWeZeX3C97Da",
        "outputId": "78cb7ad2-641e-4c02-9450-3412b628fcea",
        "execution": {
          "iopub.status.busy": "2023-05-07T13:45:26.114072Z",
          "iopub.execute_input": "2023-05-07T13:45:26.114511Z",
          "iopub.status.idle": "2023-05-07T13:45:26.361158Z",
          "shell.execute_reply.started": "2023-05-07T13:45:26.114465Z",
          "shell.execute_reply": "2023-05-07T13:45:26.359927Z"
        },
        "trusted": true
      },
      "execution_count": 23,
      "outputs": [
        {
          "output_type": "stream",
          "name": "stdout",
          "text": [
            "best_test_auc: 0.9533, test_accuracy: 0.8830\n"
          ]
        }
      ]
    },
    {
      "cell_type": "code",
      "source": [
        "# Saving the best model\n",
        "state = {\n",
        "    'net': best_model.state_dict(),\n",
        "}\n",
        "\n",
        "output_root = os.path.join('./output', dataflag)\n",
        "if not os.path.exists(output_root):\n",
        "    os.makedirs(output_root)\n",
        "\n",
        "filename = dataflag + '_auc_' + str(round(test_auc,4)) + '_model.pth'\n",
        "path = os.path.join(output_root, filename)\n",
        "torch.save(state, path)"
      ],
      "metadata": {
        "id": "9bMbBNuoXPiJ"
      },
      "execution_count": 24,
      "outputs": []
    },
    {
      "cell_type": "code",
      "source": [
        "# Eval function similar to demo file\n",
        "\n",
        "def evaluate(net, test_loader):\n",
        "    # Testing AUC\n",
        "    score_list = list()\n",
        "    label_list = list()\n",
        "    for tmp_data, tmp_label in test_loader:\n",
        "        tmp_data, tmp_label = tmp_data.cuda(), tmp_label.cuda()\n",
        "        tmp_data = tmp_data.expand(-1, 3, -1, -1)        \n",
        "        tmp_score = net(tmp_data).detach().clone().cpu()\n",
        "        score_list.append(tmp_score)\n",
        "        label_list.append(tmp_label.cpu())\n",
        "    test_label = torch.cat(label_list)\n",
        "    test_score = torch.cat(score_list)\n",
        "                   \n",
        "    test_auc = metrics.roc_auc_score(test_label, test_score)                   \n",
        "    print(\"Test: %.4f\"%test_auc, flush=True)\n",
        "\n",
        "checkpoint = torch.load(path)\n",
        "final_model = ResNet18() \n",
        "final_model = final_model.cuda()\n",
        "final_model.load_state_dict(checkpoint['net'])\n",
        "evaluate(final_model, test_loader)"
      ],
      "metadata": {
        "colab": {
          "base_uri": "https://localhost:8080/"
        },
        "id": "dWvP7JR4G9yt",
        "outputId": "a42f4f8f-4806-4612-fdc0-67f4a0508443",
        "execution": {
          "iopub.status.busy": "2023-05-07T13:45:26.363061Z",
          "iopub.execute_input": "2023-05-07T13:45:26.363618Z",
          "iopub.status.idle": "2023-05-07T13:45:26.581479Z",
          "shell.execute_reply.started": "2023-05-07T13:45:26.363581Z",
          "shell.execute_reply": "2023-05-07T13:45:26.580476Z"
        },
        "trusted": true
      },
      "execution_count": 25,
      "outputs": [
        {
          "output_type": "stream",
          "name": "stdout",
          "text": [
            "Test: 0.9521\n"
          ]
        }
      ]
    }
  ]
}