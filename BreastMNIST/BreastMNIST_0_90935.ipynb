{
  "cells": [
    {
      "cell_type": "code",
      "source": [
        "# !apt-get --purge remove cuda nvidia* libnvidia-*\n",
        "# !dpkg -l | grep cuda- | awk '{print $2}' | xargs -n1 dpkg --purge\n",
        "# !apt-get remove cuda-*\n",
        "# !apt autoremove\n",
        "# !apt-get update\n",
        "# !wget https://developer.nvidia.com/compute/cuda/9.2/Prod/local_installers/cuda-repo-ubuntu1604-9-2-local_9.2.88-1_amd64 -O cuda-repo-ubuntu1604-9-2-local_9.2.88-1_amd64.deb\n",
        "# !dpkg -i cuda-repo-ubuntu1604-9-2-local_9.2.88-1_amd64.deb\n",
        "# !apt-key add /var/cuda-repo-9-2-local/7fa2af80.pub\n",
        "# !apt-get update\n",
        "# !apt-get install cuda-9.2\n",
        "# !pip install git+git://github.com/andreinechaev/nvcc4jupyter.git\n",
        "# %load_ext nvcc_plugin"
      ],
      "metadata": {
        "id": "AG-1pMHwodtX"
      },
      "execution_count": 1,
      "outputs": []
    },
    {
      "cell_type": "code",
      "execution_count": 2,
      "metadata": {
        "colab": {
          "base_uri": "https://localhost:8080/"
        },
        "id": "S2FHMCXFtIXb",
        "outputId": "f08b771f-9bf0-47dd-b885-dc262f715e0d"
      },
      "outputs": [
        {
          "output_type": "stream",
          "name": "stdout",
          "text": [
            "Looking in indexes: https://pypi.org/simple, https://us-python.pkg.dev/colab-wheels/public/simple/\n",
            "Collecting libauc==1.2.0\n",
            "  Downloading libauc-1.2.0-py3-none-any.whl (73 kB)\n",
            "\u001b[2K     \u001b[90m━━━━━━━━━━━━━━━━━━━━━━━━━━━━━━━━━━━━━━━━\u001b[0m \u001b[32m73.6/73.6 kB\u001b[0m \u001b[31m2.5 MB/s\u001b[0m eta \u001b[36m0:00:00\u001b[0m\n",
            "\u001b[?25hRequirement already satisfied: scikit-image in /usr/local/lib/python3.10/dist-packages (from libauc==1.2.0) (0.19.3)\n",
            "Requirement already satisfied: pandas in /usr/local/lib/python3.10/dist-packages (from libauc==1.2.0) (1.5.3)\n",
            "Requirement already satisfied: Pillow in /usr/local/lib/python3.10/dist-packages (from libauc==1.2.0) (8.4.0)\n",
            "Requirement already satisfied: opencv-python in /usr/local/lib/python3.10/dist-packages (from libauc==1.2.0) (4.7.0.72)\n",
            "Requirement already satisfied: numpy in /usr/local/lib/python3.10/dist-packages (from libauc==1.2.0) (1.22.4)\n",
            "Requirement already satisfied: scikit-learn in /usr/local/lib/python3.10/dist-packages (from libauc==1.2.0) (1.2.2)\n",
            "Requirement already satisfied: torch>=1.2 in /usr/local/lib/python3.10/dist-packages (from libauc==1.2.0) (2.0.0+cu118)\n",
            "Requirement already satisfied: triton==2.0.0 in /usr/local/lib/python3.10/dist-packages (from torch>=1.2->libauc==1.2.0) (2.0.0)\n",
            "Requirement already satisfied: networkx in /usr/local/lib/python3.10/dist-packages (from torch>=1.2->libauc==1.2.0) (3.1)\n",
            "Requirement already satisfied: sympy in /usr/local/lib/python3.10/dist-packages (from torch>=1.2->libauc==1.2.0) (1.11.1)\n",
            "Requirement already satisfied: typing-extensions in /usr/local/lib/python3.10/dist-packages (from torch>=1.2->libauc==1.2.0) (4.5.0)\n",
            "Requirement already satisfied: filelock in /usr/local/lib/python3.10/dist-packages (from torch>=1.2->libauc==1.2.0) (3.12.0)\n",
            "Requirement already satisfied: jinja2 in /usr/local/lib/python3.10/dist-packages (from torch>=1.2->libauc==1.2.0) (3.1.2)\n",
            "Requirement already satisfied: lit in /usr/local/lib/python3.10/dist-packages (from triton==2.0.0->torch>=1.2->libauc==1.2.0) (16.0.2)\n",
            "Requirement already satisfied: cmake in /usr/local/lib/python3.10/dist-packages (from triton==2.0.0->torch>=1.2->libauc==1.2.0) (3.25.2)\n",
            "Requirement already satisfied: python-dateutil>=2.8.1 in /usr/local/lib/python3.10/dist-packages (from pandas->libauc==1.2.0) (2.8.2)\n",
            "Requirement already satisfied: pytz>=2020.1 in /usr/local/lib/python3.10/dist-packages (from pandas->libauc==1.2.0) (2022.7.1)\n",
            "Requirement already satisfied: scipy>=1.4.1 in /usr/local/lib/python3.10/dist-packages (from scikit-image->libauc==1.2.0) (1.10.1)\n",
            "Requirement already satisfied: PyWavelets>=1.1.1 in /usr/local/lib/python3.10/dist-packages (from scikit-image->libauc==1.2.0) (1.4.1)\n",
            "Requirement already satisfied: tifffile>=2019.7.26 in /usr/local/lib/python3.10/dist-packages (from scikit-image->libauc==1.2.0) (2023.4.12)\n",
            "Requirement already satisfied: packaging>=20.0 in /usr/local/lib/python3.10/dist-packages (from scikit-image->libauc==1.2.0) (23.1)\n",
            "Requirement already satisfied: imageio>=2.4.1 in /usr/local/lib/python3.10/dist-packages (from scikit-image->libauc==1.2.0) (2.25.1)\n",
            "Requirement already satisfied: threadpoolctl>=2.0.0 in /usr/local/lib/python3.10/dist-packages (from scikit-learn->libauc==1.2.0) (3.1.0)\n",
            "Requirement already satisfied: joblib>=1.1.1 in /usr/local/lib/python3.10/dist-packages (from scikit-learn->libauc==1.2.0) (1.2.0)\n",
            "Requirement already satisfied: six>=1.5 in /usr/local/lib/python3.10/dist-packages (from python-dateutil>=2.8.1->pandas->libauc==1.2.0) (1.16.0)\n",
            "Requirement already satisfied: MarkupSafe>=2.0 in /usr/local/lib/python3.10/dist-packages (from jinja2->torch>=1.2->libauc==1.2.0) (2.1.2)\n",
            "Requirement already satisfied: mpmath>=0.19 in /usr/local/lib/python3.10/dist-packages (from sympy->torch>=1.2->libauc==1.2.0) (1.3.0)\n",
            "Installing collected packages: libauc\n",
            "Successfully installed libauc-1.2.0\n",
            "Looking in indexes: https://pypi.org/simple, https://us-python.pkg.dev/colab-wheels/public/simple/\n",
            "Collecting medmnist\n",
            "  Downloading medmnist-2.2.1-py3-none-any.whl (21 kB)\n",
            "Requirement already satisfied: numpy in /usr/local/lib/python3.10/dist-packages (from medmnist) (1.22.4)\n",
            "Requirement already satisfied: pandas in /usr/local/lib/python3.10/dist-packages (from medmnist) (1.5.3)\n",
            "Requirement already satisfied: torch in /usr/local/lib/python3.10/dist-packages (from medmnist) (2.0.0+cu118)\n",
            "Requirement already satisfied: Pillow in /usr/local/lib/python3.10/dist-packages (from medmnist) (8.4.0)\n",
            "Requirement already satisfied: torchvision in /usr/local/lib/python3.10/dist-packages (from medmnist) (0.15.1+cu118)\n",
            "Collecting fire\n",
            "  Downloading fire-0.5.0.tar.gz (88 kB)\n",
            "\u001b[2K     \u001b[90m━━━━━━━━━━━━━━━━━━━━━━━━━━━━━━━━━━━━━━━━\u001b[0m \u001b[32m88.3/88.3 kB\u001b[0m \u001b[31m3.6 MB/s\u001b[0m eta \u001b[36m0:00:00\u001b[0m\n",
            "\u001b[?25h  Preparing metadata (setup.py) ... \u001b[?25l\u001b[?25hdone\n",
            "Requirement already satisfied: tqdm in /usr/local/lib/python3.10/dist-packages (from medmnist) (4.65.0)\n",
            "Requirement already satisfied: scikit-learn in /usr/local/lib/python3.10/dist-packages (from medmnist) (1.2.2)\n",
            "Requirement already satisfied: scikit-image in /usr/local/lib/python3.10/dist-packages (from medmnist) (0.19.3)\n",
            "Requirement already satisfied: six in /usr/local/lib/python3.10/dist-packages (from fire->medmnist) (1.16.0)\n",
            "Requirement already satisfied: termcolor in /usr/local/lib/python3.10/dist-packages (from fire->medmnist) (2.3.0)\n",
            "Requirement already satisfied: python-dateutil>=2.8.1 in /usr/local/lib/python3.10/dist-packages (from pandas->medmnist) (2.8.2)\n",
            "Requirement already satisfied: pytz>=2020.1 in /usr/local/lib/python3.10/dist-packages (from pandas->medmnist) (2022.7.1)\n",
            "Requirement already satisfied: networkx>=2.2 in /usr/local/lib/python3.10/dist-packages (from scikit-image->medmnist) (3.1)\n",
            "Requirement already satisfied: scipy>=1.4.1 in /usr/local/lib/python3.10/dist-packages (from scikit-image->medmnist) (1.10.1)\n",
            "Requirement already satisfied: tifffile>=2019.7.26 in /usr/local/lib/python3.10/dist-packages (from scikit-image->medmnist) (2023.4.12)\n",
            "Requirement already satisfied: imageio>=2.4.1 in /usr/local/lib/python3.10/dist-packages (from scikit-image->medmnist) (2.25.1)\n",
            "Requirement already satisfied: packaging>=20.0 in /usr/local/lib/python3.10/dist-packages (from scikit-image->medmnist) (23.1)\n",
            "Requirement already satisfied: PyWavelets>=1.1.1 in /usr/local/lib/python3.10/dist-packages (from scikit-image->medmnist) (1.4.1)\n",
            "Requirement already satisfied: joblib>=1.1.1 in /usr/local/lib/python3.10/dist-packages (from scikit-learn->medmnist) (1.2.0)\n",
            "Requirement already satisfied: threadpoolctl>=2.0.0 in /usr/local/lib/python3.10/dist-packages (from scikit-learn->medmnist) (3.1.0)\n",
            "Requirement already satisfied: typing-extensions in /usr/local/lib/python3.10/dist-packages (from torch->medmnist) (4.5.0)\n",
            "Requirement already satisfied: filelock in /usr/local/lib/python3.10/dist-packages (from torch->medmnist) (3.12.0)\n",
            "Requirement already satisfied: triton==2.0.0 in /usr/local/lib/python3.10/dist-packages (from torch->medmnist) (2.0.0)\n",
            "Requirement already satisfied: sympy in /usr/local/lib/python3.10/dist-packages (from torch->medmnist) (1.11.1)\n",
            "Requirement already satisfied: jinja2 in /usr/local/lib/python3.10/dist-packages (from torch->medmnist) (3.1.2)\n",
            "Requirement already satisfied: cmake in /usr/local/lib/python3.10/dist-packages (from triton==2.0.0->torch->medmnist) (3.25.2)\n",
            "Requirement already satisfied: lit in /usr/local/lib/python3.10/dist-packages (from triton==2.0.0->torch->medmnist) (16.0.2)\n",
            "Requirement already satisfied: requests in /usr/local/lib/python3.10/dist-packages (from torchvision->medmnist) (2.27.1)\n",
            "Requirement already satisfied: MarkupSafe>=2.0 in /usr/local/lib/python3.10/dist-packages (from jinja2->torch->medmnist) (2.1.2)\n",
            "Requirement already satisfied: charset-normalizer~=2.0.0 in /usr/local/lib/python3.10/dist-packages (from requests->torchvision->medmnist) (2.0.12)\n",
            "Requirement already satisfied: certifi>=2017.4.17 in /usr/local/lib/python3.10/dist-packages (from requests->torchvision->medmnist) (2022.12.7)\n",
            "Requirement already satisfied: urllib3<1.27,>=1.21.1 in /usr/local/lib/python3.10/dist-packages (from requests->torchvision->medmnist) (1.26.15)\n",
            "Requirement already satisfied: idna<4,>=2.5 in /usr/local/lib/python3.10/dist-packages (from requests->torchvision->medmnist) (3.4)\n",
            "Requirement already satisfied: mpmath>=0.19 in /usr/local/lib/python3.10/dist-packages (from sympy->torch->medmnist) (1.3.0)\n",
            "Building wheels for collected packages: fire\n",
            "  Building wheel for fire (setup.py) ... \u001b[?25l\u001b[?25hdone\n",
            "  Created wheel for fire: filename=fire-0.5.0-py2.py3-none-any.whl size=116952 sha256=21180332b2dc6b3a3b735888d28657bd4033c95ddf137918c3d7bba98b2d2c66\n",
            "  Stored in directory: /root/.cache/pip/wheels/90/d4/f7/9404e5db0116bd4d43e5666eaa3e70ab53723e1e3ea40c9a95\n",
            "Successfully built fire\n",
            "Installing collected packages: fire, medmnist\n",
            "Successfully installed fire-0.5.0 medmnist-2.2.1\n"
          ]
        }
      ],
      "source": [
        "# Install libAUC and medMNIST\n",
        "!pip install libauc==1.2.0\n",
        "!pip install medmnist"
      ]
    },
    {
      "cell_type": "code",
      "execution_count": 3,
      "metadata": {
        "id": "2ijm1bJttThI"
      },
      "outputs": [],
      "source": [
        "from tqdm import tqdm\n",
        "import numpy as np\n",
        "import torch\n",
        "import torch.nn as nn\n",
        "import torch.optim as optim\n",
        "import torch.utils.data as data\n",
        "import torchvision.transforms as transforms\n",
        "import medmnist\n",
        "from medmnist import INFO, Evaluator"
      ]
    },
    {
      "cell_type": "code",
      "source": [
        "## loading PneumoniaMNIST dataset\n",
        "\n",
        "#data_flag = 'pathmnist'\n",
        "data_flag = 'breastmnist'\n",
        "download = True\n",
        "\n",
        "#NUM_EPOCHS = 3\n",
        "BATCH_SIZE = 64\n",
        "#lr = 0.001\n",
        "\n",
        "info = INFO[data_flag]\n",
        "task = info['task']\n",
        "n_channels = info['n_channels']\n",
        "n_classes = len(info['label'])\n",
        "\n",
        "DataClass = getattr(medmnist, info['python_class'])"
      ],
      "metadata": {
        "id": "zMCedDg0Zzbs"
      },
      "execution_count": 4,
      "outputs": []
    },
    {
      "cell_type": "code",
      "execution_count": 5,
      "metadata": {
        "id": "mXonz7Y3tVbI",
        "colab": {
          "base_uri": "https://localhost:8080/"
        },
        "outputId": "40a410b0-617c-403b-9411-7f70b10db467"
      },
      "outputs": [
        {
          "output_type": "stream",
          "name": "stdout",
          "text": [
            "Downloading https://zenodo.org/record/6496656/files/breastmnist.npz?download=1 to /root/.medmnist/breastmnist.npz\n"
          ]
        },
        {
          "output_type": "stream",
          "name": "stderr",
          "text": [
            "100%|██████████| 559580/559580 [00:00<00:00, 920251.00it/s]"
          ]
        },
        {
          "output_type": "stream",
          "name": "stdout",
          "text": [
            "Using downloaded and verified file: /root/.medmnist/breastmnist.npz\n",
            "Using downloaded and verified file: /root/.medmnist/breastmnist.npz\n"
          ]
        },
        {
          "output_type": "stream",
          "name": "stderr",
          "text": [
            "\n"
          ]
        }
      ],
      "source": [
        "# transformer definitions -- go here\n",
        "# default transformer\n",
        "\n",
        "\n",
        "## transfomer to experiment --  \n",
        "# the below is data --augmentation -- transformer\n",
        "transform_train = transforms.Compose([\n",
        "    transforms.ToTensor(),\n",
        "    transforms.Normalize(mean=[0.5], std=[0.5])\n",
        "])\n",
        "\n",
        "transform_test = transforms.Compose([\n",
        "    transforms.ToTensor(),\n",
        "    transforms.Normalize(mean=[0.5], std=[0.5])\n",
        "])\n",
        "\n",
        "\n",
        "# load the data\n",
        "train_dataset = DataClass(split='train', transform=transform_train, download=download)\n",
        "test_dataset = DataClass(split='test', transform=transform_train, download=download)\n",
        "\n",
        "pil_dataset = DataClass(split='train', download=download)\n",
        "\n",
        "# encapsulate data into dataloader form\n",
        "train_loader = data.DataLoader(dataset=train_dataset, batch_size=BATCH_SIZE, shuffle=True)\n",
        "train_loader_at_eval = data.DataLoader(dataset=train_dataset, batch_size=2*BATCH_SIZE, shuffle=False)\n",
        "test_loader = data.DataLoader(dataset=test_dataset, batch_size=2*BATCH_SIZE, shuffle=False)\n",
        "\n"
      ]
    },
    {
      "cell_type": "code",
      "source": [
        "print(train_dataset)\n",
        "print(\"===================\")\n",
        "print(test_dataset)"
      ],
      "metadata": {
        "colab": {
          "base_uri": "https://localhost:8080/"
        },
        "id": "H7Vre9tyZ7PU",
        "outputId": "253d8956-b6dd-4ee5-c240-6905e753d3bc"
      },
      "execution_count": 6,
      "outputs": [
        {
          "output_type": "stream",
          "name": "stdout",
          "text": [
            "Dataset BreastMNIST (breastmnist)\n",
            "    Number of datapoints: 546\n",
            "    Root location: /root/.medmnist\n",
            "    Split: train\n",
            "    Task: binary-class\n",
            "    Number of channels: 1\n",
            "    Meaning of labels: {'0': 'malignant', '1': 'normal, benign'}\n",
            "    Number of samples: {'train': 546, 'val': 78, 'test': 156}\n",
            "    Description: The BreastMNIST is based on a dataset of 780 breast ultrasound images. It is categorized into 3 classes: normal, benign, and malignant. As we use low-resolution images, we simplify the task into binary classification by combining normal and benign as positive and classifying them against malignant as negative. We split the source dataset with a ratio of 7:1:2 into training, validation and test set. The source images of 1×500×500 are resized into 1×28×28.\n",
            "    License: CC BY 4.0\n",
            "===================\n",
            "Dataset BreastMNIST (breastmnist)\n",
            "    Number of datapoints: 156\n",
            "    Root location: /root/.medmnist\n",
            "    Split: test\n",
            "    Task: binary-class\n",
            "    Number of channels: 1\n",
            "    Meaning of labels: {'0': 'malignant', '1': 'normal, benign'}\n",
            "    Number of samples: {'train': 546, 'val': 78, 'test': 156}\n",
            "    Description: The BreastMNIST is based on a dataset of 780 breast ultrasound images. It is categorized into 3 classes: normal, benign, and malignant. As we use low-resolution images, we simplify the task into binary classification by combining normal and benign as positive and classifying them against malignant as negative. We split the source dataset with a ratio of 7:1:2 into training, validation and test set. The source images of 1×500×500 are resized into 1×28×28.\n",
            "    License: CC BY 4.0\n"
          ]
        }
      ]
    },
    {
      "cell_type": "code",
      "source": [
        "from torchvision.models import Weights\n",
        "# instantiate the ResNet-50 model and set it to training mode\n",
        "# model = ResNet50() --> yielded  low AUC and ACC on train and test data.\n",
        "# instantiate the ResNet-18 model[Single Channel] and set it to training mode --\n",
        "# added dropout and batch normalization as regularization methods.\n",
        "import torchvision\n",
        "model = torchvision.models.resnet18()\n",
        "# model = model.cuda()\n",
        "model.conv1 = nn.Conv2d(1, 64, kernel_size=7, stride=2, padding=3, bias=False)\n",
        "num_ftrs = model.fc.in_features\n",
        "model.fc = nn.Linear(num_ftrs, 2)\n",
        "\n",
        "\n",
        "\n",
        "from libauc.losses import AUCMLoss\n",
        "from libauc.optimizers import PESG\n",
        "\n",
        "SEED = 123\n",
        "BATCH_SIZE = 128\n",
        "imratio = 0.1 # for demo \n",
        "total_epochs = 100\n",
        "decay_epochs = [50, 75]\n",
        "\n",
        "# Set new hyperparameters\n",
        "lr = 0.1  # Lower learning rate\n",
        "weight_decay = 0.01  # Decrease weight decay\n",
        "margin = 1.0\n",
        "loss_fn = AUCMLoss()\n",
        "\n",
        "# Set optimizer with new hyperparameters\n",
        "optimizer = PESG(model, \n",
        "                 loss_fn=loss_fn, \n",
        "                 momentum=0.8,\n",
        "                 margin=margin,\n",
        "                 epoch_deacy = 0.03,\n",
        "                 lr=lr)\n"
      ],
      "metadata": {
        "id": "TTg-OMBVZ9fU"
      },
      "execution_count": 7,
      "outputs": []
    },
    {
      "cell_type": "code",
      "source": [
        "# lib AUC implementation\n",
        "# modified the criteria for the \n",
        "from sklearn.metrics import roc_auc_score\n",
        "\n",
        "from libauc.sampler import DualSampler\n",
        "from libauc.metrics import auc_roc_score\n",
        "\n",
        "\n",
        "\n",
        "# Set early stopping parameters\n",
        "early_stop_epochs = 10  # Stop if validation AUC does not improve for 10 epochs\n",
        "best_val_auc = 0\n",
        "epochs_since_last_improvement = 0\n",
        "\n",
        "# Training loop\n",
        "print('Start Training')\n",
        "print('-'*30)\n",
        "\n",
        "train_log = []\n",
        "test_log = []\n",
        "for epoch in range(total_epochs):\n",
        "    train_loss = []\n",
        "    model.train()\n",
        "    for data, targets in train_loader:\n",
        "        y_pred = model(data)\n",
        "        loss = loss_fn(y_pred, targets)\n",
        "        optimizer.zero_grad()\n",
        "        loss.backward()\n",
        "        optimizer.step()\n",
        "        train_loss.append(loss.item())\n",
        "\n",
        "    # Evaluation on train & test sets\n",
        "    model.eval()\n",
        "    train_pred_list = []\n",
        "    train_true_list = []\n",
        "    for train_data, train_targets in train_loader_at_eval:\n",
        "        train_pred = model(train_data)\n",
        "        train_pred_list.append(train_pred.cpu().detach().numpy())\n",
        "        train_true_list.append(train_targets.numpy())\n",
        "    train_true = np.concatenate(train_true_list)\n",
        "    train_pred = np.concatenate(train_pred_list)\n",
        "    train_auc = auc_roc_score(train_true, train_pred)\n",
        "    train_loss = np.mean(train_loss)\n",
        "\n",
        "    test_pred_list = []\n",
        "    test_true_list = []\n",
        "    for test_data, test_targets in test_loader:\n",
        "         test_pred = model(test_data)\n",
        "         test_pred_list.append(test_pred.cpu().detach().numpy())\n",
        "         test_true_list.append(test_targets.numpy())\n",
        "    test_true = np.concatenate(test_true_list)\n",
        "    test_pred = np.concatenate(test_pred_list)\n",
        "    val_auc =  auc_roc_score(test_true, test_pred) \n",
        "    model.train()\n",
        "\n",
        "    # print results\n",
        "    print(\"epoch: %s, train_loss: %.4f, train_auc: %.4f, test_auc: %.4f, lr: %.4f\"%(epoch, train_loss, train_auc[0], val_auc[0], optimizer.lr ))    \n",
        "    train_log.append(train_auc[0]) \n",
        "    test_log.append(val_auc[0])\n",
        "\n",
        "    # Check for early stopping\n",
        "    if val_auc[0] > best_val_auc:\n",
        "        best_val_auc = val_auc[0]\n",
        "        best_train_auc = train_auc[0] #Train AUC corresponding to best Test AUC\n",
        "        epochs_since_last_improvement = 0\n",
        "    else:\n",
        "        epochs_since_last_improvement += 1\n",
        "        if epochs_since_last_improvement >= early_stop_epochs:\n",
        "            print(f\"No improvement in validation AUC for {early_stop_epochs} epochs. Training stopped early.\")\n",
        "            break\n",
        "\n",
        "     "
      ],
      "metadata": {
        "colab": {
          "base_uri": "https://localhost:8080/"
        },
        "id": "VplviviraImU",
        "outputId": "0ceacc1c-23e6-4a58-c24c-6f09dea09b5a"
      },
      "execution_count": 8,
      "outputs": [
        {
          "output_type": "stream",
          "name": "stdout",
          "text": [
            "Start Training\n",
            "------------------------------\n",
            "epoch: 0, train_loss: 37.6160, train_auc: 0.3735, test_auc: 0.3901, lr: 0.1000\n",
            "epoch: 1, train_loss: 0.6152, train_auc: 0.4386, test_auc: 0.4530, lr: 0.1000\n",
            "epoch: 2, train_loss: 0.1685, train_auc: 0.6456, test_auc: 0.6140, lr: 0.1000\n",
            "epoch: 3, train_loss: 0.1509, train_auc: 0.7305, test_auc: 0.6936, lr: 0.1000\n",
            "epoch: 4, train_loss: 0.1545, train_auc: 0.7521, test_auc: 0.7099, lr: 0.1000\n",
            "epoch: 5, train_loss: 0.1360, train_auc: 0.7703, test_auc: 0.7366, lr: 0.1000\n",
            "epoch: 6, train_loss: 0.1261, train_auc: 0.7860, test_auc: 0.7504, lr: 0.1000\n",
            "epoch: 7, train_loss: 0.1213, train_auc: 0.7967, test_auc: 0.7613, lr: 0.1000\n",
            "epoch: 8, train_loss: 0.1130, train_auc: 0.8072, test_auc: 0.7619, lr: 0.1000\n",
            "epoch: 9, train_loss: 0.1203, train_auc: 0.8167, test_auc: 0.7705, lr: 0.1000\n",
            "epoch: 10, train_loss: 0.1074, train_auc: 0.8256, test_auc: 0.7959, lr: 0.1000\n",
            "epoch: 11, train_loss: 0.1097, train_auc: 0.8391, test_auc: 0.8001, lr: 0.1000\n",
            "epoch: 12, train_loss: 0.1020, train_auc: 0.8506, test_auc: 0.8116, lr: 0.1000\n",
            "epoch: 13, train_loss: 0.0876, train_auc: 0.8643, test_auc: 0.8233, lr: 0.1000\n",
            "epoch: 14, train_loss: 0.1007, train_auc: 0.8247, test_auc: 0.7851, lr: 0.1000\n",
            "epoch: 15, train_loss: 0.1002, train_auc: 0.8776, test_auc: 0.8348, lr: 0.1000\n",
            "epoch: 16, train_loss: 0.0845, train_auc: 0.8861, test_auc: 0.8279, lr: 0.1000\n",
            "epoch: 17, train_loss: 0.0791, train_auc: 0.9009, test_auc: 0.8360, lr: 0.1000\n",
            "epoch: 18, train_loss: 0.0827, train_auc: 0.8506, test_auc: 0.8030, lr: 0.1000\n",
            "epoch: 19, train_loss: 0.0927, train_auc: 0.9054, test_auc: 0.8386, lr: 0.1000\n",
            "epoch: 20, train_loss: 0.0746, train_auc: 0.9178, test_auc: 0.8613, lr: 0.1000\n",
            "epoch: 21, train_loss: 0.0691, train_auc: 0.9278, test_auc: 0.8521, lr: 0.1000\n",
            "epoch: 22, train_loss: 0.0799, train_auc: 0.9322, test_auc: 0.8807, lr: 0.1000\n",
            "epoch: 23, train_loss: 0.0700, train_auc: 0.9378, test_auc: 0.8693, lr: 0.1000\n",
            "epoch: 24, train_loss: 0.0579, train_auc: 0.9488, test_auc: 0.8958, lr: 0.1000\n",
            "epoch: 25, train_loss: 0.0549, train_auc: 0.9494, test_auc: 0.8768, lr: 0.1000\n",
            "epoch: 26, train_loss: 0.0661, train_auc: 0.9605, test_auc: 0.9094, lr: 0.1000\n",
            "epoch: 27, train_loss: 0.0578, train_auc: 0.9375, test_auc: 0.8682, lr: 0.1000\n",
            "epoch: 28, train_loss: 0.0495, train_auc: 0.9661, test_auc: 0.8795, lr: 0.1000\n",
            "epoch: 29, train_loss: 0.0578, train_auc: 0.9779, test_auc: 0.9050, lr: 0.1000\n",
            "epoch: 30, train_loss: 0.0513, train_auc: 0.9691, test_auc: 0.8860, lr: 0.1000\n",
            "epoch: 31, train_loss: 0.0465, train_auc: 0.9750, test_auc: 0.9035, lr: 0.1000\n",
            "epoch: 32, train_loss: 0.0370, train_auc: 0.9759, test_auc: 0.8778, lr: 0.1000\n",
            "epoch: 33, train_loss: 0.0382, train_auc: 0.9761, test_auc: 0.8889, lr: 0.1000\n",
            "epoch: 34, train_loss: 0.0343, train_auc: 0.9909, test_auc: 0.9050, lr: 0.1000\n",
            "epoch: 35, train_loss: 0.0236, train_auc: 0.9904, test_auc: 0.9056, lr: 0.1000\n",
            "epoch: 36, train_loss: 0.0276, train_auc: 0.9917, test_auc: 0.8991, lr: 0.1000\n",
            "No improvement in validation AUC for 10 epochs. Training stopped early.\n"
          ]
        }
      ]
    },
    {
      "cell_type": "code",
      "source": [
        "import matplotlib.pyplot as plt\n",
        "\n",
        "plt.plot(train_log, label='Training AUC')\n",
        "plt.plot(test_log, label='Testing AUC')\n",
        "plt.xlabel('Epochs')\n",
        "plt.ylabel('AUC')\n",
        "plt.legend()\n",
        "plt.show()\n"
      ],
      "metadata": {
        "id": "mD9I83UdaOb0",
        "colab": {
          "base_uri": "https://localhost:8080/",
          "height": 449
        },
        "outputId": "466aa2ec-0e7f-46c2-ae73-8ea65c7d0795"
      },
      "execution_count": 11,
      "outputs": [
        {
          "output_type": "display_data",
          "data": {
            "text/plain": [
              "<Figure size 640x480 with 1 Axes>"
            ],
            "image/png": "[encoded data removed]"
          },
          "metadata": {}
        }
      ]
    },
    {
      "cell_type": "code",
      "source": [
        "print(\"Final Train AUC:\", best_train_auc)\n",
        "print(\"Final Test AUC:\", best_val_auc)\n"
      ],
      "metadata": {
        "colab": {
          "base_uri": "https://localhost:8080/"
        },
        "id": "lVJz3Ly-9uxG",
        "outputId": "a8aa53dd-1732-441c-838a-0341f97c629f"
      },
      "execution_count": 13,
      "outputs": [
        {
          "output_type": "stream",
          "name": "stdout",
          "text": [
            "Final Train AUC: 0.9605135287197587\n",
            "Final Test AUC: 0.9093567251461988\n"
          ]
        }
      ]
    }
  ],
  "metadata": {
    "colab": {
      "provenance": [],
      "gpuType": "T4"
    },
    "kernelspec": {
      "display_name": "Python 3",
      "name": "python3"
    },
    "language_info": {
      "name": "python"
    },
    "gpuClass": "standard"
  },
  "nbformat": 4,
  "nbformat_minor": 0
}