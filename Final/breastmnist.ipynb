{
  "metadata": {
    "accelerator": "GPU",
    "colab": {
      "provenance": [],
      "machine_shape": "hm",
      "gpuType": "T4"
    },
    "kernelspec": {
      "name": "python3",
      "display_name": "Python 3",
      "language": "python"
    },
    "language_info": {
      "name": "python",
      "version": "3.10.10",
      "mimetype": "text/x-python",
      "codemirror_mode": {
        "name": "ipython",
        "version": 3
      },
      "pygments_lexer": "ipython3",
      "nbconvert_exporter": "python",
      "file_extension": ".py"
    },
    "gpuClass": "standard"
  },
  "nbformat_minor": 0,
  "nbformat": 4,
  "cells": [
    {
      "cell_type": "markdown",
      "source": [
        "## **Installing LibAUC**\n"
      ],
      "metadata": {
        "id": "efaf1543"
      }
    },
    {
      "cell_type": "code",
      "source": [
        "! pip install medmnist\n",
        "! pip install libauc==1.2.0"
      ],
      "metadata": {
        "id": "0hQeospBloJU",
        "execution": {
          "iopub.status.busy": "2023-05-07T13:44:05.677224Z",
          "iopub.execute_input": "2023-05-07T13:44:05.677616Z",
          "iopub.status.idle": "2023-05-07T13:44:05.684953Z",
          "shell.execute_reply.started": "2023-05-07T13:44:05.677584Z",
          "shell.execute_reply": "2023-05-07T13:44:05.683757Z"
        },
        "trusted": true,
        "colab": {
          "base_uri": "https://localhost:8080/"
        },
        "outputId": "4557fec6-a15c-4558-fc0b-b7bc0d7ca2e2"
      },
      "execution_count": 1,
      "outputs": [
        {
          "output_type": "stream",
          "name": "stdout",
          "text": [
            "Looking in indexes: https://pypi.org/simple, https://us-python.pkg.dev/colab-wheels/public/simple/\n",
            "Collecting medmnist\n",
            "  Downloading medmnist-2.2.1-py3-none-any.whl (21 kB)\n",
            "Requirement already satisfied: pandas in /usr/local/lib/python3.10/dist-packages (from medmnist) (1.5.3)\n",
            "Requirement already satisfied: torchvision in /usr/local/lib/python3.10/dist-packages (from medmnist) (0.15.1+cu118)\n",
            "Requirement already satisfied: numpy in /usr/local/lib/python3.10/dist-packages (from medmnist) (1.22.4)\n",
            "Requirement already satisfied: tqdm in /usr/local/lib/python3.10/dist-packages (from medmnist) (4.65.0)\n",
            "Requirement already satisfied: scikit-learn in /usr/local/lib/python3.10/dist-packages (from medmnist) (1.2.2)\n",
            "Requirement already satisfied: torch in /usr/local/lib/python3.10/dist-packages (from medmnist) (2.0.0+cu118)\n",
            "Requirement already satisfied: scikit-image in /usr/local/lib/python3.10/dist-packages (from medmnist) (0.19.3)\n",
            "Requirement already satisfied: Pillow in /usr/local/lib/python3.10/dist-packages (from medmnist) (8.4.0)\n",
            "Collecting fire\n",
            "  Downloading fire-0.5.0.tar.gz (88 kB)\n",
            "\u001b[2K     \u001b[90m━━━━━━━━━━━━━━━━━━━━━━━━━━━━━━━━━━━━━━━━\u001b[0m \u001b[32m88.3/88.3 kB\u001b[0m \u001b[31m3.8 MB/s\u001b[0m eta \u001b[36m0:00:00\u001b[0m\n",
            "\u001b[?25h  Preparing metadata (setup.py) ... \u001b[?25l\u001b[?25hdone\n",
            "Requirement already satisfied: six in /usr/local/lib/python3.10/dist-packages (from fire->medmnist) (1.16.0)\n",
            "Requirement already satisfied: termcolor in /usr/local/lib/python3.10/dist-packages (from fire->medmnist) (2.3.0)\n",
            "Requirement already satisfied: python-dateutil>=2.8.1 in /usr/local/lib/python3.10/dist-packages (from pandas->medmnist) (2.8.2)\n",
            "Requirement already satisfied: pytz>=2020.1 in /usr/local/lib/python3.10/dist-packages (from pandas->medmnist) (2022.7.1)\n",
            "Requirement already satisfied: networkx>=2.2 in /usr/local/lib/python3.10/dist-packages (from scikit-image->medmnist) (3.1)\n",
            "Requirement already satisfied: PyWavelets>=1.1.1 in /usr/local/lib/python3.10/dist-packages (from scikit-image->medmnist) (1.4.1)\n",
            "Requirement already satisfied: imageio>=2.4.1 in /usr/local/lib/python3.10/dist-packages (from scikit-image->medmnist) (2.25.1)\n",
            "Requirement already satisfied: scipy>=1.4.1 in /usr/local/lib/python3.10/dist-packages (from scikit-image->medmnist) (1.10.1)\n",
            "Requirement already satisfied: tifffile>=2019.7.26 in /usr/local/lib/python3.10/dist-packages (from scikit-image->medmnist) (2023.4.12)\n",
            "Requirement already satisfied: packaging>=20.0 in /usr/local/lib/python3.10/dist-packages (from scikit-image->medmnist) (23.1)\n",
            "Requirement already satisfied: threadpoolctl>=2.0.0 in /usr/local/lib/python3.10/dist-packages (from scikit-learn->medmnist) (3.1.0)\n",
            "Requirement already satisfied: joblib>=1.1.1 in /usr/local/lib/python3.10/dist-packages (from scikit-learn->medmnist) (1.2.0)\n",
            "Requirement already satisfied: triton==2.0.0 in /usr/local/lib/python3.10/dist-packages (from torch->medmnist) (2.0.0)\n",
            "Requirement already satisfied: filelock in /usr/local/lib/python3.10/dist-packages (from torch->medmnist) (3.12.0)\n",
            "Requirement already satisfied: sympy in /usr/local/lib/python3.10/dist-packages (from torch->medmnist) (1.11.1)\n",
            "Requirement already satisfied: typing-extensions in /usr/local/lib/python3.10/dist-packages (from torch->medmnist) (4.5.0)\n",
            "Requirement already satisfied: jinja2 in /usr/local/lib/python3.10/dist-packages (from torch->medmnist) (3.1.2)\n",
            "Requirement already satisfied: cmake in /usr/local/lib/python3.10/dist-packages (from triton==2.0.0->torch->medmnist) (3.25.2)\n",
            "Requirement already satisfied: lit in /usr/local/lib/python3.10/dist-packages (from triton==2.0.0->torch->medmnist) (16.0.2)\n",
            "Requirement already satisfied: requests in /usr/local/lib/python3.10/dist-packages (from torchvision->medmnist) (2.27.1)\n",
            "Requirement already satisfied: MarkupSafe>=2.0 in /usr/local/lib/python3.10/dist-packages (from jinja2->torch->medmnist) (2.1.2)\n",
            "Requirement already satisfied: urllib3<1.27,>=1.21.1 in /usr/local/lib/python3.10/dist-packages (from requests->torchvision->medmnist) (1.26.15)\n",
            "Requirement already satisfied: charset-normalizer~=2.0.0 in /usr/local/lib/python3.10/dist-packages (from requests->torchvision->medmnist) (2.0.12)\n",
            "Requirement already satisfied: idna<4,>=2.5 in /usr/local/lib/python3.10/dist-packages (from requests->torchvision->medmnist) (3.4)\n",
            "Requirement already satisfied: certifi>=2017.4.17 in /usr/local/lib/python3.10/dist-packages (from requests->torchvision->medmnist) (2022.12.7)\n",
            "Requirement already satisfied: mpmath>=0.19 in /usr/local/lib/python3.10/dist-packages (from sympy->torch->medmnist) (1.3.0)\n",
            "Building wheels for collected packages: fire\n",
            "  Building wheel for fire (setup.py) ... \u001b[?25l\u001b[?25hdone\n",
            "  Created wheel for fire: filename=fire-0.5.0-py2.py3-none-any.whl size=116952 sha256=6d9afd89e4c34644fb33acf05d27db80f19cad9a5a13fbcf7d2fb13f1410b89c\n",
            "  Stored in directory: /root/.cache/pip/wheels/90/d4/f7/9404e5db0116bd4d43e5666eaa3e70ab53723e1e3ea40c9a95\n",
            "Successfully built fire\n",
            "Installing collected packages: fire, medmnist\n",
            "Successfully installed fire-0.5.0 medmnist-2.2.1\n",
            "Looking in indexes: https://pypi.org/simple, https://us-python.pkg.dev/colab-wheels/public/simple/\n",
            "Collecting libauc==1.2.0\n",
            "  Downloading libauc-1.2.0-py3-none-any.whl (73 kB)\n",
            "\u001b[2K     \u001b[90m━━━━━━━━━━━━━━━━━━━━━━━━━━━━━━━━━━━━━━━━\u001b[0m \u001b[32m73.6/73.6 kB\u001b[0m \u001b[31m2.4 MB/s\u001b[0m eta \u001b[36m0:00:00\u001b[0m\n",
            "\u001b[?25hRequirement already satisfied: Pillow in /usr/local/lib/python3.10/dist-packages (from libauc==1.2.0) (8.4.0)\n",
            "Requirement already satisfied: pandas in /usr/local/lib/python3.10/dist-packages (from libauc==1.2.0) (1.5.3)\n",
            "Requirement already satisfied: scikit-learn in /usr/local/lib/python3.10/dist-packages (from libauc==1.2.0) (1.2.2)\n",
            "Requirement already satisfied: numpy in /usr/local/lib/python3.10/dist-packages (from libauc==1.2.0) (1.22.4)\n",
            "Requirement already satisfied: scikit-image in /usr/local/lib/python3.10/dist-packages (from libauc==1.2.0) (0.19.3)\n",
            "Requirement already satisfied: torch>=1.2 in /usr/local/lib/python3.10/dist-packages (from libauc==1.2.0) (2.0.0+cu118)\n",
            "Requirement already satisfied: opencv-python in /usr/local/lib/python3.10/dist-packages (from libauc==1.2.0) (4.7.0.72)\n",
            "Requirement already satisfied: networkx in /usr/local/lib/python3.10/dist-packages (from torch>=1.2->libauc==1.2.0) (3.1)\n",
            "Requirement already satisfied: filelock in /usr/local/lib/python3.10/dist-packages (from torch>=1.2->libauc==1.2.0) (3.12.0)\n",
            "Requirement already satisfied: triton==2.0.0 in /usr/local/lib/python3.10/dist-packages (from torch>=1.2->libauc==1.2.0) (2.0.0)\n",
            "Requirement already satisfied: sympy in /usr/local/lib/python3.10/dist-packages (from torch>=1.2->libauc==1.2.0) (1.11.1)\n",
            "Requirement already satisfied: typing-extensions in /usr/local/lib/python3.10/dist-packages (from torch>=1.2->libauc==1.2.0) (4.5.0)\n",
            "Requirement already satisfied: jinja2 in /usr/local/lib/python3.10/dist-packages (from torch>=1.2->libauc==1.2.0) (3.1.2)\n",
            "Requirement already satisfied: lit in /usr/local/lib/python3.10/dist-packages (from triton==2.0.0->torch>=1.2->libauc==1.2.0) (16.0.2)\n",
            "Requirement already satisfied: cmake in /usr/local/lib/python3.10/dist-packages (from triton==2.0.0->torch>=1.2->libauc==1.2.0) (3.25.2)\n",
            "Requirement already satisfied: python-dateutil>=2.8.1 in /usr/local/lib/python3.10/dist-packages (from pandas->libauc==1.2.0) (2.8.2)\n",
            "Requirement already satisfied: pytz>=2020.1 in /usr/local/lib/python3.10/dist-packages (from pandas->libauc==1.2.0) (2022.7.1)\n",
            "Requirement already satisfied: scipy>=1.4.1 in /usr/local/lib/python3.10/dist-packages (from scikit-image->libauc==1.2.0) (1.10.1)\n",
            "Requirement already satisfied: packaging>=20.0 in /usr/local/lib/python3.10/dist-packages (from scikit-image->libauc==1.2.0) (23.1)\n",
            "Requirement already satisfied: imageio>=2.4.1 in /usr/local/lib/python3.10/dist-packages (from scikit-image->libauc==1.2.0) (2.25.1)\n",
            "Requirement already satisfied: PyWavelets>=1.1.1 in /usr/local/lib/python3.10/dist-packages (from scikit-image->libauc==1.2.0) (1.4.1)\n",
            "Requirement already satisfied: tifffile>=2019.7.26 in /usr/local/lib/python3.10/dist-packages (from scikit-image->libauc==1.2.0) (2023.4.12)\n",
            "Requirement already satisfied: joblib>=1.1.1 in /usr/local/lib/python3.10/dist-packages (from scikit-learn->libauc==1.2.0) (1.2.0)\n",
            "Requirement already satisfied: threadpoolctl>=2.0.0 in /usr/local/lib/python3.10/dist-packages (from scikit-learn->libauc==1.2.0) (3.1.0)\n",
            "Requirement already satisfied: six>=1.5 in /usr/local/lib/python3.10/dist-packages (from python-dateutil>=2.8.1->pandas->libauc==1.2.0) (1.16.0)\n",
            "Requirement already satisfied: MarkupSafe>=2.0 in /usr/local/lib/python3.10/dist-packages (from jinja2->torch>=1.2->libauc==1.2.0) (2.1.2)\n",
            "Requirement already satisfied: mpmath>=0.19 in /usr/local/lib/python3.10/dist-packages (from sympy->torch>=1.2->libauc==1.2.0) (1.3.0)\n",
            "Installing collected packages: libauc\n",
            "Successfully installed libauc-1.2.0\n"
          ]
        }
      ]
    },
    {
      "cell_type": "markdown",
      "source": [
        "# **Importing Libraries**\n"
      ],
      "metadata": {
        "id": "TYTvudnlQMEX"
      }
    },
    {
      "cell_type": "code",
      "source": [
        "import os\n",
        "import time\n",
        "from PIL import Image\n",
        "import numpy as np\n",
        "import random\n",
        "\n",
        "from libauc.losses import AUCMLoss, CrossEntropyLoss\n",
        "from libauc.optimizers import PESG\n",
        "from libauc.models import resnet20 as ResNet20\n",
        "from libauc.models import resnet18 as ResNet18\n",
        "from libauc.utils import ImbalancedDataGenerator\n",
        "from libauc.sampler import DualSampler\n",
        "from libauc.metrics import auc_roc_score\n",
        "\n",
        "import medmnist\n",
        "from medmnist import BreastMNIST\n",
        "from medmnist import INFO, Evaluator\n",
        "\n",
        "import torch \n",
        "import torch.nn as nn\n",
        "import torchvision.transforms as transforms\n",
        "from torch.utils.data import Dataset, DataLoader\n",
        "import torch.optim as optim\n",
        "\n",
        "from sklearn import metrics\n",
        "from sklearn.metrics import accuracy_score\n",
        "from sklearn.metrics import roc_auc_score\n",
        "\n",
        "import warnings\n",
        "warnings.filterwarnings('ignore')"
      ],
      "metadata": {
        "id": "HBdrV5mOV9ze",
        "execution": {
          "iopub.status.busy": "2023-05-07T13:44:05.688023Z",
          "iopub.execute_input": "2023-05-07T13:44:05.688770Z",
          "iopub.status.idle": "2023-05-07T13:44:05.697634Z",
          "shell.execute_reply.started": "2023-05-07T13:44:05.688736Z",
          "shell.execute_reply": "2023-05-07T13:44:05.696640Z"
        },
        "trusted": true
      },
      "execution_count": 2,
      "outputs": []
    },
    {
      "cell_type": "markdown",
      "source": [
        "## **Reproducibility**\n",
        "\n"
      ],
      "metadata": {
        "id": "c4gWa0Yisyoi"
      }
    },
    {
      "cell_type": "code",
      "source": [
        "random_seed = 42\n",
        "random.seed(random_seed)\n",
        "np.random.seed(random_seed)\n",
        "torch.manual_seed(random_seed)\n",
        "torch.backends.cudnn.deterministic = True\n",
        "torch.backends.cudnn.benchmark = False"
      ],
      "metadata": {
        "id": "glsgJdAKsyoi",
        "execution": {
          "iopub.status.busy": "2023-05-07T13:44:05.700060Z",
          "iopub.execute_input": "2023-05-07T13:44:05.700964Z",
          "iopub.status.idle": "2023-05-07T13:44:05.708463Z",
          "shell.execute_reply.started": "2023-05-07T13:44:05.700931Z",
          "shell.execute_reply": "2023-05-07T13:44:05.707375Z"
        },
        "trusted": true
      },
      "execution_count": 3,
      "outputs": []
    },
    {
      "cell_type": "markdown",
      "source": [
        "## **Image Dataset**\n",
        "\n",
        "\n",
        "\n"
      ],
      "metadata": {
        "id": "QFmMHcdDsyoj"
      }
    },
    {
      "cell_type": "code",
      "source": [
        "class ImageDataset(Dataset):\n",
        "    def __init__(self, images, targets, image_size=32, crop_size=28, mode='train'):\n",
        "       self.images = images.astype(np.uint8)\n",
        "       self.targets = targets\n",
        "       self.mode = mode\n",
        "       self.transform_train = transforms.Compose([                                                \n",
        "                              transforms.ToTensor(),\n",
        "                              # transforms.RandomCrop((crop_size, crop_size), padding=None),\n",
        "                              transforms.RandomHorizontalFlip(),\n",
        "                              transforms.Resize((image_size, image_size)),\n",
        "                              transforms.Normalize(mean=[.5], std=[.5])\n",
        "                              ])\n",
        "       self.transform_test = transforms.Compose([\n",
        "                             transforms.ToTensor(),\n",
        "                             transforms.Resize((image_size, image_size)),\n",
        "                             transforms.Normalize(mean=[.5], std=[.5])\n",
        "                              ])\n",
        "    def __len__(self):\n",
        "        return len(self.images)\n",
        "\n",
        "    def __getitem__(self, idx):\n",
        "        image = self.images[idx]\n",
        "        target = self.targets[idx]\n",
        "        image = Image.fromarray(image.astype('uint8'))\n",
        "        if self.mode == 'train':\n",
        "            image = self.transform_train(image)\n",
        "        else:\n",
        "            image = self.transform_test(image)\n",
        "        return image, target"
      ],
      "metadata": {
        "id": "Y7rC7aTuQ2cX",
        "execution": {
          "iopub.status.busy": "2023-05-07T13:44:05.710251Z",
          "iopub.execute_input": "2023-05-07T13:44:05.710706Z",
          "iopub.status.idle": "2023-05-07T13:44:05.720819Z",
          "shell.execute_reply.started": "2023-05-07T13:44:05.710677Z",
          "shell.execute_reply": "2023-05-07T13:44:05.719825Z"
        },
        "trusted": true
      },
      "execution_count": 4,
      "outputs": []
    },
    {
      "cell_type": "markdown",
      "source": [
        "# **Paramaters**"
      ],
      "metadata": {
        "id": "YjTW36iTQ60Q"
      }
    },
    {
      "cell_type": "code",
      "source": [
        "# HyperParameters\n",
        "imratio = 0.1 # for demo \n",
        "total_epochs = 200\n",
        "decay_epochs = [50, 80]\n",
        "sampling_rate = 0.5\n",
        "lr = 0.1\n",
        "margin = 1.5\n",
        "epoch_decay = 0.03\n",
        "weight_decay = 0.0001\n",
        "BATCH_SIZE=128\n",
        "momentum=0.9"
      ],
      "metadata": {
        "id": "STRhOR7YQ4_r",
        "execution": {
          "iopub.status.busy": "2023-05-07T13:44:05.723192Z",
          "iopub.execute_input": "2023-05-07T13:44:05.723684Z",
          "iopub.status.idle": "2023-05-07T13:44:05.732939Z",
          "shell.execute_reply.started": "2023-05-07T13:44:05.723654Z",
          "shell.execute_reply": "2023-05-07T13:44:05.732061Z"
        },
        "trusted": true
      },
      "execution_count": 14,
      "outputs": []
    },
    {
      "cell_type": "markdown",
      "source": [
        "# **Loading datasets**"
      ],
      "metadata": {
        "id": "5fgzICg5Q-RE"
      }
    },
    {
      "cell_type": "code",
      "source": [
        "dataflag = 'breastmnist'\n",
        "info = INFO[dataflag]\n",
        "task = info['task']\n",
        "n_classes = len(info['label'])\n",
        "info"
      ],
      "metadata": {
        "colab": {
          "base_uri": "https://localhost:8080/"
        },
        "id": "mTN9dxiTS5Ae",
        "outputId": "64be1383-81d1-4bc1-e796-a94e45c5b177"
      },
      "execution_count": 15,
      "outputs": [
        {
          "output_type": "execute_result",
          "data": {
            "text/plain": [
              "{'python_class': 'BreastMNIST',\n",
              " 'description': 'The BreastMNIST is based on a dataset of 780 breast ultrasound images. It is categorized into 3 classes: normal, benign, and malignant. As we use low-resolution images, we simplify the task into binary classification by combining normal and benign as positive and classifying them against malignant as negative. We split the source dataset with a ratio of 7:1:2 into training, validation and test set. The source images of 1×500×500 are resized into 1×28×28.',\n",
              " 'url': 'https://zenodo.org/record/6496656/files/breastmnist.npz?download=1',\n",
              " 'MD5': '750601b1f35ba3300ea97c75c52ff8f6',\n",
              " 'task': 'binary-class',\n",
              " 'label': {'0': 'malignant', '1': 'normal, benign'},\n",
              " 'n_channels': 1,\n",
              " 'n_samples': {'train': 546, 'val': 78, 'test': 156},\n",
              " 'license': 'CC BY 4.0'}"
            ]
          },
          "metadata": {},
          "execution_count": 15
        }
      ]
    },
    {
      "cell_type": "code",
      "source": [
        "# Load the train dataset\n",
        "train_dataset = BreastMNIST(root='./', split='train', download=True)\n",
        "train_images = train_dataset.imgs \n",
        "train_labels = train_dataset.labels[:, 0]\n",
        "\n",
        "# Load the val dataset\n",
        "val_dataset = BreastMNIST(root='./', split='val', download=True)\n",
        "val_images = val_dataset.imgs \n",
        "val_labels = val_dataset.labels[:, 0]\n",
        "\n",
        "# Load the test dataset\n",
        "test_dataset = BreastMNIST(root='./', split='test', download=True)\n",
        "test_images = test_dataset.imgs \n",
        "test_labels = test_dataset.labels[:, 0]"
      ],
      "metadata": {
        "colab": {
          "base_uri": "https://localhost:8080/"
        },
        "id": "FpRdtbwy7m-4",
        "outputId": "f1cd7f45-e10d-487f-e3d4-9a6526a8ad59",
        "execution": {
          "iopub.status.busy": "2023-05-07T13:44:05.736144Z",
          "iopub.execute_input": "2023-05-07T13:44:05.736873Z",
          "iopub.status.idle": "2023-05-07T13:44:05.756695Z",
          "shell.execute_reply.started": "2023-05-07T13:44:05.736850Z",
          "shell.execute_reply": "2023-05-07T13:44:05.755808Z"
        },
        "trusted": true
      },
      "execution_count": 16,
      "outputs": [
        {
          "output_type": "stream",
          "name": "stdout",
          "text": [
            "Using downloaded and verified file: ./breastmnist.npz\n",
            "Using downloaded and verified file: ./breastmnist.npz\n",
            "Using downloaded and verified file: ./breastmnist.npz\n"
          ]
        }
      ]
    },
    {
      "cell_type": "code",
      "source": [
        "# data augmentations \n",
        "trainSet = ImageDataset(train_images, train_labels)\n",
        "trainSet_eval = ImageDataset(val_images, val_labels, mode='test')\n",
        "testSet = ImageDataset(test_images, test_labels, mode='test')\n",
        "\n",
        "# dataloaders\n",
        "sampler = DualSampler(trainSet, BATCH_SIZE, sampling_rate=sampling_rate)\n",
        "train_loader = torch.utils.data.DataLoader(trainSet, batch_size=BATCH_SIZE, sampler=sampler, num_workers=2)\n",
        "val_loader = torch.utils.data.DataLoader(trainSet_eval, batch_size=BATCH_SIZE, shuffle=False, num_workers=2)\n",
        "test_loader = torch.utils.data.DataLoader(testSet, batch_size=BATCH_SIZE, shuffle=False, num_workers=2)"
      ],
      "metadata": {
        "id": "nGbjRYxqQ9sv",
        "execution": {
          "iopub.status.busy": "2023-05-07T13:44:05.758013Z",
          "iopub.execute_input": "2023-05-07T13:44:05.758602Z",
          "iopub.status.idle": "2023-05-07T13:44:05.767403Z",
          "shell.execute_reply.started": "2023-05-07T13:44:05.758570Z",
          "shell.execute_reply": "2023-05-07T13:44:05.766474Z"
        },
        "trusted": true
      },
      "execution_count": 17,
      "outputs": []
    },
    {
      "cell_type": "markdown",
      "source": [
        "# **Creating models & AUC Optimizer**"
      ],
      "metadata": {
        "id": "_MrH548IRDIc"
      }
    },
    {
      "cell_type": "code",
      "source": [
        "# Creating the model\n",
        "model = ResNet18(pretrained=False, last_activation=None) \n",
        "model = model.cuda()\n",
        "\n",
        "# Defining Loss and Optimizers\n",
        "loss_fn = AUCMLoss()\n",
        "optimizer = PESG(model, \n",
        "                 loss_fn=loss_fn,\n",
        "                 lr=lr, \n",
        "                 momentum=momentum,\n",
        "                 margin=margin, \n",
        "                 epoch_decay=epoch_decay, \n",
        "                 weight_decay=weight_decay)"
      ],
      "metadata": {
        "id": "cFxB8QblRCt5",
        "execution": {
          "iopub.status.busy": "2023-05-07T13:44:05.771658Z",
          "iopub.execute_input": "2023-05-07T13:44:05.771911Z",
          "iopub.status.idle": "2023-05-07T13:44:06.110012Z",
          "shell.execute_reply.started": "2023-05-07T13:44:05.771888Z",
          "shell.execute_reply": "2023-05-07T13:44:06.109038Z"
        },
        "trusted": true
      },
      "execution_count": 18,
      "outputs": []
    },
    {
      "cell_type": "markdown",
      "source": [
        "# **Training**"
      ],
      "metadata": {
        "id": "fG5VXXEIRfw3"
      }
    },
    {
      "cell_type": "code",
      "source": [
        "print ('Start Training')\n",
        "print ('-'*30)\n",
        "\n",
        "best_val_auc = 0\n",
        "best_model = model\n",
        "\n",
        "train_log = []\n",
        "\n",
        "for epoch in range(total_epochs):\n",
        "     if epoch in decay_epochs:\n",
        "         optimizer.update_regularizer(decay_factor=10) # decrease learning rate by 10x & update regularizer\n",
        "   \n",
        "     # TRAINING   \n",
        "     train_loss = []\n",
        "     model.train()    \n",
        "     for train_data, train_targets in train_loader:\n",
        "         train_data, train_targets  = train_data.cuda(), train_targets.cuda()\n",
        "         train_data = train_data.expand(-1, 3, -1, -1)\n",
        "         y_pred = model(train_data)\n",
        "         y_pred = torch.sigmoid(y_pred)\n",
        "         loss = loss_fn(y_pred, train_targets)\n",
        "         optimizer.zero_grad()\n",
        "         loss.backward()\n",
        "         optimizer.step()\n",
        "         train_loss.append(loss.item())\n",
        "    \n",
        "     epoch_loss = np.mean(train_loss)\n",
        "\n",
        "     # VALIDATION\n",
        "     with torch.no_grad():\n",
        "        model.eval()\n",
        "        val_pred_list = []\n",
        "        val_true_list = []\n",
        "        for val_data, val_targets in val_loader:\n",
        "            val_data  = val_data.cuda()\n",
        "            val_data = val_data.expand(-1, 3, -1, -1)\n",
        "            val_pred = model(val_data)\n",
        "            val_pred_list.append(val_pred.cpu().detach().numpy())\n",
        "            val_true_list.append(val_targets.numpy())\n",
        "        val_true = np.concatenate(val_true_list)\n",
        "        val_pred = np.concatenate(val_pred_list)\n",
        "        val_auc = auc_roc_score(val_true, val_pred)\n",
        "\n",
        "        val_pred_binary = (val_pred > 0.5).astype(int)\n",
        "        val_accuracy = accuracy_score(val_true, val_pred_binary)\n",
        "          \n",
        "        if best_val_auc < val_auc:\n",
        "          best_val_auc = val_auc\n",
        "          best_model = model\n",
        "\n",
        "        train_log.append(val_auc)    \n",
        "\n",
        "     print(\"epoch: %s, epoch_loss: %.4f, val_auc: %.4f, lr: %.4f, best_val_auc: %.4f\"%(epoch, epoch_loss, val_auc, optimizer.lr, best_val_auc ))    "
      ],
      "metadata": {
        "colab": {
          "base_uri": "https://localhost:8080/"
        },
        "id": "H1nk8FK3Qygb",
        "outputId": "94f90bc5-72c5-4873-d895-f5463b7d35b7",
        "execution": {
          "iopub.status.busy": "2023-05-07T13:44:06.113447Z",
          "iopub.execute_input": "2023-05-07T13:44:06.114394Z",
          "iopub.status.idle": "2023-05-07T13:45:25.961757Z",
          "shell.execute_reply.started": "2023-05-07T13:44:06.114359Z",
          "shell.execute_reply": "2023-05-07T13:45:25.960212Z"
        },
        "trusted": true
      },
      "execution_count": 19,
      "outputs": [
        {
          "output_type": "stream",
          "name": "stdout",
          "text": [
            "Start Training\n",
            "------------------------------\n",
            "epoch: 0, epoch_loss: 0.2070, val_auc: 0.4227, lr: 0.1000, best_val_auc: 0.4227\n",
            "epoch: 1, epoch_loss: 0.2104, val_auc: 0.5480, lr: 0.1000, best_val_auc: 0.5480\n",
            "epoch: 2, epoch_loss: 0.1136, val_auc: 0.7018, lr: 0.1000, best_val_auc: 0.7018\n",
            "epoch: 3, epoch_loss: 0.0479, val_auc: 0.7352, lr: 0.1000, best_val_auc: 0.7352\n",
            "epoch: 4, epoch_loss: -0.0065, val_auc: 0.8287, lr: 0.1000, best_val_auc: 0.8287\n",
            "epoch: 5, epoch_loss: -0.0639, val_auc: 0.8162, lr: 0.1000, best_val_auc: 0.8287\n",
            "epoch: 6, epoch_loss: -0.0552, val_auc: 0.8170, lr: 0.1000, best_val_auc: 0.8287\n",
            "epoch: 7, epoch_loss: -0.0346, val_auc: 0.8363, lr: 0.1000, best_val_auc: 0.8363\n",
            "epoch: 8, epoch_loss: -0.0773, val_auc: 0.5940, lr: 0.1000, best_val_auc: 0.8363\n",
            "epoch: 9, epoch_loss: -0.0535, val_auc: 0.8964, lr: 0.1000, best_val_auc: 0.8964\n",
            "epoch: 10, epoch_loss: -0.0872, val_auc: 0.8814, lr: 0.1000, best_val_auc: 0.8964\n",
            "epoch: 11, epoch_loss: -0.0560, val_auc: 0.8764, lr: 0.1000, best_val_auc: 0.8964\n",
            "epoch: 12, epoch_loss: -0.0585, val_auc: 0.8889, lr: 0.1000, best_val_auc: 0.8964\n",
            "epoch: 13, epoch_loss: -0.0858, val_auc: 0.9290, lr: 0.1000, best_val_auc: 0.9290\n",
            "epoch: 14, epoch_loss: -0.0706, val_auc: 0.9098, lr: 0.1000, best_val_auc: 0.9290\n",
            "epoch: 15, epoch_loss: -0.0915, val_auc: 0.9156, lr: 0.1000, best_val_auc: 0.9290\n",
            "epoch: 16, epoch_loss: -0.1007, val_auc: 0.8613, lr: 0.1000, best_val_auc: 0.9290\n",
            "epoch: 17, epoch_loss: -0.0941, val_auc: 0.8864, lr: 0.1000, best_val_auc: 0.9290\n",
            "epoch: 18, epoch_loss: -0.0911, val_auc: 0.8580, lr: 0.1000, best_val_auc: 0.9290\n",
            "epoch: 19, epoch_loss: -0.0884, val_auc: 0.8972, lr: 0.1000, best_val_auc: 0.9290\n",
            "epoch: 20, epoch_loss: -0.0754, val_auc: 0.9081, lr: 0.1000, best_val_auc: 0.9290\n",
            "epoch: 21, epoch_loss: -0.0776, val_auc: 0.8722, lr: 0.1000, best_val_auc: 0.9290\n",
            "epoch: 22, epoch_loss: -0.0446, val_auc: 0.7836, lr: 0.1000, best_val_auc: 0.9290\n",
            "epoch: 23, epoch_loss: -0.0305, val_auc: 0.8680, lr: 0.1000, best_val_auc: 0.9290\n",
            "epoch: 24, epoch_loss: -0.0177, val_auc: 0.8120, lr: 0.1000, best_val_auc: 0.9290\n",
            "epoch: 25, epoch_loss: -0.0463, val_auc: 0.8839, lr: 0.1000, best_val_auc: 0.9290\n",
            "epoch: 26, epoch_loss: -0.0703, val_auc: 0.8421, lr: 0.1000, best_val_auc: 0.9290\n",
            "epoch: 27, epoch_loss: -0.0624, val_auc: 0.8822, lr: 0.1000, best_val_auc: 0.9290\n",
            "epoch: 28, epoch_loss: -0.0657, val_auc: 0.8981, lr: 0.1000, best_val_auc: 0.9290\n",
            "epoch: 29, epoch_loss: -0.0831, val_auc: 0.8947, lr: 0.1000, best_val_auc: 0.9290\n",
            "epoch: 30, epoch_loss: -0.0930, val_auc: 0.9165, lr: 0.1000, best_val_auc: 0.9290\n",
            "epoch: 31, epoch_loss: -0.0848, val_auc: 0.9173, lr: 0.1000, best_val_auc: 0.9290\n",
            "epoch: 32, epoch_loss: -0.0840, val_auc: 0.8655, lr: 0.1000, best_val_auc: 0.9290\n",
            "epoch: 33, epoch_loss: -0.0821, val_auc: 0.9089, lr: 0.1000, best_val_auc: 0.9290\n",
            "epoch: 34, epoch_loss: -0.0822, val_auc: 0.9006, lr: 0.1000, best_val_auc: 0.9290\n",
            "epoch: 35, epoch_loss: -0.0791, val_auc: 0.9089, lr: 0.1000, best_val_auc: 0.9290\n",
            "epoch: 36, epoch_loss: -0.0764, val_auc: 0.9181, lr: 0.1000, best_val_auc: 0.9290\n",
            "epoch: 37, epoch_loss: -0.0751, val_auc: 0.9173, lr: 0.1000, best_val_auc: 0.9290\n",
            "epoch: 38, epoch_loss: -0.0758, val_auc: 0.9198, lr: 0.1000, best_val_auc: 0.9290\n",
            "epoch: 39, epoch_loss: -0.0753, val_auc: 0.9198, lr: 0.1000, best_val_auc: 0.9290\n",
            "epoch: 40, epoch_loss: -0.0736, val_auc: 0.9215, lr: 0.1000, best_val_auc: 0.9290\n",
            "epoch: 41, epoch_loss: -0.0761, val_auc: 0.9190, lr: 0.1000, best_val_auc: 0.9290\n",
            "epoch: 42, epoch_loss: -0.0743, val_auc: 0.9206, lr: 0.1000, best_val_auc: 0.9290\n",
            "epoch: 43, epoch_loss: -0.0741, val_auc: 0.9190, lr: 0.1000, best_val_auc: 0.9290\n",
            "epoch: 44, epoch_loss: -0.0754, val_auc: 0.9206, lr: 0.1000, best_val_auc: 0.9290\n",
            "epoch: 45, epoch_loss: -0.0725, val_auc: 0.9181, lr: 0.1000, best_val_auc: 0.9290\n",
            "epoch: 46, epoch_loss: -0.0726, val_auc: 0.9215, lr: 0.1000, best_val_auc: 0.9290\n",
            "epoch: 47, epoch_loss: -0.0739, val_auc: 0.9282, lr: 0.1000, best_val_auc: 0.9290\n",
            "epoch: 48, epoch_loss: -0.0754, val_auc: 0.9181, lr: 0.1000, best_val_auc: 0.9290\n",
            "epoch: 49, epoch_loss: -0.0749, val_auc: 0.8505, lr: 0.1000, best_val_auc: 0.9290\n",
            "Reducing learning rate to 0.01000 @ T=300!\n",
            "Updating regularizer @ T=300!\n",
            "epoch: 50, epoch_loss: -0.0703, val_auc: 0.9148, lr: 0.0100, best_val_auc: 0.9290\n",
            "epoch: 51, epoch_loss: -0.0752, val_auc: 0.9240, lr: 0.0100, best_val_auc: 0.9290\n",
            "epoch: 52, epoch_loss: -0.0766, val_auc: 0.9231, lr: 0.0100, best_val_auc: 0.9290\n",
            "epoch: 53, epoch_loss: -0.0750, val_auc: 0.9215, lr: 0.0100, best_val_auc: 0.9290\n",
            "epoch: 54, epoch_loss: -0.0765, val_auc: 0.9240, lr: 0.0100, best_val_auc: 0.9290\n",
            "epoch: 55, epoch_loss: -0.0732, val_auc: 0.9256, lr: 0.0100, best_val_auc: 0.9290\n",
            "epoch: 56, epoch_loss: -0.0760, val_auc: 0.9256, lr: 0.0100, best_val_auc: 0.9290\n",
            "epoch: 57, epoch_loss: -0.0766, val_auc: 0.9256, lr: 0.0100, best_val_auc: 0.9290\n",
            "epoch: 58, epoch_loss: -0.0765, val_auc: 0.9248, lr: 0.0100, best_val_auc: 0.9290\n",
            "epoch: 59, epoch_loss: -0.0749, val_auc: 0.9265, lr: 0.0100, best_val_auc: 0.9290\n",
            "epoch: 60, epoch_loss: -0.0772, val_auc: 0.9298, lr: 0.0100, best_val_auc: 0.9298\n",
            "epoch: 61, epoch_loss: -0.0757, val_auc: 0.9340, lr: 0.0100, best_val_auc: 0.9340\n",
            "epoch: 62, epoch_loss: -0.0771, val_auc: 0.9348, lr: 0.0100, best_val_auc: 0.9348\n",
            "epoch: 63, epoch_loss: -0.0749, val_auc: 0.9290, lr: 0.0100, best_val_auc: 0.9348\n",
            "epoch: 64, epoch_loss: -0.0762, val_auc: 0.9323, lr: 0.0100, best_val_auc: 0.9348\n",
            "epoch: 65, epoch_loss: -0.0765, val_auc: 0.9332, lr: 0.0100, best_val_auc: 0.9348\n",
            "epoch: 66, epoch_loss: -0.0751, val_auc: 0.9365, lr: 0.0100, best_val_auc: 0.9365\n",
            "epoch: 67, epoch_loss: -0.0755, val_auc: 0.9323, lr: 0.0100, best_val_auc: 0.9365\n",
            "epoch: 68, epoch_loss: -0.0754, val_auc: 0.9348, lr: 0.0100, best_val_auc: 0.9365\n",
            "epoch: 69, epoch_loss: -0.0753, val_auc: 0.9315, lr: 0.0100, best_val_auc: 0.9365\n",
            "epoch: 70, epoch_loss: -0.0753, val_auc: 0.9348, lr: 0.0100, best_val_auc: 0.9365\n",
            "epoch: 71, epoch_loss: -0.0752, val_auc: 0.9340, lr: 0.0100, best_val_auc: 0.9365\n",
            "epoch: 72, epoch_loss: -0.0750, val_auc: 0.9332, lr: 0.0100, best_val_auc: 0.9365\n",
            "epoch: 73, epoch_loss: -0.0749, val_auc: 0.9332, lr: 0.0100, best_val_auc: 0.9365\n",
            "epoch: 74, epoch_loss: -0.0738, val_auc: 0.9357, lr: 0.0100, best_val_auc: 0.9365\n",
            "epoch: 75, epoch_loss: -0.0746, val_auc: 0.9348, lr: 0.0100, best_val_auc: 0.9365\n",
            "epoch: 76, epoch_loss: -0.0743, val_auc: 0.9332, lr: 0.0100, best_val_auc: 0.9365\n",
            "epoch: 77, epoch_loss: -0.0743, val_auc: 0.9348, lr: 0.0100, best_val_auc: 0.9365\n",
            "epoch: 78, epoch_loss: -0.0740, val_auc: 0.9348, lr: 0.0100, best_val_auc: 0.9365\n",
            "epoch: 79, epoch_loss: -0.0738, val_auc: 0.9365, lr: 0.0100, best_val_auc: 0.9365\n",
            "Reducing learning rate to 0.00100 @ T=480!\n",
            "Updating regularizer @ T=480!\n",
            "epoch: 80, epoch_loss: -0.0736, val_auc: 0.9348, lr: 0.0010, best_val_auc: 0.9365\n",
            "epoch: 81, epoch_loss: -0.0736, val_auc: 0.9357, lr: 0.0010, best_val_auc: 0.9365\n",
            "epoch: 82, epoch_loss: -0.0736, val_auc: 0.9357, lr: 0.0010, best_val_auc: 0.9365\n",
            "epoch: 83, epoch_loss: -0.0737, val_auc: 0.9357, lr: 0.0010, best_val_auc: 0.9365\n",
            "epoch: 84, epoch_loss: -0.0736, val_auc: 0.9357, lr: 0.0010, best_val_auc: 0.9365\n",
            "epoch: 85, epoch_loss: -0.0736, val_auc: 0.9357, lr: 0.0010, best_val_auc: 0.9365\n",
            "epoch: 86, epoch_loss: -0.0736, val_auc: 0.9357, lr: 0.0010, best_val_auc: 0.9365\n",
            "epoch: 87, epoch_loss: -0.0736, val_auc: 0.9357, lr: 0.0010, best_val_auc: 0.9365\n",
            "epoch: 88, epoch_loss: -0.0735, val_auc: 0.9357, lr: 0.0010, best_val_auc: 0.9365\n",
            "epoch: 89, epoch_loss: -0.0735, val_auc: 0.9357, lr: 0.0010, best_val_auc: 0.9365\n",
            "epoch: 90, epoch_loss: -0.0735, val_auc: 0.9357, lr: 0.0010, best_val_auc: 0.9365\n",
            "epoch: 91, epoch_loss: -0.0735, val_auc: 0.9357, lr: 0.0010, best_val_auc: 0.9365\n",
            "epoch: 92, epoch_loss: -0.0735, val_auc: 0.9357, lr: 0.0010, best_val_auc: 0.9365\n",
            "epoch: 93, epoch_loss: -0.0735, val_auc: 0.9357, lr: 0.0010, best_val_auc: 0.9365\n",
            "epoch: 94, epoch_loss: -0.0733, val_auc: 0.9357, lr: 0.0010, best_val_auc: 0.9365\n",
            "epoch: 95, epoch_loss: -0.0734, val_auc: 0.9357, lr: 0.0010, best_val_auc: 0.9365\n",
            "epoch: 96, epoch_loss: -0.0733, val_auc: 0.9365, lr: 0.0010, best_val_auc: 0.9365\n",
            "epoch: 97, epoch_loss: -0.0734, val_auc: 0.9357, lr: 0.0010, best_val_auc: 0.9365\n",
            "epoch: 98, epoch_loss: -0.0733, val_auc: 0.9357, lr: 0.0010, best_val_auc: 0.9365\n",
            "epoch: 99, epoch_loss: -0.0733, val_auc: 0.9348, lr: 0.0010, best_val_auc: 0.9365\n",
            "epoch: 100, epoch_loss: -0.0733, val_auc: 0.9357, lr: 0.0010, best_val_auc: 0.9365\n",
            "epoch: 101, epoch_loss: -0.0733, val_auc: 0.9357, lr: 0.0010, best_val_auc: 0.9365\n",
            "epoch: 102, epoch_loss: -0.0733, val_auc: 0.9357, lr: 0.0010, best_val_auc: 0.9365\n",
            "epoch: 103, epoch_loss: -0.0733, val_auc: 0.9357, lr: 0.0010, best_val_auc: 0.9365\n",
            "epoch: 104, epoch_loss: -0.0733, val_auc: 0.9357, lr: 0.0010, best_val_auc: 0.9365\n",
            "epoch: 105, epoch_loss: -0.0733, val_auc: 0.9357, lr: 0.0010, best_val_auc: 0.9365\n",
            "epoch: 106, epoch_loss: -0.0732, val_auc: 0.9357, lr: 0.0010, best_val_auc: 0.9365\n",
            "epoch: 107, epoch_loss: -0.0731, val_auc: 0.9357, lr: 0.0010, best_val_auc: 0.9365\n",
            "epoch: 108, epoch_loss: -0.0732, val_auc: 0.9357, lr: 0.0010, best_val_auc: 0.9365\n",
            "epoch: 109, epoch_loss: -0.0731, val_auc: 0.9357, lr: 0.0010, best_val_auc: 0.9365\n",
            "epoch: 110, epoch_loss: -0.0730, val_auc: 0.9357, lr: 0.0010, best_val_auc: 0.9365\n",
            "epoch: 111, epoch_loss: -0.0731, val_auc: 0.9357, lr: 0.0010, best_val_auc: 0.9365\n",
            "epoch: 112, epoch_loss: -0.0731, val_auc: 0.9348, lr: 0.0010, best_val_auc: 0.9365\n",
            "epoch: 113, epoch_loss: -0.0730, val_auc: 0.9357, lr: 0.0010, best_val_auc: 0.9365\n",
            "epoch: 114, epoch_loss: -0.0730, val_auc: 0.9348, lr: 0.0010, best_val_auc: 0.9365\n",
            "epoch: 115, epoch_loss: -0.0729, val_auc: 0.9357, lr: 0.0010, best_val_auc: 0.9365\n",
            "epoch: 116, epoch_loss: -0.0730, val_auc: 0.9357, lr: 0.0010, best_val_auc: 0.9365\n",
            "epoch: 117, epoch_loss: -0.0730, val_auc: 0.9357, lr: 0.0010, best_val_auc: 0.9365\n",
            "epoch: 118, epoch_loss: -0.0729, val_auc: 0.9357, lr: 0.0010, best_val_auc: 0.9365\n",
            "epoch: 119, epoch_loss: -0.0730, val_auc: 0.9357, lr: 0.0010, best_val_auc: 0.9365\n",
            "epoch: 120, epoch_loss: -0.0730, val_auc: 0.9357, lr: 0.0010, best_val_auc: 0.9365\n",
            "epoch: 121, epoch_loss: -0.0728, val_auc: 0.9357, lr: 0.0010, best_val_auc: 0.9365\n",
            "epoch: 122, epoch_loss: -0.0729, val_auc: 0.9357, lr: 0.0010, best_val_auc: 0.9365\n",
            "epoch: 123, epoch_loss: -0.0729, val_auc: 0.9357, lr: 0.0010, best_val_auc: 0.9365\n",
            "epoch: 124, epoch_loss: -0.0729, val_auc: 0.9357, lr: 0.0010, best_val_auc: 0.9365\n",
            "epoch: 125, epoch_loss: -0.0728, val_auc: 0.9340, lr: 0.0010, best_val_auc: 0.9365\n",
            "epoch: 126, epoch_loss: -0.0727, val_auc: 0.9348, lr: 0.0010, best_val_auc: 0.9365\n",
            "epoch: 127, epoch_loss: -0.0728, val_auc: 0.9357, lr: 0.0010, best_val_auc: 0.9365\n",
            "epoch: 128, epoch_loss: -0.0728, val_auc: 0.9357, lr: 0.0010, best_val_auc: 0.9365\n",
            "epoch: 129, epoch_loss: -0.0727, val_auc: 0.9332, lr: 0.0010, best_val_auc: 0.9365\n",
            "epoch: 130, epoch_loss: -0.0726, val_auc: 0.9357, lr: 0.0010, best_val_auc: 0.9365\n",
            "epoch: 131, epoch_loss: -0.0727, val_auc: 0.9357, lr: 0.0010, best_val_auc: 0.9365\n",
            "epoch: 132, epoch_loss: -0.0727, val_auc: 0.9357, lr: 0.0010, best_val_auc: 0.9365\n",
            "epoch: 133, epoch_loss: -0.0727, val_auc: 0.9365, lr: 0.0010, best_val_auc: 0.9365\n",
            "epoch: 134, epoch_loss: -0.0727, val_auc: 0.9357, lr: 0.0010, best_val_auc: 0.9365\n",
            "epoch: 135, epoch_loss: -0.0726, val_auc: 0.9357, lr: 0.0010, best_val_auc: 0.9365\n",
            "epoch: 136, epoch_loss: -0.0726, val_auc: 0.9348, lr: 0.0010, best_val_auc: 0.9365\n",
            "epoch: 137, epoch_loss: -0.0726, val_auc: 0.9348, lr: 0.0010, best_val_auc: 0.9365\n",
            "epoch: 138, epoch_loss: -0.0724, val_auc: 0.9348, lr: 0.0010, best_val_auc: 0.9365\n",
            "epoch: 139, epoch_loss: -0.0725, val_auc: 0.9348, lr: 0.0010, best_val_auc: 0.9365\n",
            "epoch: 140, epoch_loss: -0.0724, val_auc: 0.9357, lr: 0.0010, best_val_auc: 0.9365\n",
            "epoch: 141, epoch_loss: -0.0724, val_auc: 0.9348, lr: 0.0010, best_val_auc: 0.9365\n",
            "epoch: 142, epoch_loss: -0.0725, val_auc: 0.9357, lr: 0.0010, best_val_auc: 0.9365\n",
            "epoch: 143, epoch_loss: -0.0724, val_auc: 0.9357, lr: 0.0010, best_val_auc: 0.9365\n",
            "epoch: 144, epoch_loss: -0.0724, val_auc: 0.9357, lr: 0.0010, best_val_auc: 0.9365\n",
            "epoch: 145, epoch_loss: -0.0724, val_auc: 0.9348, lr: 0.0010, best_val_auc: 0.9365\n",
            "epoch: 146, epoch_loss: -0.0724, val_auc: 0.9357, lr: 0.0010, best_val_auc: 0.9365\n",
            "epoch: 147, epoch_loss: -0.0723, val_auc: 0.9340, lr: 0.0010, best_val_auc: 0.9365\n",
            "epoch: 148, epoch_loss: -0.0724, val_auc: 0.9348, lr: 0.0010, best_val_auc: 0.9365\n",
            "epoch: 149, epoch_loss: -0.0723, val_auc: 0.9340, lr: 0.0010, best_val_auc: 0.9365\n",
            "epoch: 150, epoch_loss: -0.0723, val_auc: 0.9357, lr: 0.0010, best_val_auc: 0.9365\n",
            "epoch: 151, epoch_loss: -0.0723, val_auc: 0.9357, lr: 0.0010, best_val_auc: 0.9365\n",
            "epoch: 152, epoch_loss: -0.0722, val_auc: 0.9348, lr: 0.0010, best_val_auc: 0.9365\n",
            "epoch: 153, epoch_loss: -0.0722, val_auc: 0.9357, lr: 0.0010, best_val_auc: 0.9365\n",
            "epoch: 154, epoch_loss: -0.0722, val_auc: 0.9357, lr: 0.0010, best_val_auc: 0.9365\n",
            "epoch: 155, epoch_loss: -0.0722, val_auc: 0.9357, lr: 0.0010, best_val_auc: 0.9365\n",
            "epoch: 156, epoch_loss: -0.0722, val_auc: 0.9357, lr: 0.0010, best_val_auc: 0.9365\n",
            "epoch: 157, epoch_loss: -0.0721, val_auc: 0.9357, lr: 0.0010, best_val_auc: 0.9365\n",
            "epoch: 158, epoch_loss: -0.0721, val_auc: 0.9357, lr: 0.0010, best_val_auc: 0.9365\n",
            "epoch: 159, epoch_loss: -0.0721, val_auc: 0.9357, lr: 0.0010, best_val_auc: 0.9365\n",
            "epoch: 160, epoch_loss: -0.0720, val_auc: 0.9357, lr: 0.0010, best_val_auc: 0.9365\n",
            "epoch: 161, epoch_loss: -0.0721, val_auc: 0.9357, lr: 0.0010, best_val_auc: 0.9365\n",
            "epoch: 162, epoch_loss: -0.0720, val_auc: 0.9357, lr: 0.0010, best_val_auc: 0.9365\n",
            "epoch: 163, epoch_loss: -0.0719, val_auc: 0.9357, lr: 0.0010, best_val_auc: 0.9365\n",
            "epoch: 164, epoch_loss: -0.0720, val_auc: 0.9357, lr: 0.0010, best_val_auc: 0.9365\n",
            "epoch: 165, epoch_loss: -0.0718, val_auc: 0.9357, lr: 0.0010, best_val_auc: 0.9365\n",
            "epoch: 166, epoch_loss: -0.0719, val_auc: 0.9357, lr: 0.0010, best_val_auc: 0.9365\n",
            "epoch: 167, epoch_loss: -0.0719, val_auc: 0.9332, lr: 0.0010, best_val_auc: 0.9365\n",
            "epoch: 168, epoch_loss: -0.0719, val_auc: 0.9357, lr: 0.0010, best_val_auc: 0.9365\n",
            "epoch: 169, epoch_loss: -0.0718, val_auc: 0.9357, lr: 0.0010, best_val_auc: 0.9365\n",
            "epoch: 170, epoch_loss: -0.0718, val_auc: 0.9357, lr: 0.0010, best_val_auc: 0.9365\n",
            "epoch: 171, epoch_loss: -0.0718, val_auc: 0.9357, lr: 0.0010, best_val_auc: 0.9365\n",
            "epoch: 172, epoch_loss: -0.0718, val_auc: 0.9340, lr: 0.0010, best_val_auc: 0.9365\n",
            "epoch: 173, epoch_loss: -0.0717, val_auc: 0.9357, lr: 0.0010, best_val_auc: 0.9365\n",
            "epoch: 174, epoch_loss: -0.0718, val_auc: 0.9348, lr: 0.0010, best_val_auc: 0.9365\n",
            "epoch: 175, epoch_loss: -0.0718, val_auc: 0.9357, lr: 0.0010, best_val_auc: 0.9365\n",
            "epoch: 176, epoch_loss: -0.0718, val_auc: 0.9348, lr: 0.0010, best_val_auc: 0.9365\n",
            "epoch: 177, epoch_loss: -0.0717, val_auc: 0.9357, lr: 0.0010, best_val_auc: 0.9365\n",
            "epoch: 178, epoch_loss: -0.0717, val_auc: 0.9357, lr: 0.0010, best_val_auc: 0.9365\n",
            "epoch: 179, epoch_loss: -0.0717, val_auc: 0.9357, lr: 0.0010, best_val_auc: 0.9365\n",
            "epoch: 180, epoch_loss: -0.0716, val_auc: 0.9357, lr: 0.0010, best_val_auc: 0.9365\n",
            "epoch: 181, epoch_loss: -0.0717, val_auc: 0.9357, lr: 0.0010, best_val_auc: 0.9365\n",
            "epoch: 182, epoch_loss: -0.0716, val_auc: 0.9357, lr: 0.0010, best_val_auc: 0.9365\n",
            "epoch: 183, epoch_loss: -0.0716, val_auc: 0.9357, lr: 0.0010, best_val_auc: 0.9365\n",
            "epoch: 184, epoch_loss: -0.0714, val_auc: 0.9323, lr: 0.0010, best_val_auc: 0.9365\n",
            "epoch: 185, epoch_loss: -0.0715, val_auc: 0.9332, lr: 0.0010, best_val_auc: 0.9365\n",
            "epoch: 186, epoch_loss: -0.0715, val_auc: 0.9357, lr: 0.0010, best_val_auc: 0.9365\n",
            "epoch: 187, epoch_loss: -0.0715, val_auc: 0.9348, lr: 0.0010, best_val_auc: 0.9365\n",
            "epoch: 188, epoch_loss: -0.0715, val_auc: 0.9357, lr: 0.0010, best_val_auc: 0.9365\n",
            "epoch: 189, epoch_loss: -0.0715, val_auc: 0.9357, lr: 0.0010, best_val_auc: 0.9365\n",
            "epoch: 191, epoch_loss: -0.0714, val_auc: 0.9365, lr: 0.0010, best_val_auc: 0.9365\n",
            "epoch: 192, epoch_loss: -0.0713, val_auc: 0.9373, lr: 0.0010, best_val_auc: 0.9373\n",
            "epoch: 193, epoch_loss: -0.0714, val_auc: 0.9365, lr: 0.0010, best_val_auc: 0.9373\n",
            "epoch: 194, epoch_loss: -0.0713, val_auc: 0.9357, lr: 0.0010, best_val_auc: 0.9373\n",
            "epoch: 195, epoch_loss: -0.0713, val_auc: 0.9357, lr: 0.0010, best_val_auc: 0.9373\n",
            "epoch: 196, epoch_loss: -0.0713, val_auc: 0.9357, lr: 0.0010, best_val_auc: 0.9373\n",
            "epoch: 197, epoch_loss: -0.0712, val_auc: 0.9357, lr: 0.0010, best_val_auc: 0.9373\n",
            "epoch: 198, epoch_loss: -0.0713, val_auc: 0.9357, lr: 0.0010, best_val_auc: 0.9373\n",
            "epoch: 199, epoch_loss: -0.0712, val_auc: 0.9357, lr: 0.0010, best_val_auc: 0.9373\n"
          ]
        }
      ]
    },
    {
      "cell_type": "markdown",
      "source": [
        "# **Testing**"
      ],
      "metadata": {
        "id": "WwLpPTjmGjIn"
      }
    },
    {
      "cell_type": "code",
      "source": [
        "# Evaluation on Test data\n",
        "\n",
        "test_pred_list = []\n",
        "test_true_list = [] \n",
        "for test_data, test_targets in test_loader:\n",
        "    test_data  = test_data.cuda()\n",
        "    test_data = test_data.expand(-1, 3, -1, -1)\n",
        "    test_pred = best_model(test_data)\n",
        "    test_pred_list.append(test_pred.cpu().detach().numpy())\n",
        "    test_true_list.append(test_targets.numpy())\n",
        "test_true = np.concatenate(test_true_list)\n",
        "test_pred = np.concatenate(test_pred_list)\n",
        "test_auc =  auc_roc_score(test_true, test_pred) \n",
        "\n",
        "test_pred_binary = (test_pred > 0.5).astype(int)\n",
        "test_accuracy = accuracy_score(test_true, test_pred_binary)\n",
        "print(\"Test AUC: %.4f, test_accuracy: %.4f\"%(test_auc, test_accuracy))      "
      ],
      "metadata": {
        "colab": {
          "base_uri": "https://localhost:8080/"
        },
        "id": "mWeZeX3C97Da",
        "outputId": "51af4e9b-15e6-46bd-91b9-53ea030e56bb",
        "execution": {
          "iopub.status.busy": "2023-05-07T13:45:26.114072Z",
          "iopub.execute_input": "2023-05-07T13:45:26.114511Z",
          "iopub.status.idle": "2023-05-07T13:45:26.361158Z",
          "shell.execute_reply.started": "2023-05-07T13:45:26.114465Z",
          "shell.execute_reply": "2023-05-07T13:45:26.359927Z"
        },
        "trusted": true
      },
      "execution_count": 20,
      "outputs": [
        {
          "output_type": "stream",
          "name": "stdout",
          "text": [
            "Test AUC: 0.9012, test_accuracy: 0.8718\n"
          ]
        }
      ]
    },
    {
      "cell_type": "code",
      "source": [
        "# Saving the best model\n",
        "state = {\n",
        "    'net': best_model.state_dict(),\n",
        "}\n",
        "\n",
        "output_root = os.path.join('./output', dataflag)\n",
        "if not os.path.exists(output_root):\n",
        "    os.makedirs(output_root)\n",
        "\n",
        "filename = dataflag + '_auc_' + str(round(test_auc,4)) + '_model.pth'\n",
        "path = os.path.join(output_root, filename)\n",
        "torch.save(state, path)"
      ],
      "metadata": {
        "id": "9bMbBNuoXPiJ"
      },
      "execution_count": 21,
      "outputs": []
    },
    {
      "cell_type": "code",
      "source": [
        "# Eval function similar to demo file\n",
        "\n",
        "def evaluate(net, test_loader):\n",
        "    # Testing AUC\n",
        "    score_list = list()\n",
        "    label_list = list()\n",
        "    for tmp_data, tmp_label in test_loader:\n",
        "        tmp_data, tmp_label = tmp_data.cuda(), tmp_label.cuda()\n",
        "        tmp_data = tmp_data.expand(-1, 3, -1, -1)        \n",
        "        tmp_score = net(tmp_data).detach().clone().cpu()\n",
        "        score_list.append(tmp_score)\n",
        "        label_list.append(tmp_label.cpu())\n",
        "    test_label = torch.cat(label_list)\n",
        "    test_score = torch.cat(score_list)\n",
        "                   \n",
        "    test_auc = metrics.roc_auc_score(test_label, test_score)                   \n",
        "    print(\"Test: %.4f\"%test_auc, flush=True)\n",
        "\n",
        "checkpoint = torch.load(path)\n",
        "final_model = ResNet18() \n",
        "final_model = final_model.cuda()\n",
        "final_model.load_state_dict(checkpoint['net'])\n",
        "evaluate(final_model, test_loader)"
      ],
      "metadata": {
        "colab": {
          "base_uri": "https://localhost:8080/"
        },
        "id": "dWvP7JR4G9yt",
        "outputId": "e448cc6b-dcb2-42ec-e064-798dbbc1ebb5",
        "execution": {
          "iopub.status.busy": "2023-05-07T13:45:26.363061Z",
          "iopub.execute_input": "2023-05-07T13:45:26.363618Z",
          "iopub.status.idle": "2023-05-07T13:45:26.581479Z",
          "shell.execute_reply.started": "2023-05-07T13:45:26.363581Z",
          "shell.execute_reply": "2023-05-07T13:45:26.580476Z"
        },
        "trusted": true
      },
      "execution_count": 22,
      "outputs": [
        {
          "output_type": "stream",
          "name": "stdout",
          "text": [
            "Test: 0.9058\n"
          ]
        }
      ]
    },
    {
      "cell_type": "code",
      "source": [],
      "metadata": {
        "id": "lL6p-jbsaK3y"
      },
      "execution_count": 22,
      "outputs": []
    }
  ]
}