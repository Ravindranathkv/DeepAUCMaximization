{
  "metadata": {
    "accelerator": "GPU",
    "colab": {
      "provenance": [],
      "machine_shape": "hm",
      "gpuType": "T4"
    },
    "kernelspec": {
      "name": "python3",
      "display_name": "Python 3",
      "language": "python"
    },
    "language_info": {
      "name": "python",
      "version": "3.10.10",
      "mimetype": "text/x-python",
      "codemirror_mode": {
        "name": "ipython",
        "version": 3
      },
      "pygments_lexer": "ipython3",
      "nbconvert_exporter": "python",
      "file_extension": ".py"
    },
    "gpuClass": "standard"
  },
  "nbformat_minor": 0,
  "nbformat": 4,
  "cells": [
    {
      "cell_type": "markdown",
      "source": [
        "## **Installing LibAUC**\n"
      ],
      "metadata": {
        "id": "efaf1543"
      }
    },
    {
      "cell_type": "code",
      "source": [
        "  ! pip install medmnist\n",
        "  ! pip install libauc==1.2.0\n",
        "  ! pip install tensorboardX\n",
        "  ! pip install acsconv"
      ],
      "metadata": {
        "id": "0hQeospBloJU",
        "execution": {
          "iopub.status.busy": "2023-05-08T12:24:26.087702Z",
          "iopub.execute_input": "2023-05-08T12:24:26.088130Z",
          "iopub.status.idle": "2023-05-08T12:24:26.095850Z",
          "shell.execute_reply.started": "2023-05-08T12:24:26.088095Z",
          "shell.execute_reply": "2023-05-08T12:24:26.093195Z"
        },
        "trusted": true,
        "colab": {
          "base_uri": "https://localhost:8080/"
        },
        "outputId": "55aa8a77-f2ab-4fd3-d25f-42c559fa3691"
      },
      "execution_count": null,
      "outputs": [
        {
          "output_type": "stream",
          "name": "stdout",
          "text": [
            "Looking in indexes: https://pypi.org/simple, https://us-python.pkg.dev/colab-wheels/public/simple/\n",
            "Collecting medmnist\n",
            "  Downloading medmnist-2.2.1-py3-none-any.whl (21 kB)\n",
            "Requirement already satisfied: numpy in /usr/local/lib/python3.10/dist-packages (from medmnist) (1.22.4)\n",
            "Requirement already satisfied: torchvision in /usr/local/lib/python3.10/dist-packages (from medmnist) (0.15.1+cu118)\n",
            "Collecting fire\n",
            "  Downloading fire-0.5.0.tar.gz (88 kB)\n",
            "\u001b[2K     \u001b[90m━━━━━━━━━━━━━━━━━━━━━━━━━━━━━━━━━━━━━━━━\u001b[0m \u001b[32m88.3/88.3 kB\u001b[0m \u001b[31m4.1 MB/s\u001b[0m eta \u001b[36m0:00:00\u001b[0m\n",
            "\u001b[?25h  Preparing metadata (setup.py) ... \u001b[?25l\u001b[?25hdone\n",
            "Requirement already satisfied: torch in /usr/local/lib/python3.10/dist-packages (from medmnist) (2.0.0+cu118)\n",
            "Requirement already satisfied: scikit-image in /usr/local/lib/python3.10/dist-packages (from medmnist) (0.19.3)\n",
            "Requirement already satisfied: Pillow in /usr/local/lib/python3.10/dist-packages (from medmnist) (8.4.0)\n",
            "Requirement already satisfied: pandas in /usr/local/lib/python3.10/dist-packages (from medmnist) (1.5.3)\n",
            "Requirement already satisfied: tqdm in /usr/local/lib/python3.10/dist-packages (from medmnist) (4.65.0)\n",
            "Requirement already satisfied: scikit-learn in /usr/local/lib/python3.10/dist-packages (from medmnist) (1.2.2)\n",
            "Requirement already satisfied: six in /usr/local/lib/python3.10/dist-packages (from fire->medmnist) (1.16.0)\n",
            "Requirement already satisfied: termcolor in /usr/local/lib/python3.10/dist-packages (from fire->medmnist) (2.3.0)\n",
            "Requirement already satisfied: pytz>=2020.1 in /usr/local/lib/python3.10/dist-packages (from pandas->medmnist) (2022.7.1)\n",
            "Requirement already satisfied: python-dateutil>=2.8.1 in /usr/local/lib/python3.10/dist-packages (from pandas->medmnist) (2.8.2)\n",
            "Requirement already satisfied: PyWavelets>=1.1.1 in /usr/local/lib/python3.10/dist-packages (from scikit-image->medmnist) (1.4.1)\n",
            "Requirement already satisfied: imageio>=2.4.1 in /usr/local/lib/python3.10/dist-packages (from scikit-image->medmnist) (2.25.1)\n",
            "Requirement already satisfied: tifffile>=2019.7.26 in /usr/local/lib/python3.10/dist-packages (from scikit-image->medmnist) (2023.4.12)\n",
            "Requirement already satisfied: networkx>=2.2 in /usr/local/lib/python3.10/dist-packages (from scikit-image->medmnist) (3.1)\n",
            "Requirement already satisfied: packaging>=20.0 in /usr/local/lib/python3.10/dist-packages (from scikit-image->medmnist) (23.1)\n",
            "Requirement already satisfied: scipy>=1.4.1 in /usr/local/lib/python3.10/dist-packages (from scikit-image->medmnist) (1.10.1)\n",
            "Requirement already satisfied: joblib>=1.1.1 in /usr/local/lib/python3.10/dist-packages (from scikit-learn->medmnist) (1.2.0)\n",
            "Requirement already satisfied: threadpoolctl>=2.0.0 in /usr/local/lib/python3.10/dist-packages (from scikit-learn->medmnist) (3.1.0)\n",
            "Requirement already satisfied: triton==2.0.0 in /usr/local/lib/python3.10/dist-packages (from torch->medmnist) (2.0.0)\n",
            "Requirement already satisfied: filelock in /usr/local/lib/python3.10/dist-packages (from torch->medmnist) (3.12.0)\n",
            "Requirement already satisfied: typing-extensions in /usr/local/lib/python3.10/dist-packages (from torch->medmnist) (4.5.0)\n",
            "Requirement already satisfied: jinja2 in /usr/local/lib/python3.10/dist-packages (from torch->medmnist) (3.1.2)\n",
            "Requirement already satisfied: sympy in /usr/local/lib/python3.10/dist-packages (from torch->medmnist) (1.11.1)\n",
            "Requirement already satisfied: cmake in /usr/local/lib/python3.10/dist-packages (from triton==2.0.0->torch->medmnist) (3.25.2)\n",
            "Requirement already satisfied: lit in /usr/local/lib/python3.10/dist-packages (from triton==2.0.0->torch->medmnist) (16.0.2)\n",
            "Requirement already satisfied: requests in /usr/local/lib/python3.10/dist-packages (from torchvision->medmnist) (2.27.1)\n",
            "Requirement already satisfied: MarkupSafe>=2.0 in /usr/local/lib/python3.10/dist-packages (from jinja2->torch->medmnist) (2.1.2)\n",
            "Requirement already satisfied: urllib3<1.27,>=1.21.1 in /usr/local/lib/python3.10/dist-packages (from requests->torchvision->medmnist) (1.26.15)\n",
            "Requirement already satisfied: charset-normalizer~=2.0.0 in /usr/local/lib/python3.10/dist-packages (from requests->torchvision->medmnist) (2.0.12)\n",
            "Requirement already satisfied: certifi>=2017.4.17 in /usr/local/lib/python3.10/dist-packages (from requests->torchvision->medmnist) (2022.12.7)\n",
            "Requirement already satisfied: idna<4,>=2.5 in /usr/local/lib/python3.10/dist-packages (from requests->torchvision->medmnist) (3.4)\n",
            "Requirement already satisfied: mpmath>=0.19 in /usr/local/lib/python3.10/dist-packages (from sympy->torch->medmnist) (1.3.0)\n",
            "Building wheels for collected packages: fire\n",
            "  Building wheel for fire (setup.py) ... \u001b[?25l\u001b[?25hdone\n",
            "  Created wheel for fire: filename=fire-0.5.0-py2.py3-none-any.whl size=116952 sha256=8be2b52d6ea41cdbb21bdde7f35bd50ae301d1f18d417de47e647746d311f8b2\n",
            "  Stored in directory: /root/.cache/pip/wheels/90/d4/f7/9404e5db0116bd4d43e5666eaa3e70ab53723e1e3ea40c9a95\n",
            "Successfully built fire\n",
            "Installing collected packages: fire, medmnist\n",
            "Successfully installed fire-0.5.0 medmnist-2.2.1\n",
            "Looking in indexes: https://pypi.org/simple, https://us-python.pkg.dev/colab-wheels/public/simple/\n",
            "Collecting libauc==1.2.0\n",
            "  Downloading libauc-1.2.0-py3-none-any.whl (73 kB)\n",
            "\u001b[2K     \u001b[90m━━━━━━━━━━━━━━━━━━━━━━━━━━━━━━━━━━━━━━━━\u001b[0m \u001b[32m73.6/73.6 kB\u001b[0m \u001b[31m2.2 MB/s\u001b[0m eta \u001b[36m0:00:00\u001b[0m\n",
            "\u001b[?25hRequirement already satisfied: pandas in /usr/local/lib/python3.10/dist-packages (from libauc==1.2.0) (1.5.3)\n",
            "Requirement already satisfied: scikit-learn in /usr/local/lib/python3.10/dist-packages (from libauc==1.2.0) (1.2.2)\n",
            "Requirement already satisfied: opencv-python in /usr/local/lib/python3.10/dist-packages (from libauc==1.2.0) (4.7.0.72)\n",
            "Requirement already satisfied: numpy in /usr/local/lib/python3.10/dist-packages (from libauc==1.2.0) (1.22.4)\n",
            "Requirement already satisfied: torch>=1.2 in /usr/local/lib/python3.10/dist-packages (from libauc==1.2.0) (2.0.0+cu118)\n",
            "Requirement already satisfied: scikit-image in /usr/local/lib/python3.10/dist-packages (from libauc==1.2.0) (0.19.3)\n",
            "Requirement already satisfied: Pillow in /usr/local/lib/python3.10/dist-packages (from libauc==1.2.0) (8.4.0)\n",
            "Requirement already satisfied: networkx in /usr/local/lib/python3.10/dist-packages (from torch>=1.2->libauc==1.2.0) (3.1)\n",
            "Requirement already satisfied: triton==2.0.0 in /usr/local/lib/python3.10/dist-packages (from torch>=1.2->libauc==1.2.0) (2.0.0)\n",
            "Requirement already satisfied: jinja2 in /usr/local/lib/python3.10/dist-packages (from torch>=1.2->libauc==1.2.0) (3.1.2)\n",
            "Requirement already satisfied: typing-extensions in /usr/local/lib/python3.10/dist-packages (from torch>=1.2->libauc==1.2.0) (4.5.0)\n",
            "Requirement already satisfied: filelock in /usr/local/lib/python3.10/dist-packages (from torch>=1.2->libauc==1.2.0) (3.12.0)\n",
            "Requirement already satisfied: sympy in /usr/local/lib/python3.10/dist-packages (from torch>=1.2->libauc==1.2.0) (1.11.1)\n",
            "Requirement already satisfied: lit in /usr/local/lib/python3.10/dist-packages (from triton==2.0.0->torch>=1.2->libauc==1.2.0) (16.0.2)\n",
            "Requirement already satisfied: cmake in /usr/local/lib/python3.10/dist-packages (from triton==2.0.0->torch>=1.2->libauc==1.2.0) (3.25.2)\n",
            "Requirement already satisfied: python-dateutil>=2.8.1 in /usr/local/lib/python3.10/dist-packages (from pandas->libauc==1.2.0) (2.8.2)\n",
            "Requirement already satisfied: pytz>=2020.1 in /usr/local/lib/python3.10/dist-packages (from pandas->libauc==1.2.0) (2022.7.1)\n",
            "Requirement already satisfied: packaging>=20.0 in /usr/local/lib/python3.10/dist-packages (from scikit-image->libauc==1.2.0) (23.1)\n",
            "Requirement already satisfied: imageio>=2.4.1 in /usr/local/lib/python3.10/dist-packages (from scikit-image->libauc==1.2.0) (2.25.1)\n",
            "Requirement already satisfied: tifffile>=2019.7.26 in /usr/local/lib/python3.10/dist-packages (from scikit-image->libauc==1.2.0) (2023.4.12)\n",
            "Requirement already satisfied: PyWavelets>=1.1.1 in /usr/local/lib/python3.10/dist-packages (from scikit-image->libauc==1.2.0) (1.4.1)\n",
            "Requirement already satisfied: scipy>=1.4.1 in /usr/local/lib/python3.10/dist-packages (from scikit-image->libauc==1.2.0) (1.10.1)\n",
            "Requirement already satisfied: joblib>=1.1.1 in /usr/local/lib/python3.10/dist-packages (from scikit-learn->libauc==1.2.0) (1.2.0)\n",
            "Requirement already satisfied: threadpoolctl>=2.0.0 in /usr/local/lib/python3.10/dist-packages (from scikit-learn->libauc==1.2.0) (3.1.0)\n",
            "Requirement already satisfied: six>=1.5 in /usr/local/lib/python3.10/dist-packages (from python-dateutil>=2.8.1->pandas->libauc==1.2.0) (1.16.0)\n",
            "Requirement already satisfied: MarkupSafe>=2.0 in /usr/local/lib/python3.10/dist-packages (from jinja2->torch>=1.2->libauc==1.2.0) (2.1.2)\n",
            "Requirement already satisfied: mpmath>=0.19 in /usr/local/lib/python3.10/dist-packages (from sympy->torch>=1.2->libauc==1.2.0) (1.3.0)\n",
            "Installing collected packages: libauc\n",
            "Successfully installed libauc-1.2.0\n",
            "Looking in indexes: https://pypi.org/simple, https://us-python.pkg.dev/colab-wheels/public/simple/\n",
            "Collecting tensorboardX\n",
            "  Downloading tensorboardX-2.6-py2.py3-none-any.whl (114 kB)\n",
            "\u001b[2K     \u001b[90m━━━━━━━━━━━━━━━━━━━━━━━━━━━━━━━━━━━━━━━\u001b[0m \u001b[32m114.5/114.5 kB\u001b[0m \u001b[31m3.8 MB/s\u001b[0m eta \u001b[36m0:00:00\u001b[0m\n",
            "\u001b[?25hRequirement already satisfied: packaging in /usr/local/lib/python3.10/dist-packages (from tensorboardX) (23.1)\n",
            "Requirement already satisfied: protobuf<4,>=3.8.0 in /usr/local/lib/python3.10/dist-packages (from tensorboardX) (3.20.3)\n",
            "Requirement already satisfied: numpy in /usr/local/lib/python3.10/dist-packages (from tensorboardX) (1.22.4)\n",
            "Installing collected packages: tensorboardX\n",
            "Successfully installed tensorboardX-2.6\n",
            "Looking in indexes: https://pypi.org/simple, https://us-python.pkg.dev/colab-wheels/public/simple/\n",
            "Collecting acsconv\n",
            "  Downloading ACSConv-0.1.1.tar.gz (15 kB)\n",
            "  Preparing metadata (setup.py) ... \u001b[?25l\u001b[?25hdone\n",
            "Requirement already satisfied: fire in /usr/local/lib/python3.10/dist-packages (from acsconv) (0.5.0)\n",
            "Requirement already satisfied: numpy in /usr/local/lib/python3.10/dist-packages (from acsconv) (1.22.4)\n",
            "Requirement already satisfied: matplotlib in /usr/local/lib/python3.10/dist-packages (from acsconv) (3.7.1)\n",
            "Requirement already satisfied: pandas in /usr/local/lib/python3.10/dist-packages (from acsconv) (1.5.3)\n",
            "Requirement already satisfied: tqdm in /usr/local/lib/python3.10/dist-packages (from acsconv) (4.65.0)\n",
            "Requirement already satisfied: scikit-image in /usr/local/lib/python3.10/dist-packages (from acsconv) (0.19.3)\n",
            "Requirement already satisfied: scikit-learn in /usr/local/lib/python3.10/dist-packages (from acsconv) (1.2.2)\n",
            "Requirement already satisfied: scipy in /usr/local/lib/python3.10/dist-packages (from acsconv) (1.10.1)\n",
            "Requirement already satisfied: tensorboardx in /usr/local/lib/python3.10/dist-packages (from acsconv) (2.6)\n",
            "Requirement already satisfied: torch in /usr/local/lib/python3.10/dist-packages (from acsconv) (2.0.0+cu118)\n",
            "Requirement already satisfied: torchvision in /usr/local/lib/python3.10/dist-packages (from acsconv) (0.15.1+cu118)\n",
            "Requirement already satisfied: termcolor in /usr/local/lib/python3.10/dist-packages (from fire->acsconv) (2.3.0)\n",
            "Requirement already satisfied: six in /usr/local/lib/python3.10/dist-packages (from fire->acsconv) (1.16.0)\n",
            "Requirement already satisfied: python-dateutil>=2.7 in /usr/local/lib/python3.10/dist-packages (from matplotlib->acsconv) (2.8.2)\n",
            "Requirement already satisfied: kiwisolver>=1.0.1 in /usr/local/lib/python3.10/dist-packages (from matplotlib->acsconv) (1.4.4)\n",
            "Requirement already satisfied: fonttools>=4.22.0 in /usr/local/lib/python3.10/dist-packages (from matplotlib->acsconv) (4.39.3)\n",
            "Requirement already satisfied: pyparsing>=2.3.1 in /usr/local/lib/python3.10/dist-packages (from matplotlib->acsconv) (3.0.9)\n",
            "Requirement already satisfied: contourpy>=1.0.1 in /usr/local/lib/python3.10/dist-packages (from matplotlib->acsconv) (1.0.7)\n",
            "Requirement already satisfied: cycler>=0.10 in /usr/local/lib/python3.10/dist-packages (from matplotlib->acsconv) (0.11.0)\n",
            "Requirement already satisfied: packaging>=20.0 in /usr/local/lib/python3.10/dist-packages (from matplotlib->acsconv) (23.1)\n",
            "Requirement already satisfied: pillow>=6.2.0 in /usr/local/lib/python3.10/dist-packages (from matplotlib->acsconv) (8.4.0)\n",
            "Requirement already satisfied: pytz>=2020.1 in /usr/local/lib/python3.10/dist-packages (from pandas->acsconv) (2022.7.1)\n",
            "Requirement already satisfied: PyWavelets>=1.1.1 in /usr/local/lib/python3.10/dist-packages (from scikit-image->acsconv) (1.4.1)\n",
            "Requirement already satisfied: imageio>=2.4.1 in /usr/local/lib/python3.10/dist-packages (from scikit-image->acsconv) (2.25.1)\n",
            "Requirement already satisfied: tifffile>=2019.7.26 in /usr/local/lib/python3.10/dist-packages (from scikit-image->acsconv) (2023.4.12)\n",
            "Requirement already satisfied: networkx>=2.2 in /usr/local/lib/python3.10/dist-packages (from scikit-image->acsconv) (3.1)\n",
            "Requirement already satisfied: joblib>=1.1.1 in /usr/local/lib/python3.10/dist-packages (from scikit-learn->acsconv) (1.2.0)\n",
            "Requirement already satisfied: threadpoolctl>=2.0.0 in /usr/local/lib/python3.10/dist-packages (from scikit-learn->acsconv) (3.1.0)\n",
            "Requirement already satisfied: protobuf<4,>=3.8.0 in /usr/local/lib/python3.10/dist-packages (from tensorboardx->acsconv) (3.20.3)\n",
            "Requirement already satisfied: jinja2 in /usr/local/lib/python3.10/dist-packages (from torch->acsconv) (3.1.2)\n",
            "Requirement already satisfied: triton==2.0.0 in /usr/local/lib/python3.10/dist-packages (from torch->acsconv) (2.0.0)\n",
            "Requirement already satisfied: sympy in /usr/local/lib/python3.10/dist-packages (from torch->acsconv) (1.11.1)\n",
            "Requirement already satisfied: filelock in /usr/local/lib/python3.10/dist-packages (from torch->acsconv) (3.12.0)\n",
            "Requirement already satisfied: typing-extensions in /usr/local/lib/python3.10/dist-packages (from torch->acsconv) (4.5.0)\n",
            "Requirement already satisfied: lit in /usr/local/lib/python3.10/dist-packages (from triton==2.0.0->torch->acsconv) (16.0.2)\n",
            "Requirement already satisfied: cmake in /usr/local/lib/python3.10/dist-packages (from triton==2.0.0->torch->acsconv) (3.25.2)\n",
            "Requirement already satisfied: requests in /usr/local/lib/python3.10/dist-packages (from torchvision->acsconv) (2.27.1)\n",
            "Requirement already satisfied: MarkupSafe>=2.0 in /usr/local/lib/python3.10/dist-packages (from jinja2->torch->acsconv) (2.1.2)\n",
            "Requirement already satisfied: idna<4,>=2.5 in /usr/local/lib/python3.10/dist-packages (from requests->torchvision->acsconv) (3.4)\n",
            "Requirement already satisfied: certifi>=2017.4.17 in /usr/local/lib/python3.10/dist-packages (from requests->torchvision->acsconv) (2022.12.7)\n",
            "Requirement already satisfied: urllib3<1.27,>=1.21.1 in /usr/local/lib/python3.10/dist-packages (from requests->torchvision->acsconv) (1.26.15)\n",
            "Requirement already satisfied: charset-normalizer~=2.0.0 in /usr/local/lib/python3.10/dist-packages (from requests->torchvision->acsconv) (2.0.12)\n",
            "Requirement already satisfied: mpmath>=0.19 in /usr/local/lib/python3.10/dist-packages (from sympy->torch->acsconv) (1.3.0)\n",
            "Building wheels for collected packages: acsconv\n",
            "  Building wheel for acsconv (setup.py) ... \u001b[?25l\u001b[?25hdone\n",
            "  Created wheel for acsconv: filename=ACSConv-0.1.1-py3-none-any.whl size=24201 sha256=d58f2d5839bae6f6e608d5cae3baa1ceea4d9a3b1cf307230b7ca0c3d1184171\n",
            "  Stored in directory: /root/.cache/pip/wheels/0e/b1/ef/43fe6db442ef60fc6a8c7f98f330672eeca58463ebef542e62\n",
            "Successfully built acsconv\n",
            "Installing collected packages: acsconv\n",
            "Successfully installed acsconv-0.1.1\n"
          ]
        }
      ]
    },
    {
      "cell_type": "markdown",
      "source": [
        "# **Importing Libraries**\n"
      ],
      "metadata": {
        "id": "TYTvudnlQMEX"
      }
    },
    {
      "cell_type": "code",
      "source": [
        "import os\n",
        "import time\n",
        "from PIL import Image\n",
        "import numpy as np\n",
        "import random\n",
        "\n",
        "from libauc.losses import AUCMLoss\n",
        "from libauc.optimizers import PESG\n",
        "from libauc.models import resnet20 as ResNet20\n",
        "from libauc.models import resnet18 as ResNet18\n",
        "from libauc.utils import ImbalancedDataGenerator\n",
        "from libauc.sampler import DualSampler\n",
        "from libauc.metrics import auc_roc_score\n",
        "\n",
        "import medmnist\n",
        "from medmnist import NoduleMNIST3D\n",
        "from medmnist import INFO, Evaluator\n",
        "import torch.utils.data as data\n",
        "\n",
        "import torch \n",
        "import torch.nn as nn\n",
        "import torchvision.transforms as transforms\n",
        "from torch.utils.data import Dataset, DataLoader\n",
        "\n",
        "from sklearn import metrics\n",
        "from sklearn.metrics import accuracy_score\n",
        "from sklearn.metrics import roc_auc_score\n",
        "from acsconv.converters import Conv3dConverter\n",
        "\n",
        "\n",
        "import warnings\n",
        "warnings.filterwarnings('ignore')"
      ],
      "metadata": {
        "id": "HBdrV5mOV9ze",
        "execution": {
          "iopub.status.busy": "2023-05-08T12:24:26.097989Z",
          "iopub.execute_input": "2023-05-08T12:24:26.098634Z",
          "iopub.status.idle": "2023-05-08T12:24:26.107209Z",
          "shell.execute_reply.started": "2023-05-08T12:24:26.098603Z",
          "shell.execute_reply": "2023-05-08T12:24:26.106353Z"
        },
        "trusted": true,
        "colab": {
          "base_uri": "https://localhost:8080/"
        },
        "outputId": "2eaba72d-fe6b-42e1-d2b7-b60241130a85"
      },
      "execution_count": null,
      "outputs": [
        {
          "output_type": "stream",
          "name": "stdout",
          "text": [
            "The ``converters`` are currently experimental. It may not support operations including (but not limited to) Functions in ``torch.nn.functional`` that involved data dimension\n"
          ]
        }
      ]
    },
    {
      "cell_type": "markdown",
      "source": [
        "## **Reproducibility**\n",
        "\n"
      ],
      "metadata": {
        "id": "c4gWa0Yisyoi"
      }
    },
    {
      "cell_type": "code",
      "source": [
        "random_seed = 42\n",
        "random.seed(random_seed)\n",
        "np.random.seed(random_seed)\n",
        "torch.manual_seed(random_seed)\n",
        "torch.backends.cudnn.deterministic = True\n",
        "torch.backends.cudnn.benchmark = False"
      ],
      "metadata": {
        "id": "glsgJdAKsyoi",
        "execution": {
          "iopub.status.busy": "2023-05-08T12:24:26.108691Z",
          "iopub.execute_input": "2023-05-08T12:24:26.109510Z",
          "iopub.status.idle": "2023-05-08T12:24:26.125020Z",
          "shell.execute_reply.started": "2023-05-08T12:24:26.109472Z",
          "shell.execute_reply": "2023-05-08T12:24:26.124049Z"
        },
        "trusted": true
      },
      "execution_count": null,
      "outputs": []
    },
    {
      "cell_type": "code",
      "source": [
        "class Transform3D:\n",
        "\n",
        "    def __init__(self, mul=None):\n",
        "        self.mul = mul\n",
        "\n",
        "    def __call__(self, voxel):\n",
        "   \n",
        "        if self.mul == '0.5':\n",
        "            voxel = voxel * 0.5\n",
        "\n",
        "        elif self.mul == 'random':\n",
        "            voxel = voxel * np.random.uniform()\n",
        "        \n",
        "        return voxel.astype(np.float32)"
      ],
      "metadata": {
        "id": "1xavOlaCV5hp",
        "execution": {
          "iopub.status.busy": "2023-05-08T12:24:26.127766Z",
          "iopub.execute_input": "2023-05-08T12:24:26.128195Z",
          "iopub.status.idle": "2023-05-08T12:24:26.136664Z",
          "shell.execute_reply.started": "2023-05-08T12:24:26.128164Z",
          "shell.execute_reply": "2023-05-08T12:24:26.135849Z"
        },
        "trusted": true
      },
      "execution_count": null,
      "outputs": []
    },
    {
      "cell_type": "markdown",
      "source": [
        "# **Paramaters**"
      ],
      "metadata": {
        "id": "YjTW36iTQ60Q"
      }
    },
    {
      "cell_type": "code",
      "source": [
        "# # HyperParameters\n",
        "\n",
        "lr = 0.1\n",
        "margin = 1.0\n",
        "epoch_decay = 0.03\n",
        "weight_decay = 0.0001\n",
        "BATCH_SIZE=128\n",
        "momentum=0.9\n",
        "shape_transform = True\n",
        "total_epochs = 100 \n",
        "decay_epochs = [50, 75]"
      ],
      "metadata": {
        "id": "STRhOR7YQ4_r",
        "execution": {
          "iopub.status.busy": "2023-05-08T12:24:26.153251Z",
          "iopub.execute_input": "2023-05-08T12:24:26.153563Z",
          "iopub.status.idle": "2023-05-08T12:24:26.167662Z",
          "shell.execute_reply.started": "2023-05-08T12:24:26.153541Z",
          "shell.execute_reply": "2023-05-08T12:24:26.166795Z"
        },
        "trusted": true
      },
      "execution_count": null,
      "outputs": []
    },
    {
      "cell_type": "markdown",
      "source": [
        "# **Loading datasets**"
      ],
      "metadata": {
        "id": "5fgzICg5Q-RE"
      }
    },
    {
      "cell_type": "code",
      "source": [
        "# Load noduleMNIST3D\n",
        "data_flag = 'nodulemnist3d'\n",
        "download = True\n",
        "as_rgb = True\n",
        "info = INFO[data_flag]\n",
        "task = info['task']\n",
        "n_channels = info['n_channels']\n",
        "n_classes = len(info['label'])\n",
        "DataClass = getattr(medmnist, info['python_class'])\n",
        "info"
      ],
      "metadata": {
        "execution": {
          "iopub.status.busy": "2023-05-08T12:24:26.252137Z",
          "iopub.execute_input": "2023-05-08T12:24:26.253183Z",
          "iopub.status.idle": "2023-05-08T12:24:26.263408Z",
          "shell.execute_reply.started": "2023-05-08T12:24:26.253150Z",
          "shell.execute_reply": "2023-05-08T12:24:26.262593Z"
        },
        "trusted": true,
        "id": "8lv-N-jnszCz",
        "outputId": "78322631-44cd-4f9d-94d5-f0fd133967da",
        "colab": {
          "base_uri": "https://localhost:8080/"
        }
      },
      "execution_count": null,
      "outputs": [
        {
          "output_type": "execute_result",
          "data": {
            "text/plain": [
              "{'python_class': 'NoduleMNIST3D',\n",
              " 'description': 'The NoduleMNIST3D is based on the LIDC-IDRI, a large public lung nodule dataset, containing images from thoracic CT scans. The dataset is designed for both lung nodule segmentation and 5-level malignancy classification task. To perform binary classification, we categorize cases with malignancy level 1/2 into negative class and 4/5 into positive class, ignoring the cases with malignancy level 3. We split the source dataset with a ratio of 7:1:2 into training, validation and test set, and center-crop the spatially normalized images (with a spacing of 1mm×1mm×1mm) into 28×28×28.',\n",
              " 'url': 'https://zenodo.org/record/6496656/files/nodulemnist3d.npz?download=1',\n",
              " 'MD5': '8755a7e9e05a4d9ce80a24c3e7a256f3',\n",
              " 'task': 'binary-class',\n",
              " 'label': {'0': 'benign', '1': 'malignant'},\n",
              " 'n_channels': 1,\n",
              " 'n_samples': {'train': 1158, 'val': 165, 'test': 310},\n",
              " 'license': 'CC BY 4.0'}"
            ]
          },
          "metadata": {},
          "execution_count": 6
        }
      ]
    },
    {
      "cell_type": "code",
      "source": [
        "# Transformations\n",
        "train_transform = Transform3D(mul='random') if shape_transform else Transform3D()\n",
        "eval_transform = Transform3D(mul='0.5') if shape_transform else Transform3D()\n",
        "\n",
        "# Define Datasets\n",
        "train_dataset = DataClass(split='train', transform=train_transform, download=download, as_rgb=as_rgb)\n",
        "train_dataset_at_eval = DataClass(split='train', transform=eval_transform, download=download, as_rgb=as_rgb)\n",
        "val_dataset = DataClass(split='val', transform=eval_transform, download=download, as_rgb=as_rgb)\n",
        "test_dataset = DataClass(split='test', transform=eval_transform, download=download, as_rgb=as_rgb)\n",
        "\n",
        "# Load data\n",
        "trainloader = data.DataLoader(dataset=train_dataset, batch_size=BATCH_SIZE, shuffle=True)\n",
        "trainloader_eval = data.DataLoader(dataset=train_dataset_at_eval, batch_size=2*BATCH_SIZE, shuffle=False)\n",
        "val_loader = data.DataLoader(dataset=val_dataset, batch_size=2*BATCH_SIZE, shuffle=False)\n",
        "testloader = data.DataLoader(dataset=test_dataset, batch_size=2*BATCH_SIZE, shuffle=False)\n"
      ],
      "metadata": {
        "colab": {
          "base_uri": "https://localhost:8080/"
        },
        "id": "UU7AV3dWWSip",
        "outputId": "3ada5fb6-ad83-491c-a0d0-0e8af7c36d0f",
        "execution": {
          "iopub.status.busy": "2023-05-08T12:24:26.264978Z",
          "iopub.execute_input": "2023-05-08T12:24:26.265860Z",
          "iopub.status.idle": "2023-05-08T12:24:26.978964Z",
          "shell.execute_reply.started": "2023-05-08T12:24:26.265831Z",
          "shell.execute_reply": "2023-05-08T12:24:26.977991Z"
        },
        "trusted": true
      },
      "execution_count": null,
      "outputs": [
        {
          "output_type": "stream",
          "name": "stdout",
          "text": [
            "Downloading https://zenodo.org/record/6496656/files/nodulemnist3d.npz?download=1 to /root/.medmnist/nodulemnist3d.npz\n"
          ]
        },
        {
          "output_type": "stream",
          "name": "stderr",
          "text": [
            "100%|██████████| 29299364/29299364 [00:21<00:00, 1347173.45it/s] \n"
          ]
        },
        {
          "output_type": "stream",
          "name": "stdout",
          "text": [
            "Using downloaded and verified file: /root/.medmnist/nodulemnist3d.npz\n",
            "Using downloaded and verified file: /root/.medmnist/nodulemnist3d.npz\n",
            "Using downloaded and verified file: /root/.medmnist/nodulemnist3d.npz\n"
          ]
        }
      ]
    },
    {
      "cell_type": "markdown",
      "source": [
        "# **Creating models & AUC Optimizer**"
      ],
      "metadata": {
        "id": "_MrH548IRDIc"
      }
    },
    {
      "cell_type": "code",
      "source": [
        "# You can include sigmoid/l2 activations on model's outputs before computing loss\n",
        "\n",
        "model = ResNet18(pretrained=False, last_activation=None) \n",
        "model.conv1 = nn.Conv2d(3, 64, kernel_size=3,stride=1, padding=1, bias=False)\n",
        "model = Conv3dConverter(model)\n",
        "model = model.cuda()\n",
        "loss_fn = AUCMLoss()\n",
        "optimizer = PESG(model, \n",
        "                 loss_fn=loss_fn,\n",
        "                 lr=lr, \n",
        "                 momentum=momentum,\n",
        "                 margin=margin, \n",
        "                 epoch_decay=epoch_decay, \n",
        "                 weight_decay=weight_decay)"
      ],
      "metadata": {
        "id": "cFxB8QblRCt5",
        "execution": {
          "iopub.status.busy": "2023-05-08T12:24:26.980567Z",
          "iopub.execute_input": "2023-05-08T12:24:26.980917Z",
          "iopub.status.idle": "2023-05-08T12:24:27.833219Z",
          "shell.execute_reply.started": "2023-05-08T12:24:26.980886Z",
          "shell.execute_reply": "2023-05-08T12:24:27.832230Z"
        },
        "trusted": true
      },
      "execution_count": null,
      "outputs": []
    },
    {
      "cell_type": "markdown",
      "source": [
        "# **Training**"
      ],
      "metadata": {
        "id": "fG5VXXEIRfw3"
      }
    },
    {
      "cell_type": "code",
      "source": [
        "print ('Start Training')\n",
        "print ('-'*30)\n",
        "\n",
        "best_val_auc = 0\n",
        "best_model = model\n",
        "\n",
        "train_log = []\n",
        "test_log = []\n",
        "\n",
        "for epoch in range(total_epochs):\n",
        "     if epoch in decay_epochs:\n",
        "         optimizer.update_regularizer(decay_factor=10) # decrease learning rate by 10x & update regularizer\n",
        "   \n",
        "     # TRAINING   \n",
        "     train_loss = []\n",
        "     model.train()    \n",
        "     for train_data, train_targets in trainloader:\n",
        "         train_data, train_targets  = train_data.cuda(), train_targets.cuda()\n",
        "         y_pred = model(train_data)\n",
        "         y_pred = torch.sigmoid(y_pred)\n",
        "         loss = loss_fn(y_pred, train_targets)\n",
        "         optimizer.zero_grad()\n",
        "         loss.backward()\n",
        "         optimizer.step()\n",
        "         train_loss.append(loss.item())\n",
        "    \n",
        "     epoch_loss = np.mean(train_loss)\n",
        "\n",
        "     # VALIDATION\n",
        "     with torch.no_grad():\n",
        "        model.eval()\n",
        "        val_pred_list = []\n",
        "        val_true_list = []\n",
        "        for val_data, val_targets in val_loader:\n",
        "            val_data  = val_data.cuda()\n",
        "            val_pred = model(val_data)\n",
        "            val_pred_list.append(val_pred.cpu().detach().numpy())\n",
        "            val_true_list.append(val_targets.numpy())\n",
        "        val_true = np.concatenate(val_true_list)\n",
        "        val_pred = np.concatenate(val_pred_list)\n",
        "        val_auc = auc_roc_score(val_true, val_pred)\n",
        "\n",
        "        val_pred_binary = (val_pred > 0.5).astype(int)\n",
        "        val_accuracy = accuracy_score(val_true, val_pred_binary)\n",
        "          \n",
        "        if best_val_auc < val_auc:\n",
        "          best_val_auc = val_auc\n",
        "          best_model = model\n",
        "\n",
        "        train_log.append(val_auc)    \n",
        "       \n",
        "\n",
        "     print(\"epoch: %s, epoch_loss: %.4f, val_auc: %.4f, lr: %.4f, best_val_auc: %.4f\"%(epoch, epoch_loss, val_auc, optimizer.lr, best_val_auc ))    "
      ],
      "metadata": {
        "colab": {
          "base_uri": "https://localhost:8080/"
        },
        "id": "H1nk8FK3Qygb",
        "outputId": "31bcb10c-255c-40ef-8b85-46d6af2e4442",
        "execution": {
          "iopub.status.busy": "2023-05-08T12:24:27.837524Z",
          "iopub.execute_input": "2023-05-08T12:24:27.838254Z",
          "iopub.status.idle": "2023-05-08T12:34:15.613132Z",
          "shell.execute_reply.started": "2023-05-08T12:24:27.838220Z",
          "shell.execute_reply": "2023-05-08T12:34:15.612199Z"
        },
        "trusted": true
      },
      "execution_count": null,
      "outputs": [
        {
          "output_type": "stream",
          "name": "stdout",
          "text": [
            "Start Training\n",
            "------------------------------\n",
            "epoch: 0, epoch_loss: 0.1523, val_auc: 0.5025, lr: 0.1000, best_val_auc: 0.5025\n",
            "epoch: 1, epoch_loss: 0.1595, val_auc: 0.5772, lr: 0.1000, best_val_auc: 0.5772\n",
            "epoch: 2, epoch_loss: 0.1403, val_auc: 0.6167, lr: 0.1000, best_val_auc: 0.6167\n",
            "epoch: 3, epoch_loss: 0.1139, val_auc: 0.8155, lr: 0.1000, best_val_auc: 0.8155\n",
            "epoch: 4, epoch_loss: 0.1007, val_auc: 0.8622, lr: 0.1000, best_val_auc: 0.8622\n",
            "epoch: 5, epoch_loss: 0.0974, val_auc: 0.6601, lr: 0.1000, best_val_auc: 0.8622\n",
            "epoch: 6, epoch_loss: 0.0990, val_auc: 0.4630, lr: 0.1000, best_val_auc: 0.8622\n",
            "epoch: 7, epoch_loss: 0.1120, val_auc: 0.8076, lr: 0.1000, best_val_auc: 0.8622\n",
            "epoch: 8, epoch_loss: 0.0763, val_auc: 0.8477, lr: 0.1000, best_val_auc: 0.8622\n",
            "epoch: 9, epoch_loss: 0.0754, val_auc: 0.8705, lr: 0.1000, best_val_auc: 0.8705\n",
            "epoch: 10, epoch_loss: 0.0663, val_auc: 0.6792, lr: 0.1000, best_val_auc: 0.8705\n",
            "epoch: 11, epoch_loss: 0.0838, val_auc: 0.8219, lr: 0.1000, best_val_auc: 0.8705\n",
            "epoch: 12, epoch_loss: 0.0711, val_auc: 0.8815, lr: 0.1000, best_val_auc: 0.8815\n",
            "epoch: 13, epoch_loss: 0.0663, val_auc: 0.8953, lr: 0.1000, best_val_auc: 0.8953\n",
            "epoch: 14, epoch_loss: 0.0516, val_auc: 0.8502, lr: 0.1000, best_val_auc: 0.8953\n",
            "epoch: 15, epoch_loss: 0.0561, val_auc: 0.8889, lr: 0.1000, best_val_auc: 0.8953\n",
            "epoch: 16, epoch_loss: 0.0510, val_auc: 0.8806, lr: 0.1000, best_val_auc: 0.8953\n",
            "epoch: 17, epoch_loss: 0.0458, val_auc: 0.8798, lr: 0.1000, best_val_auc: 0.8953\n",
            "epoch: 18, epoch_loss: 0.0405, val_auc: 0.8984, lr: 0.1000, best_val_auc: 0.8984\n",
            "epoch: 19, epoch_loss: 0.0382, val_auc: 0.7180, lr: 0.1000, best_val_auc: 0.8984\n",
            "epoch: 20, epoch_loss: 0.0618, val_auc: 0.8633, lr: 0.1000, best_val_auc: 0.8984\n",
            "epoch: 21, epoch_loss: 0.0508, val_auc: 0.8916, lr: 0.1000, best_val_auc: 0.8984\n",
            "epoch: 22, epoch_loss: 0.0422, val_auc: 0.8051, lr: 0.1000, best_val_auc: 0.8984\n",
            "epoch: 23, epoch_loss: 0.0482, val_auc: 0.8260, lr: 0.1000, best_val_auc: 0.8984\n",
            "epoch: 24, epoch_loss: 0.0279, val_auc: 0.8148, lr: 0.1000, best_val_auc: 0.8984\n",
            "epoch: 25, epoch_loss: 0.0346, val_auc: 0.8357, lr: 0.1000, best_val_auc: 0.8984\n",
            "epoch: 26, epoch_loss: 0.0427, val_auc: 0.8300, lr: 0.1000, best_val_auc: 0.8984\n",
            "epoch: 27, epoch_loss: 0.0599, val_auc: 0.7542, lr: 0.1000, best_val_auc: 0.8984\n",
            "epoch: 28, epoch_loss: 0.0760, val_auc: 0.8525, lr: 0.1000, best_val_auc: 0.8984\n",
            "epoch: 29, epoch_loss: 0.0526, val_auc: 0.6982, lr: 0.1000, best_val_auc: 0.8984\n",
            "epoch: 30, epoch_loss: 0.0530, val_auc: 0.8529, lr: 0.1000, best_val_auc: 0.8984\n",
            "epoch: 31, epoch_loss: 0.0381, val_auc: 0.8467, lr: 0.1000, best_val_auc: 0.8984\n",
            "epoch: 32, epoch_loss: 0.0315, val_auc: 0.8550, lr: 0.1000, best_val_auc: 0.8984\n",
            "epoch: 33, epoch_loss: 0.0391, val_auc: 0.7712, lr: 0.1000, best_val_auc: 0.8984\n",
            "epoch: 34, epoch_loss: 0.0341, val_auc: 0.8349, lr: 0.1000, best_val_auc: 0.8984\n",
            "epoch: 35, epoch_loss: 0.0303, val_auc: 0.7327, lr: 0.1000, best_val_auc: 0.8984\n",
            "epoch: 36, epoch_loss: 0.0550, val_auc: 0.7929, lr: 0.1000, best_val_auc: 0.8984\n",
            "epoch: 37, epoch_loss: 0.0488, val_auc: 0.8237, lr: 0.1000, best_val_auc: 0.8984\n",
            "epoch: 38, epoch_loss: 0.0290, val_auc: 0.8333, lr: 0.1000, best_val_auc: 0.8984\n",
            "epoch: 39, epoch_loss: 0.0293, val_auc: 0.8382, lr: 0.1000, best_val_auc: 0.8984\n",
            "epoch: 40, epoch_loss: 0.0244, val_auc: 0.8039, lr: 0.1000, best_val_auc: 0.8984\n",
            "epoch: 41, epoch_loss: 0.0158, val_auc: 0.8080, lr: 0.1000, best_val_auc: 0.8984\n",
            "epoch: 42, epoch_loss: 0.0178, val_auc: 0.8451, lr: 0.1000, best_val_auc: 0.8984\n",
            "epoch: 43, epoch_loss: 0.0154, val_auc: 0.8297, lr: 0.1000, best_val_auc: 0.8984\n",
            "epoch: 44, epoch_loss: 0.0166, val_auc: 0.8395, lr: 0.1000, best_val_auc: 0.8984\n",
            "epoch: 45, epoch_loss: 0.0143, val_auc: 0.8012, lr: 0.1000, best_val_auc: 0.8984\n",
            "epoch: 46, epoch_loss: 0.0363, val_auc: 0.5873, lr: 0.1000, best_val_auc: 0.8984\n",
            "epoch: 47, epoch_loss: 0.0812, val_auc: 0.6208, lr: 0.1000, best_val_auc: 0.8984\n",
            "epoch: 48, epoch_loss: 0.0816, val_auc: 0.8107, lr: 0.1000, best_val_auc: 0.8984\n",
            "epoch: 49, epoch_loss: 0.0706, val_auc: 0.7123, lr: 0.1000, best_val_auc: 0.8984\n",
            "Reducing learning rate to 0.01000 @ T=500!\n",
            "Updating regularizer @ T=500!\n",
            "epoch: 50, epoch_loss: 0.1211, val_auc: 0.8194, lr: 0.0100, best_val_auc: 0.8984\n",
            "epoch: 51, epoch_loss: 0.0706, val_auc: 0.8419, lr: 0.0100, best_val_auc: 0.8984\n",
            "epoch: 52, epoch_loss: 0.0563, val_auc: 0.8391, lr: 0.0100, best_val_auc: 0.8984\n",
            "epoch: 53, epoch_loss: 0.0524, val_auc: 0.8411, lr: 0.0100, best_val_auc: 0.8984\n",
            "epoch: 54, epoch_loss: 0.0635, val_auc: 0.8366, lr: 0.0100, best_val_auc: 0.8984\n",
            "epoch: 55, epoch_loss: 0.0611, val_auc: 0.8314, lr: 0.0100, best_val_auc: 0.8984\n",
            "epoch: 56, epoch_loss: 0.0503, val_auc: 0.8420, lr: 0.0100, best_val_auc: 0.8984\n",
            "epoch: 57, epoch_loss: 0.0397, val_auc: 0.8430, lr: 0.0100, best_val_auc: 0.8984\n",
            "epoch: 58, epoch_loss: 0.0384, val_auc: 0.8403, lr: 0.0100, best_val_auc: 0.8984\n",
            "epoch: 59, epoch_loss: 0.0413, val_auc: 0.8399, lr: 0.0100, best_val_auc: 0.8984\n",
            "epoch: 60, epoch_loss: 0.0369, val_auc: 0.8310, lr: 0.0100, best_val_auc: 0.8984\n",
            "epoch: 61, epoch_loss: 0.0331, val_auc: 0.8426, lr: 0.0100, best_val_auc: 0.8984\n",
            "epoch: 62, epoch_loss: 0.0348, val_auc: 0.8399, lr: 0.0100, best_val_auc: 0.8984\n",
            "epoch: 63, epoch_loss: 0.0278, val_auc: 0.8397, lr: 0.0100, best_val_auc: 0.8984\n",
            "epoch: 64, epoch_loss: 0.0322, val_auc: 0.8314, lr: 0.0100, best_val_auc: 0.8984\n",
            "epoch: 65, epoch_loss: 0.0293, val_auc: 0.8326, lr: 0.0100, best_val_auc: 0.8984\n",
            "epoch: 66, epoch_loss: 0.0272, val_auc: 0.8295, lr: 0.0100, best_val_auc: 0.8984\n",
            "epoch: 67, epoch_loss: 0.0209, val_auc: 0.8306, lr: 0.0100, best_val_auc: 0.8984\n",
            "epoch: 68, epoch_loss: 0.0363, val_auc: 0.8138, lr: 0.0100, best_val_auc: 0.8984\n",
            "epoch: 69, epoch_loss: 0.0254, val_auc: 0.8457, lr: 0.0100, best_val_auc: 0.8984\n",
            "epoch: 70, epoch_loss: 0.0203, val_auc: 0.8403, lr: 0.0100, best_val_auc: 0.8984\n",
            "epoch: 71, epoch_loss: 0.0201, val_auc: 0.8411, lr: 0.0100, best_val_auc: 0.8984\n",
            "epoch: 72, epoch_loss: 0.0194, val_auc: 0.8337, lr: 0.0100, best_val_auc: 0.8984\n",
            "epoch: 73, epoch_loss: 0.0205, val_auc: 0.8372, lr: 0.0100, best_val_auc: 0.8984\n",
            "epoch: 74, epoch_loss: 0.0149, val_auc: 0.8314, lr: 0.0100, best_val_auc: 0.8984\n",
            "Reducing learning rate to 0.00100 @ T=750!\n",
            "Updating regularizer @ T=750!\n",
            "epoch: 75, epoch_loss: 0.0225, val_auc: 0.8295, lr: 0.0010, best_val_auc: 0.8984\n",
            "epoch: 76, epoch_loss: 0.0286, val_auc: 0.8308, lr: 0.0010, best_val_auc: 0.8984\n",
            "epoch: 77, epoch_loss: 0.0127, val_auc: 0.8316, lr: 0.0010, best_val_auc: 0.8984\n",
            "epoch: 78, epoch_loss: 0.0155, val_auc: 0.8316, lr: 0.0010, best_val_auc: 0.8984\n",
            "epoch: 79, epoch_loss: 0.0184, val_auc: 0.8258, lr: 0.0010, best_val_auc: 0.8984\n",
            "epoch: 80, epoch_loss: 0.0136, val_auc: 0.8295, lr: 0.0010, best_val_auc: 0.8984\n",
            "epoch: 81, epoch_loss: 0.0138, val_auc: 0.8300, lr: 0.0010, best_val_auc: 0.8984\n",
            "epoch: 82, epoch_loss: 0.0152, val_auc: 0.8308, lr: 0.0010, best_val_auc: 0.8984\n",
            "epoch: 83, epoch_loss: 0.0106, val_auc: 0.8258, lr: 0.0010, best_val_auc: 0.8984\n",
            "epoch: 84, epoch_loss: 0.0161, val_auc: 0.8293, lr: 0.0010, best_val_auc: 0.8984\n",
            "epoch: 85, epoch_loss: 0.0162, val_auc: 0.8279, lr: 0.0010, best_val_auc: 0.8984\n",
            "epoch: 86, epoch_loss: 0.0127, val_auc: 0.8298, lr: 0.0010, best_val_auc: 0.8984\n",
            "epoch: 87, epoch_loss: 0.0139, val_auc: 0.8302, lr: 0.0010, best_val_auc: 0.8984\n",
            "epoch: 88, epoch_loss: 0.0130, val_auc: 0.8300, lr: 0.0010, best_val_auc: 0.8984\n",
            "epoch: 89, epoch_loss: 0.0127, val_auc: 0.8273, lr: 0.0010, best_val_auc: 0.8984\n",
            "epoch: 90, epoch_loss: 0.0114, val_auc: 0.8271, lr: 0.0010, best_val_auc: 0.8984\n",
            "epoch: 91, epoch_loss: 0.0169, val_auc: 0.8297, lr: 0.0010, best_val_auc: 0.8984\n",
            "epoch: 92, epoch_loss: 0.0120, val_auc: 0.8287, lr: 0.0010, best_val_auc: 0.8984\n",
            "epoch: 93, epoch_loss: 0.0148, val_auc: 0.8248, lr: 0.0010, best_val_auc: 0.8984\n",
            "epoch: 94, epoch_loss: 0.0133, val_auc: 0.8254, lr: 0.0010, best_val_auc: 0.8984\n",
            "epoch: 95, epoch_loss: 0.0118, val_auc: 0.8227, lr: 0.0010, best_val_auc: 0.8984\n",
            "epoch: 96, epoch_loss: 0.0129, val_auc: 0.8231, lr: 0.0010, best_val_auc: 0.8984\n",
            "epoch: 97, epoch_loss: 0.0123, val_auc: 0.8225, lr: 0.0010, best_val_auc: 0.8984\n",
            "epoch: 98, epoch_loss: 0.0115, val_auc: 0.8238, lr: 0.0010, best_val_auc: 0.8984\n",
            "epoch: 99, epoch_loss: 0.0190, val_auc: 0.8217, lr: 0.0010, best_val_auc: 0.8984\n"
          ]
        }
      ]
    },
    {
      "cell_type": "markdown",
      "source": [
        "# **Testing**"
      ],
      "metadata": {
        "id": "WwLpPTjmGjIn"
      }
    },
    {
      "cell_type": "code",
      "source": [
        "# Evaluation on Test data\n",
        "\n",
        "test_pred_list = []\n",
        "test_true_list = [] \n",
        "for test_data, test_targets in testloader:\n",
        "    test_data  = test_data.cuda()\n",
        "#     test_data = test_data.expand(-1, 3, -1, -1)\n",
        "    test_pred = best_model(test_data)\n",
        "    test_pred_list.append(test_pred.cpu().detach().numpy())\n",
        "    test_true_list.append(test_targets.numpy())\n",
        "test_true = np.concatenate(test_true_list)\n",
        "test_pred = np.concatenate(test_pred_list)\n",
        "test_auc =  auc_roc_score(test_true, test_pred) \n",
        "\n",
        "test_pred_binary = (test_pred > 0.5).astype(int)\n",
        "test_accuracy = accuracy_score(test_true, test_pred_binary)\n",
        "\n",
        "# print results\n",
        "print(\"Test AUC: %.4f, Test Accuracy: %.4f\"%(test_auc, test_accuracy))      "
      ],
      "metadata": {
        "id": "mWeZeX3C97Da",
        "execution": {
          "iopub.status.busy": "2023-05-08T12:52:10.977309Z",
          "iopub.execute_input": "2023-05-08T12:52:10.977716Z",
          "iopub.status.idle": "2023-05-08T12:52:11.676799Z",
          "shell.execute_reply.started": "2023-05-08T12:52:10.977685Z",
          "shell.execute_reply": "2023-05-08T12:52:11.675731Z"
        },
        "trusted": true,
        "colab": {
          "base_uri": "https://localhost:8080/"
        },
        "outputId": "24482d17-a8ed-4cdb-90e4-33d74703f551"
      },
      "execution_count": null,
      "outputs": [
        {
          "output_type": "stream",
          "name": "stdout",
          "text": [
            "Test AUC: 0.8901, Test Accuracy: 0.8226\n"
          ]
        }
      ]
    },
    {
      "cell_type": "code",
      "source": [
        "# Saving the best model\n",
        "state = {\n",
        "    'net': best_model.state_dict(),\n",
        "}\n",
        "\n",
        "output_root = os.path.join('./output', 'nodulemnist3d')\n",
        "if not os.path.exists(output_root):\n",
        "    os.makedirs(output_root)\n",
        "\n",
        "filename = 'nodulemnist3d' + 'auc' + str(round(test_auc,4)) + '_model.pth'\n",
        "path = os.path.join(output_root, filename)\n",
        "torch.save(state,path)"
      ],
      "metadata": {
        "id": "oEtVwe46AYLg",
        "execution": {
          "iopub.status.busy": "2023-05-08T12:53:26.870832Z",
          "iopub.execute_input": "2023-05-08T12:53:26.871194Z",
          "iopub.status.idle": "2023-05-08T12:53:27.059307Z",
          "shell.execute_reply.started": "2023-05-08T12:53:26.871163Z",
          "shell.execute_reply": "2023-05-08T12:53:27.057945Z"
        },
        "trusted": true
      },
      "execution_count": null,
      "outputs": []
    },
    {
      "cell_type": "code",
      "source": [
        "# Eval function similar to demo file\n",
        "\n",
        "def evaluate(net, test_loader):\n",
        "    # Testing AUC\n",
        "    score_list = list()\n",
        "    label_list = list()\n",
        "    for tmp_data, tmp_label in test_loader:\n",
        "        # tmp_data, tmp_label, tmp_idx = data\n",
        "        tmp_data, tmp_label = tmp_data.cuda(), tmp_label.cuda()\n",
        "#         tmp_data = tmp_data.expand(-1, 3, -1, -1)        \n",
        "        tmp_score = net(tmp_data).detach().clone().cpu()\n",
        "        score_list.append(tmp_score)\n",
        "        label_list.append(tmp_label.cpu())\n",
        "    test_label = torch.cat(label_list)\n",
        "    test_score = torch.cat(score_list)\n",
        "                   \n",
        "    test_auc = metrics.roc_auc_score(test_label, test_score)                   \n",
        "    print(\"Test: %.4f\"%test_auc, flush=True)\n",
        "\n",
        "evaluate(best_model, testloader)"
      ],
      "metadata": {
        "id": "dWvP7JR4G9yt",
        "execution": {
          "iopub.status.busy": "2023-05-08T12:52:16.539180Z",
          "iopub.execute_input": "2023-05-08T12:52:16.539719Z",
          "iopub.status.idle": "2023-05-08T12:52:17.246664Z",
          "shell.execute_reply.started": "2023-05-08T12:52:16.539688Z",
          "shell.execute_reply": "2023-05-08T12:52:17.243565Z"
        },
        "trusted": true,
        "colab": {
          "base_uri": "https://localhost:8080/"
        },
        "outputId": "6d25f35d-c322-4a79-be93-6dfd33e0e14e"
      },
      "execution_count": null,
      "outputs": [
        {
          "output_type": "stream",
          "name": "stdout",
          "text": [
            "Test: 0.8901\n"
          ]
        }
      ]
    },
    {
      "cell_type": "code",
      "source": [
        "print(path)"
      ],
      "metadata": {
        "id": "QP76VGIDzWxr",
        "colab": {
          "base_uri": "https://localhost:8080/"
        },
        "outputId": "2e391f7d-3135-4569-cc1b-85c1247ea169"
      },
      "execution_count": null,
      "outputs": [
        {
          "output_type": "stream",
          "name": "stdout",
          "text": [
            "./output/nodulemnist3d/nodulemnist3dauc0.8901_model.pth\n"
          ]
        }
      ]
    },
    {
      "cell_type": "code",
      "source": [],
      "metadata": {
        "id": "RU11qSb_gHKG"
      },
      "execution_count": null,
      "outputs": []
    }
  ]
}