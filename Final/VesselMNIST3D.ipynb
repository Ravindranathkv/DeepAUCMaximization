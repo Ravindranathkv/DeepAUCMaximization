{
  "cells": [
    {
      "attachments": {},
      "cell_type": "markdown",
      "metadata": {
        "id": "efaf1543"
      },
      "source": [
        "## **Installing LibAUC**\n"
      ]
    },
    {
      "cell_type": "code",
      "execution_count": 1,
      "metadata": {
        "colab": {
          "base_uri": "https://localhost:8080/"
        },
        "execution": {
          "iopub.execute_input": "2023-05-08T12:24:26.088130Z",
          "iopub.status.busy": "2023-05-08T12:24:26.087702Z",
          "iopub.status.idle": "2023-05-08T12:24:26.095850Z",
          "shell.execute_reply": "2023-05-08T12:24:26.093195Z",
          "shell.execute_reply.started": "2023-05-08T12:24:26.088095Z"
        },
        "id": "0hQeospBloJU",
        "outputId": "6a4a261a-e42f-47c1-82f0-0412f54b41c5",
        "trusted": true
      },
      "outputs": [
        {
          "name": "stdout",
          "output_type": "stream",
          "text": [
            "Looking in indexes: https://pypi.org/simple, https://us-python.pkg.dev/colab-wheels/public/simple/\n",
            "Collecting medmnist\n",
            "  Downloading medmnist-2.2.1-py3-none-any.whl (21 kB)\n",
            "Requirement already satisfied: numpy in /usr/local/lib/python3.10/dist-packages (from medmnist) (1.22.4)\n",
            "Requirement already satisfied: torch in /usr/local/lib/python3.10/dist-packages (from medmnist) (2.0.0+cu118)\n",
            "Requirement already satisfied: scikit-image in /usr/local/lib/python3.10/dist-packages (from medmnist) (0.19.3)\n",
            "Requirement already satisfied: pandas in /usr/local/lib/python3.10/dist-packages (from medmnist) (1.5.3)\n",
            "Collecting fire\n",
            "  Downloading fire-0.5.0.tar.gz (88 kB)\n",
            "\u001b[2K     \u001b[90m━━━━━━━━━━━━━━━━━━━━━━━━━━━━━━━━━━━━━━━━\u001b[0m \u001b[32m88.3/88.3 kB\u001b[0m \u001b[31m5.9 MB/s\u001b[0m eta \u001b[36m0:00:00\u001b[0m\n",
            "\u001b[?25h  Preparing metadata (setup.py) ... \u001b[?25l\u001b[?25hdone\n",
            "Requirement already satisfied: Pillow in /usr/local/lib/python3.10/dist-packages (from medmnist) (8.4.0)\n",
            "Requirement already satisfied: torchvision in /usr/local/lib/python3.10/dist-packages (from medmnist) (0.15.1+cu118)\n",
            "Requirement already satisfied: scikit-learn in /usr/local/lib/python3.10/dist-packages (from medmnist) (1.2.2)\n",
            "Requirement already satisfied: tqdm in /usr/local/lib/python3.10/dist-packages (from medmnist) (4.65.0)\n",
            "Requirement already satisfied: six in /usr/local/lib/python3.10/dist-packages (from fire->medmnist) (1.16.0)\n",
            "Requirement already satisfied: termcolor in /usr/local/lib/python3.10/dist-packages (from fire->medmnist) (2.3.0)\n",
            "Requirement already satisfied: pytz>=2020.1 in /usr/local/lib/python3.10/dist-packages (from pandas->medmnist) (2022.7.1)\n",
            "Requirement already satisfied: python-dateutil>=2.8.1 in /usr/local/lib/python3.10/dist-packages (from pandas->medmnist) (2.8.2)\n",
            "Requirement already satisfied: packaging>=20.0 in /usr/local/lib/python3.10/dist-packages (from scikit-image->medmnist) (23.1)\n",
            "Requirement already satisfied: networkx>=2.2 in /usr/local/lib/python3.10/dist-packages (from scikit-image->medmnist) (3.1)\n",
            "Requirement already satisfied: PyWavelets>=1.1.1 in /usr/local/lib/python3.10/dist-packages (from scikit-image->medmnist) (1.4.1)\n",
            "Requirement already satisfied: scipy>=1.4.1 in /usr/local/lib/python3.10/dist-packages (from scikit-image->medmnist) (1.10.1)\n",
            "Requirement already satisfied: imageio>=2.4.1 in /usr/local/lib/python3.10/dist-packages (from scikit-image->medmnist) (2.25.1)\n",
            "Requirement already satisfied: tifffile>=2019.7.26 in /usr/local/lib/python3.10/dist-packages (from scikit-image->medmnist) (2023.4.12)\n",
            "Requirement already satisfied: joblib>=1.1.1 in /usr/local/lib/python3.10/dist-packages (from scikit-learn->medmnist) (1.2.0)\n",
            "Requirement already satisfied: threadpoolctl>=2.0.0 in /usr/local/lib/python3.10/dist-packages (from scikit-learn->medmnist) (3.1.0)\n",
            "Requirement already satisfied: triton==2.0.0 in /usr/local/lib/python3.10/dist-packages (from torch->medmnist) (2.0.0)\n",
            "Requirement already satisfied: typing-extensions in /usr/local/lib/python3.10/dist-packages (from torch->medmnist) (4.5.0)\n",
            "Requirement already satisfied: jinja2 in /usr/local/lib/python3.10/dist-packages (from torch->medmnist) (3.1.2)\n",
            "Requirement already satisfied: sympy in /usr/local/lib/python3.10/dist-packages (from torch->medmnist) (1.11.1)\n",
            "Requirement already satisfied: filelock in /usr/local/lib/python3.10/dist-packages (from torch->medmnist) (3.12.0)\n",
            "Requirement already satisfied: lit in /usr/local/lib/python3.10/dist-packages (from triton==2.0.0->torch->medmnist) (16.0.2)\n",
            "Requirement already satisfied: cmake in /usr/local/lib/python3.10/dist-packages (from triton==2.0.0->torch->medmnist) (3.25.2)\n",
            "Requirement already satisfied: requests in /usr/local/lib/python3.10/dist-packages (from torchvision->medmnist) (2.27.1)\n",
            "Requirement already satisfied: MarkupSafe>=2.0 in /usr/local/lib/python3.10/dist-packages (from jinja2->torch->medmnist) (2.1.2)\n",
            "Requirement already satisfied: urllib3<1.27,>=1.21.1 in /usr/local/lib/python3.10/dist-packages (from requests->torchvision->medmnist) (1.26.15)\n",
            "Requirement already satisfied: idna<4,>=2.5 in /usr/local/lib/python3.10/dist-packages (from requests->torchvision->medmnist) (3.4)\n",
            "Requirement already satisfied: certifi>=2017.4.17 in /usr/local/lib/python3.10/dist-packages (from requests->torchvision->medmnist) (2022.12.7)\n",
            "Requirement already satisfied: charset-normalizer~=2.0.0 in /usr/local/lib/python3.10/dist-packages (from requests->torchvision->medmnist) (2.0.12)\n",
            "Requirement already satisfied: mpmath>=0.19 in /usr/local/lib/python3.10/dist-packages (from sympy->torch->medmnist) (1.3.0)\n",
            "Building wheels for collected packages: fire\n",
            "  Building wheel for fire (setup.py) ... \u001b[?25l\u001b[?25hdone\n",
            "  Created wheel for fire: filename=fire-0.5.0-py2.py3-none-any.whl size=116952 sha256=ec4daf033dcb8dd939582415bd447ab49c20cff428de964c35d363937197a43f\n",
            "  Stored in directory: /root/.cache/pip/wheels/90/d4/f7/9404e5db0116bd4d43e5666eaa3e70ab53723e1e3ea40c9a95\n",
            "Successfully built fire\n",
            "Installing collected packages: fire, medmnist\n",
            "Successfully installed fire-0.5.0 medmnist-2.2.1\n",
            "Looking in indexes: https://pypi.org/simple, https://us-python.pkg.dev/colab-wheels/public/simple/\n",
            "Collecting libauc==1.2.0\n",
            "  Downloading libauc-1.2.0-py3-none-any.whl (73 kB)\n",
            "\u001b[2K     \u001b[90m━━━━━━━━━━━━━━━━━━━━━━━━━━━━━━━━━━━━━━━━\u001b[0m \u001b[32m73.6/73.6 kB\u001b[0m \u001b[31m4.2 MB/s\u001b[0m eta \u001b[36m0:00:00\u001b[0m\n",
            "\u001b[?25hRequirement already satisfied: numpy in /usr/local/lib/python3.10/dist-packages (from libauc==1.2.0) (1.22.4)\n",
            "Requirement already satisfied: Pillow in /usr/local/lib/python3.10/dist-packages (from libauc==1.2.0) (8.4.0)\n",
            "Requirement already satisfied: torch>=1.2 in /usr/local/lib/python3.10/dist-packages (from libauc==1.2.0) (2.0.0+cu118)\n",
            "Requirement already satisfied: pandas in /usr/local/lib/python3.10/dist-packages (from libauc==1.2.0) (1.5.3)\n",
            "Requirement already satisfied: opencv-python in /usr/local/lib/python3.10/dist-packages (from libauc==1.2.0) (4.7.0.72)\n",
            "Requirement already satisfied: scikit-learn in /usr/local/lib/python3.10/dist-packages (from libauc==1.2.0) (1.2.2)\n",
            "Requirement already satisfied: scikit-image in /usr/local/lib/python3.10/dist-packages (from libauc==1.2.0) (0.19.3)\n",
            "Requirement already satisfied: sympy in /usr/local/lib/python3.10/dist-packages (from torch>=1.2->libauc==1.2.0) (1.11.1)\n",
            "Requirement already satisfied: networkx in /usr/local/lib/python3.10/dist-packages (from torch>=1.2->libauc==1.2.0) (3.1)\n",
            "Requirement already satisfied: jinja2 in /usr/local/lib/python3.10/dist-packages (from torch>=1.2->libauc==1.2.0) (3.1.2)\n",
            "Requirement already satisfied: filelock in /usr/local/lib/python3.10/dist-packages (from torch>=1.2->libauc==1.2.0) (3.12.0)\n",
            "Requirement already satisfied: triton==2.0.0 in /usr/local/lib/python3.10/dist-packages (from torch>=1.2->libauc==1.2.0) (2.0.0)\n",
            "Requirement already satisfied: typing-extensions in /usr/local/lib/python3.10/dist-packages (from torch>=1.2->libauc==1.2.0) (4.5.0)\n",
            "Requirement already satisfied: cmake in /usr/local/lib/python3.10/dist-packages (from triton==2.0.0->torch>=1.2->libauc==1.2.0) (3.25.2)\n",
            "Requirement already satisfied: lit in /usr/local/lib/python3.10/dist-packages (from triton==2.0.0->torch>=1.2->libauc==1.2.0) (16.0.2)\n",
            "Requirement already satisfied: python-dateutil>=2.8.1 in /usr/local/lib/python3.10/dist-packages (from pandas->libauc==1.2.0) (2.8.2)\n",
            "Requirement already satisfied: pytz>=2020.1 in /usr/local/lib/python3.10/dist-packages (from pandas->libauc==1.2.0) (2022.7.1)\n",
            "Requirement already satisfied: imageio>=2.4.1 in /usr/local/lib/python3.10/dist-packages (from scikit-image->libauc==1.2.0) (2.25.1)\n",
            "Requirement already satisfied: packaging>=20.0 in /usr/local/lib/python3.10/dist-packages (from scikit-image->libauc==1.2.0) (23.1)\n",
            "Requirement already satisfied: scipy>=1.4.1 in /usr/local/lib/python3.10/dist-packages (from scikit-image->libauc==1.2.0) (1.10.1)\n",
            "Requirement already satisfied: tifffile>=2019.7.26 in /usr/local/lib/python3.10/dist-packages (from scikit-image->libauc==1.2.0) (2023.4.12)\n",
            "Requirement already satisfied: PyWavelets>=1.1.1 in /usr/local/lib/python3.10/dist-packages (from scikit-image->libauc==1.2.0) (1.4.1)\n",
            "Requirement already satisfied: joblib>=1.1.1 in /usr/local/lib/python3.10/dist-packages (from scikit-learn->libauc==1.2.0) (1.2.0)\n",
            "Requirement already satisfied: threadpoolctl>=2.0.0 in /usr/local/lib/python3.10/dist-packages (from scikit-learn->libauc==1.2.0) (3.1.0)\n",
            "Requirement already satisfied: six>=1.5 in /usr/local/lib/python3.10/dist-packages (from python-dateutil>=2.8.1->pandas->libauc==1.2.0) (1.16.0)\n",
            "Requirement already satisfied: MarkupSafe>=2.0 in /usr/local/lib/python3.10/dist-packages (from jinja2->torch>=1.2->libauc==1.2.0) (2.1.2)\n",
            "Requirement already satisfied: mpmath>=0.19 in /usr/local/lib/python3.10/dist-packages (from sympy->torch>=1.2->libauc==1.2.0) (1.3.0)\n",
            "Installing collected packages: libauc\n",
            "Successfully installed libauc-1.2.0\n",
            "Looking in indexes: https://pypi.org/simple, https://us-python.pkg.dev/colab-wheels/public/simple/\n",
            "Collecting tensorboardX\n",
            "  Downloading tensorboardX-2.6-py2.py3-none-any.whl (114 kB)\n",
            "\u001b[2K     \u001b[90m━━━━━━━━━━━━━━━━━━━━━━━━━━━━━━━━━━━━━━\u001b[0m \u001b[32m114.5/114.5 kB\u001b[0m \u001b[31m11.5 MB/s\u001b[0m eta \u001b[36m0:00:00\u001b[0m\n",
            "\u001b[?25hRequirement already satisfied: protobuf<4,>=3.8.0 in /usr/local/lib/python3.10/dist-packages (from tensorboardX) (3.20.3)\n",
            "Requirement already satisfied: numpy in /usr/local/lib/python3.10/dist-packages (from tensorboardX) (1.22.4)\n",
            "Requirement already satisfied: packaging in /usr/local/lib/python3.10/dist-packages (from tensorboardX) (23.1)\n",
            "Installing collected packages: tensorboardX\n",
            "Successfully installed tensorboardX-2.6\n",
            "Looking in indexes: https://pypi.org/simple, https://us-python.pkg.dev/colab-wheels/public/simple/\n",
            "Collecting acsconv\n",
            "  Downloading ACSConv-0.1.1.tar.gz (15 kB)\n",
            "  Preparing metadata (setup.py) ... \u001b[?25l\u001b[?25hdone\n",
            "Requirement already satisfied: fire in /usr/local/lib/python3.10/dist-packages (from acsconv) (0.5.0)\n",
            "Requirement already satisfied: numpy in /usr/local/lib/python3.10/dist-packages (from acsconv) (1.22.4)\n",
            "Requirement already satisfied: matplotlib in /usr/local/lib/python3.10/dist-packages (from acsconv) (3.7.1)\n",
            "Requirement already satisfied: pandas in /usr/local/lib/python3.10/dist-packages (from acsconv) (1.5.3)\n",
            "Requirement already satisfied: tqdm in /usr/local/lib/python3.10/dist-packages (from acsconv) (4.65.0)\n",
            "Requirement already satisfied: scikit-image in /usr/local/lib/python3.10/dist-packages (from acsconv) (0.19.3)\n",
            "Requirement already satisfied: scikit-learn in /usr/local/lib/python3.10/dist-packages (from acsconv) (1.2.2)\n",
            "Requirement already satisfied: scipy in /usr/local/lib/python3.10/dist-packages (from acsconv) (1.10.1)\n",
            "Requirement already satisfied: tensorboardx in /usr/local/lib/python3.10/dist-packages (from acsconv) (2.6)\n",
            "Requirement already satisfied: torch in /usr/local/lib/python3.10/dist-packages (from acsconv) (2.0.0+cu118)\n",
            "Requirement already satisfied: torchvision in /usr/local/lib/python3.10/dist-packages (from acsconv) (0.15.1+cu118)\n",
            "Requirement already satisfied: six in /usr/local/lib/python3.10/dist-packages (from fire->acsconv) (1.16.0)\n",
            "Requirement already satisfied: termcolor in /usr/local/lib/python3.10/dist-packages (from fire->acsconv) (2.3.0)\n",
            "Requirement already satisfied: pyparsing>=2.3.1 in /usr/local/lib/python3.10/dist-packages (from matplotlib->acsconv) (3.0.9)\n",
            "Requirement already satisfied: packaging>=20.0 in /usr/local/lib/python3.10/dist-packages (from matplotlib->acsconv) (23.1)\n",
            "Requirement already satisfied: python-dateutil>=2.7 in /usr/local/lib/python3.10/dist-packages (from matplotlib->acsconv) (2.8.2)\n",
            "Requirement already satisfied: cycler>=0.10 in /usr/local/lib/python3.10/dist-packages (from matplotlib->acsconv) (0.11.0)\n",
            "Requirement already satisfied: fonttools>=4.22.0 in /usr/local/lib/python3.10/dist-packages (from matplotlib->acsconv) (4.39.3)\n",
            "Requirement already satisfied: contourpy>=1.0.1 in /usr/local/lib/python3.10/dist-packages (from matplotlib->acsconv) (1.0.7)\n",
            "Requirement already satisfied: pillow>=6.2.0 in /usr/local/lib/python3.10/dist-packages (from matplotlib->acsconv) (8.4.0)\n",
            "Requirement already satisfied: kiwisolver>=1.0.1 in /usr/local/lib/python3.10/dist-packages (from matplotlib->acsconv) (1.4.4)\n",
            "Requirement already satisfied: pytz>=2020.1 in /usr/local/lib/python3.10/dist-packages (from pandas->acsconv) (2022.7.1)\n",
            "Requirement already satisfied: PyWavelets>=1.1.1 in /usr/local/lib/python3.10/dist-packages (from scikit-image->acsconv) (1.4.1)\n",
            "Requirement already satisfied: imageio>=2.4.1 in /usr/local/lib/python3.10/dist-packages (from scikit-image->acsconv) (2.25.1)\n",
            "Requirement already satisfied: tifffile>=2019.7.26 in /usr/local/lib/python3.10/dist-packages (from scikit-image->acsconv) (2023.4.12)\n",
            "Requirement already satisfied: networkx>=2.2 in /usr/local/lib/python3.10/dist-packages (from scikit-image->acsconv) (3.1)\n",
            "Requirement already satisfied: joblib>=1.1.1 in /usr/local/lib/python3.10/dist-packages (from scikit-learn->acsconv) (1.2.0)\n",
            "Requirement already satisfied: threadpoolctl>=2.0.0 in /usr/local/lib/python3.10/dist-packages (from scikit-learn->acsconv) (3.1.0)\n",
            "Requirement already satisfied: protobuf<4,>=3.8.0 in /usr/local/lib/python3.10/dist-packages (from tensorboardx->acsconv) (3.20.3)\n",
            "Requirement already satisfied: typing-extensions in /usr/local/lib/python3.10/dist-packages (from torch->acsconv) (4.5.0)\n",
            "Requirement already satisfied: sympy in /usr/local/lib/python3.10/dist-packages (from torch->acsconv) (1.11.1)\n",
            "Requirement already satisfied: filelock in /usr/local/lib/python3.10/dist-packages (from torch->acsconv) (3.12.0)\n",
            "Requirement already satisfied: jinja2 in /usr/local/lib/python3.10/dist-packages (from torch->acsconv) (3.1.2)\n",
            "Requirement already satisfied: triton==2.0.0 in /usr/local/lib/python3.10/dist-packages (from torch->acsconv) (2.0.0)\n",
            "Requirement already satisfied: cmake in /usr/local/lib/python3.10/dist-packages (from triton==2.0.0->torch->acsconv) (3.25.2)\n",
            "Requirement already satisfied: lit in /usr/local/lib/python3.10/dist-packages (from triton==2.0.0->torch->acsconv) (16.0.2)\n",
            "Requirement already satisfied: requests in /usr/local/lib/python3.10/dist-packages (from torchvision->acsconv) (2.27.1)\n",
            "Requirement already satisfied: MarkupSafe>=2.0 in /usr/local/lib/python3.10/dist-packages (from jinja2->torch->acsconv) (2.1.2)\n",
            "Requirement already satisfied: charset-normalizer~=2.0.0 in /usr/local/lib/python3.10/dist-packages (from requests->torchvision->acsconv) (2.0.12)\n",
            "Requirement already satisfied: certifi>=2017.4.17 in /usr/local/lib/python3.10/dist-packages (from requests->torchvision->acsconv) (2022.12.7)\n",
            "Requirement already satisfied: idna<4,>=2.5 in /usr/local/lib/python3.10/dist-packages (from requests->torchvision->acsconv) (3.4)\n",
            "Requirement already satisfied: urllib3<1.27,>=1.21.1 in /usr/local/lib/python3.10/dist-packages (from requests->torchvision->acsconv) (1.26.15)\n",
            "Requirement already satisfied: mpmath>=0.19 in /usr/local/lib/python3.10/dist-packages (from sympy->torch->acsconv) (1.3.0)\n",
            "Building wheels for collected packages: acsconv\n",
            "  Building wheel for acsconv (setup.py) ... \u001b[?25l\u001b[?25hdone\n",
            "  Created wheel for acsconv: filename=ACSConv-0.1.1-py3-none-any.whl size=24201 sha256=04a139431f3341f2e4ca779bfcef35b67d8976bd84a07e2aa888c5ea59f04d71\n",
            "  Stored in directory: /root/.cache/pip/wheels/0e/b1/ef/43fe6db442ef60fc6a8c7f98f330672eeca58463ebef542e62\n",
            "Successfully built acsconv\n",
            "Installing collected packages: acsconv\n",
            "Successfully installed acsconv-0.1.1\n"
          ]
        }
      ],
      "source": [
        "  ! pip install medmnist\n",
        "  ! pip install libauc==1.2.0\n",
        "  ! pip install tensorboardX\n",
        "  ! pip install acsconv"
      ]
    },
    {
      "attachments": {},
      "cell_type": "markdown",
      "metadata": {
        "id": "TYTvudnlQMEX"
      },
      "source": [
        "# **Importing Libraries**\n"
      ]
    },
    {
      "cell_type": "code",
      "execution_count": 2,
      "metadata": {
        "colab": {
          "base_uri": "https://localhost:8080/"
        },
        "execution": {
          "iopub.execute_input": "2023-05-08T12:24:26.098634Z",
          "iopub.status.busy": "2023-05-08T12:24:26.097989Z",
          "iopub.status.idle": "2023-05-08T12:24:26.107209Z",
          "shell.execute_reply": "2023-05-08T12:24:26.106353Z",
          "shell.execute_reply.started": "2023-05-08T12:24:26.098603Z"
        },
        "id": "HBdrV5mOV9ze",
        "outputId": "ab8bad33-bd84-45cb-e0a2-5c85eb072762",
        "trusted": true
      },
      "outputs": [
        {
          "name": "stdout",
          "output_type": "stream",
          "text": [
            "The ``converters`` are currently experimental. It may not support operations including (but not limited to) Functions in ``torch.nn.functional`` that involved data dimension\n"
          ]
        }
      ],
      "source": [
        "import os\n",
        "import time\n",
        "from PIL import Image\n",
        "import numpy as np\n",
        "import random\n",
        "\n",
        "from libauc.losses import AUCMLoss\n",
        "from libauc.optimizers import PESG\n",
        "from libauc.models import resnet20 as ResNet20\n",
        "from libauc.models import resnet18 as ResNet18\n",
        "from libauc.utils import ImbalancedDataGenerator\n",
        "from libauc.sampler import DualSampler\n",
        "from libauc.metrics import auc_roc_score\n",
        "\n",
        "import medmnist\n",
        "from medmnist import VesselMNIST3D\n",
        "from medmnist import INFO, Evaluator\n",
        "import torch.utils.data as data\n",
        "\n",
        "import torch \n",
        "import torch.nn as nn\n",
        "import torchvision.transforms as transforms\n",
        "from torch.utils.data import Dataset, DataLoader\n",
        "\n",
        "from sklearn import metrics\n",
        "from sklearn.metrics import accuracy_score\n",
        "from sklearn.metrics import roc_auc_score\n",
        "from acsconv.converters import Conv3dConverter\n",
        "\n",
        "\n",
        "import warnings\n",
        "warnings.filterwarnings('ignore')"
      ]
    },
    {
      "attachments": {},
      "cell_type": "markdown",
      "metadata": {
        "id": "c4gWa0Yisyoi"
      },
      "source": [
        "## **Reproducibility**\n",
        "\n"
      ]
    },
    {
      "cell_type": "code",
      "execution_count": 3,
      "metadata": {
        "execution": {
          "iopub.execute_input": "2023-05-08T12:24:26.109510Z",
          "iopub.status.busy": "2023-05-08T12:24:26.108691Z",
          "iopub.status.idle": "2023-05-08T12:24:26.125020Z",
          "shell.execute_reply": "2023-05-08T12:24:26.124049Z",
          "shell.execute_reply.started": "2023-05-08T12:24:26.109472Z"
        },
        "id": "glsgJdAKsyoi",
        "trusted": true
      },
      "outputs": [],
      "source": [
        "random_seed = 42\n",
        "random.seed(random_seed)\n",
        "np.random.seed(random_seed)\n",
        "torch.manual_seed(random_seed)\n",
        "torch.backends.cudnn.deterministic = True\n",
        "torch.backends.cudnn.benchmark = False"
      ]
    },
    {
      "cell_type": "code",
      "execution_count": 4,
      "metadata": {
        "execution": {
          "iopub.execute_input": "2023-05-08T12:24:26.128195Z",
          "iopub.status.busy": "2023-05-08T12:24:26.127766Z",
          "iopub.status.idle": "2023-05-08T12:24:26.136664Z",
          "shell.execute_reply": "2023-05-08T12:24:26.135849Z",
          "shell.execute_reply.started": "2023-05-08T12:24:26.128164Z"
        },
        "id": "1xavOlaCV5hp",
        "trusted": true
      },
      "outputs": [],
      "source": [
        "class Transform3D:\n",
        "\n",
        "    def __init__(self, mul=None):\n",
        "        self.mul = mul\n",
        "\n",
        "    def __call__(self, voxel):\n",
        "   \n",
        "        if self.mul == '0.5':\n",
        "            voxel = voxel * 0.5\n",
        "\n",
        "        elif self.mul == 'random':\n",
        "            voxel = voxel * np.random.uniform()\n",
        "        \n",
        "        return voxel.astype(np.float32)"
      ]
    },
    {
      "attachments": {},
      "cell_type": "markdown",
      "metadata": {
        "id": "YjTW36iTQ60Q"
      },
      "source": [
        "# **Paramaters**"
      ]
    },
    {
      "cell_type": "code",
      "execution_count": 18,
      "metadata": {
        "execution": {
          "iopub.execute_input": "2023-05-08T12:24:26.153563Z",
          "iopub.status.busy": "2023-05-08T12:24:26.153251Z",
          "iopub.status.idle": "2023-05-08T12:24:26.167662Z",
          "shell.execute_reply": "2023-05-08T12:24:26.166795Z",
          "shell.execute_reply.started": "2023-05-08T12:24:26.153541Z"
        },
        "id": "STRhOR7YQ4_r",
        "trusted": true
      },
      "outputs": [],
      "source": [
        "# # HyperParameters\n",
        "\n",
        "lr = 0.01\n",
        "margin = 1.0\n",
        "epoch_decay = 0.03\n",
        "weight_decay = 0.0001\n",
        "BATCH_SIZE=128\n",
        "momentum=0.9\n",
        "shape_transform = True\n",
        "total_epochs = 30 \n",
        "decay_epochs = [50, 75]"
      ]
    },
    {
      "attachments": {},
      "cell_type": "markdown",
      "metadata": {
        "id": "5fgzICg5Q-RE"
      },
      "source": [
        "# **Loading datasets**"
      ]
    },
    {
      "cell_type": "code",
      "execution_count": 19,
      "metadata": {
        "colab": {
          "base_uri": "https://localhost:8080/"
        },
        "execution": {
          "iopub.execute_input": "2023-05-08T12:24:26.253183Z",
          "iopub.status.busy": "2023-05-08T12:24:26.252137Z",
          "iopub.status.idle": "2023-05-08T12:24:26.263408Z",
          "shell.execute_reply": "2023-05-08T12:24:26.262593Z",
          "shell.execute_reply.started": "2023-05-08T12:24:26.253150Z"
        },
        "id": "8lv-N-jnszCz",
        "outputId": "46b31ac8-bdea-4102-954e-2a68833723ef",
        "trusted": true
      },
      "outputs": [
        {
          "data": {
            "text/plain": [
              "{'python_class': 'VesselMNIST3D',\n",
              " 'description': 'The VesselMNIST3D is based on an open-access 3D intracranial aneurysm dataset, IntrA, containing 103 3D models (meshes) of entire brain vessels collected by reconstructing MRA images. 1,694 healthy vessel segments and 215 aneurysm segments are generated automatically from the complete models. We fix the non-watertight mesh with PyMeshFix and voxelize the watertight mesh with trimesh into 28×28×28 voxels. We split the source dataset with a ratio of 7:1:2 into training, validation and test set.',\n",
              " 'url': 'https://zenodo.org/record/6496656/files/vesselmnist3d.npz?download=1',\n",
              " 'MD5': '2ba5b80617d705141f3f85627108fce8',\n",
              " 'task': 'binary-class',\n",
              " 'label': {'0': 'vessel', '1': 'aneurysm'},\n",
              " 'n_channels': 1,\n",
              " 'n_samples': {'train': 1335, 'val': 192, 'test': 382},\n",
              " 'license': 'CC BY 4.0'}"
            ]
          },
          "execution_count": 19,
          "metadata": {},
          "output_type": "execute_result"
        }
      ],
      "source": [
        "# Load VesselMNIST3D\n",
        "data_flag = 'vesselmnist3d'\n",
        "download = True\n",
        "as_rgb = True\n",
        "info = INFO[data_flag]\n",
        "task = info['task']\n",
        "n_channels = info['n_channels']\n",
        "n_classes = len(info['label'])\n",
        "DataClass = getattr(medmnist, info['python_class'])\n",
        "info"
      ]
    },
    {
      "cell_type": "code",
      "execution_count": 20,
      "metadata": {
        "colab": {
          "base_uri": "https://localhost:8080/"
        },
        "execution": {
          "iopub.execute_input": "2023-05-08T12:24:26.265860Z",
          "iopub.status.busy": "2023-05-08T12:24:26.264978Z",
          "iopub.status.idle": "2023-05-08T12:24:26.978964Z",
          "shell.execute_reply": "2023-05-08T12:24:26.977991Z",
          "shell.execute_reply.started": "2023-05-08T12:24:26.265831Z"
        },
        "id": "UU7AV3dWWSip",
        "outputId": "307c48ea-7aca-41bc-ee88-11d1edc34045",
        "trusted": true
      },
      "outputs": [
        {
          "name": "stdout",
          "output_type": "stream",
          "text": [
            "Using downloaded and verified file: /root/.medmnist/vesselmnist3d.npz\n",
            "Using downloaded and verified file: /root/.medmnist/vesselmnist3d.npz\n",
            "Using downloaded and verified file: /root/.medmnist/vesselmnist3d.npz\n",
            "Using downloaded and verified file: /root/.medmnist/vesselmnist3d.npz\n"
          ]
        }
      ],
      "source": [
        "# Transformations\n",
        "train_transform = Transform3D(mul='random') if shape_transform else Transform3D()\n",
        "eval_transform = Transform3D(mul='0.5') if shape_transform else Transform3D()\n",
        "\n",
        "# Define Datasets\n",
        "train_dataset = DataClass(split='train', transform=train_transform, download=download, as_rgb=as_rgb)\n",
        "train_dataset_at_eval = DataClass(split='train', transform=eval_transform, download=download, as_rgb=as_rgb)\n",
        "val_dataset = DataClass(split='val', transform=eval_transform, download=download, as_rgb=as_rgb)\n",
        "test_dataset = DataClass(split='test', transform=eval_transform, download=download, as_rgb=as_rgb)\n",
        "\n",
        "# Load data\n",
        "trainloader = data.DataLoader(dataset=train_dataset, batch_size=BATCH_SIZE, shuffle=True)\n",
        "trainloader_eval = data.DataLoader(dataset=train_dataset_at_eval, batch_size=2*BATCH_SIZE, shuffle=False)\n",
        "val_loader = data.DataLoader(dataset=val_dataset, batch_size=2*BATCH_SIZE, shuffle=False)\n",
        "testloader = data.DataLoader(dataset=test_dataset, batch_size=2*BATCH_SIZE, shuffle=False)\n"
      ]
    },
    {
      "attachments": {},
      "cell_type": "markdown",
      "metadata": {
        "id": "_MrH548IRDIc"
      },
      "source": [
        "# **Creating models & AUC Optimizer**"
      ]
    },
    {
      "cell_type": "code",
      "execution_count": 21,
      "metadata": {
        "execution": {
          "iopub.execute_input": "2023-05-08T12:24:26.980917Z",
          "iopub.status.busy": "2023-05-08T12:24:26.980567Z",
          "iopub.status.idle": "2023-05-08T12:24:27.833219Z",
          "shell.execute_reply": "2023-05-08T12:24:27.832230Z",
          "shell.execute_reply.started": "2023-05-08T12:24:26.980886Z"
        },
        "id": "cFxB8QblRCt5",
        "trusted": true
      },
      "outputs": [],
      "source": [
        "# You can include sigmoid/l2 activations on model's outputs before computing loss\n",
        "\n",
        "model = ResNet18(pretrained=False, last_activation=None) \n",
        "model.conv1 = nn.Conv2d(3, 64, kernel_size=3,stride=1, padding=1, bias=False)\n",
        "model = Conv3dConverter(model)\n",
        "model = model.cuda()\n",
        "loss_fn = AUCMLoss()\n",
        "optimizer = PESG(model, \n",
        "                 loss_fn=loss_fn,\n",
        "                 lr=lr, \n",
        "                 momentum=momentum,\n",
        "                 margin=margin, \n",
        "                 epoch_decay=epoch_decay, \n",
        "                 weight_decay=weight_decay)"
      ]
    },
    {
      "attachments": {},
      "cell_type": "markdown",
      "metadata": {
        "id": "fG5VXXEIRfw3"
      },
      "source": [
        "# **Training**"
      ]
    },
    {
      "cell_type": "code",
      "execution_count": 22,
      "metadata": {
        "colab": {
          "base_uri": "https://localhost:8080/"
        },
        "execution": {
          "iopub.execute_input": "2023-05-08T12:24:27.838254Z",
          "iopub.status.busy": "2023-05-08T12:24:27.837524Z",
          "iopub.status.idle": "2023-05-08T12:34:15.613132Z",
          "shell.execute_reply": "2023-05-08T12:34:15.612199Z",
          "shell.execute_reply.started": "2023-05-08T12:24:27.838220Z"
        },
        "id": "H1nk8FK3Qygb",
        "outputId": "c7876423-290a-4651-87d5-6088d0284ff8",
        "trusted": true
      },
      "outputs": [
        {
          "name": "stdout",
          "output_type": "stream",
          "text": [
            "Start Training\n",
            "------------------------------\n",
            "epoch: 0, epoch_loss: 0.0374, val_auc: 0.4072, lr: 0.0100, best_val_auc: 0.4072\n",
            "epoch: 1, epoch_loss: 0.0563, val_auc: 0.4112, lr: 0.0100, best_val_auc: 0.4112\n",
            "epoch: 2, epoch_loss: 0.0702, val_auc: 0.5556, lr: 0.0100, best_val_auc: 0.5556\n",
            "epoch: 3, epoch_loss: 0.0809, val_auc: 0.6259, lr: 0.0100, best_val_auc: 0.6259\n",
            "epoch: 4, epoch_loss: 0.0845, val_auc: 0.7072, lr: 0.0100, best_val_auc: 0.7072\n",
            "epoch: 5, epoch_loss: 0.0887, val_auc: 0.7912, lr: 0.0100, best_val_auc: 0.7912\n",
            "epoch: 6, epoch_loss: 0.0907, val_auc: 0.8120, lr: 0.0100, best_val_auc: 0.8120\n",
            "epoch: 7, epoch_loss: 0.0882, val_auc: 0.8128, lr: 0.0100, best_val_auc: 0.8128\n",
            "epoch: 8, epoch_loss: 0.0857, val_auc: 0.8155, lr: 0.0100, best_val_auc: 0.8155\n",
            "epoch: 9, epoch_loss: 0.0830, val_auc: 0.8265, lr: 0.0100, best_val_auc: 0.8265\n",
            "epoch: 10, epoch_loss: 0.0774, val_auc: 0.8382, lr: 0.0100, best_val_auc: 0.8382\n",
            "epoch: 11, epoch_loss: 0.0791, val_auc: 0.8449, lr: 0.0100, best_val_auc: 0.8449\n",
            "epoch: 12, epoch_loss: 0.0687, val_auc: 0.8529, lr: 0.0100, best_val_auc: 0.8529\n",
            "epoch: 13, epoch_loss: 0.0681, val_auc: 0.8444, lr: 0.0100, best_val_auc: 0.8529\n",
            "epoch: 14, epoch_loss: 0.0634, val_auc: 0.8457, lr: 0.0100, best_val_auc: 0.8529\n",
            "epoch: 15, epoch_loss: 0.0576, val_auc: 0.8527, lr: 0.0100, best_val_auc: 0.8529\n",
            "epoch: 16, epoch_loss: 0.0549, val_auc: 0.8519, lr: 0.0100, best_val_auc: 0.8529\n",
            "epoch: 17, epoch_loss: 0.0472, val_auc: 0.8567, lr: 0.0100, best_val_auc: 0.8567\n",
            "epoch: 18, epoch_loss: 0.0451, val_auc: 0.8650, lr: 0.0100, best_val_auc: 0.8650\n",
            "epoch: 19, epoch_loss: 0.0378, val_auc: 0.8735, lr: 0.0100, best_val_auc: 0.8735\n",
            "epoch: 20, epoch_loss: 0.0326, val_auc: 0.8690, lr: 0.0100, best_val_auc: 0.8735\n",
            "epoch: 21, epoch_loss: 0.0313, val_auc: 0.8786, lr: 0.0100, best_val_auc: 0.8786\n",
            "epoch: 22, epoch_loss: 0.0244, val_auc: 0.8848, lr: 0.0100, best_val_auc: 0.8848\n",
            "epoch: 23, epoch_loss: 0.0212, val_auc: 0.8906, lr: 0.0100, best_val_auc: 0.8906\n",
            "epoch: 24, epoch_loss: 0.0167, val_auc: 0.8928, lr: 0.0100, best_val_auc: 0.8928\n",
            "epoch: 25, epoch_loss: 0.0152, val_auc: 0.8917, lr: 0.0100, best_val_auc: 0.8928\n",
            "epoch: 26, epoch_loss: 0.0090, val_auc: 0.8957, lr: 0.0100, best_val_auc: 0.8957\n",
            "epoch: 27, epoch_loss: 0.0127, val_auc: 0.8837, lr: 0.0100, best_val_auc: 0.8957\n",
            "epoch: 28, epoch_loss: 0.0106, val_auc: 0.8842, lr: 0.0100, best_val_auc: 0.8957\n",
            "epoch: 29, epoch_loss: 0.0074, val_auc: 0.8968, lr: 0.0100, best_val_auc: 0.8968\n"
          ]
        }
      ],
      "source": [
        "print ('Start Training')\n",
        "print ('-'*30)\n",
        "\n",
        "best_val_auc = 0\n",
        "best_model = model\n",
        "\n",
        "train_log = []\n",
        "test_log = []\n",
        "\n",
        "for epoch in range(total_epochs):\n",
        "     if epoch in decay_epochs:\n",
        "         optimizer.update_regularizer(decay_factor=10) # decrease learning rate by 10x & update regularizer\n",
        "   \n",
        "     # TRAINING   \n",
        "     train_loss = []\n",
        "     model.train()    \n",
        "     for train_data, train_targets in trainloader:\n",
        "         train_data, train_targets  = train_data.cuda(), train_targets.cuda()\n",
        "         y_pred = model(train_data)\n",
        "         y_pred = torch.sigmoid(y_pred)\n",
        "         loss = loss_fn(y_pred, train_targets)\n",
        "         optimizer.zero_grad()\n",
        "         loss.backward()\n",
        "         optimizer.step()\n",
        "         train_loss.append(loss.item())\n",
        "    \n",
        "     epoch_loss = np.mean(train_loss)\n",
        "\n",
        "     # VALIDATION\n",
        "     with torch.no_grad():\n",
        "        model.eval()\n",
        "        val_pred_list = []\n",
        "        val_true_list = []\n",
        "        for val_data, val_targets in val_loader:\n",
        "            val_data  = val_data.cuda()\n",
        "            val_pred = model(val_data)\n",
        "            val_pred_list.append(val_pred.cpu().detach().numpy())\n",
        "            val_true_list.append(val_targets.numpy())\n",
        "        val_true = np.concatenate(val_true_list)\n",
        "        val_pred = np.concatenate(val_pred_list)\n",
        "        val_auc = auc_roc_score(val_true, val_pred)\n",
        "\n",
        "        val_pred_binary = (val_pred > 0.5).astype(int)\n",
        "        val_accuracy = accuracy_score(val_true, val_pred_binary)\n",
        "          \n",
        "        if best_val_auc < val_auc:\n",
        "          best_val_auc = val_auc\n",
        "          best_model = model\n",
        "\n",
        "        train_log.append(val_auc)    \n",
        "       \n",
        "\n",
        "     print(\"epoch: %s, epoch_loss: %.4f, val_auc: %.4f, lr: %.4f, best_val_auc: %.4f\"%(epoch, epoch_loss, val_auc, optimizer.lr, best_val_auc))    "
      ]
    },
    {
      "cell_type": "code",
      "execution_count": 31,
      "metadata": {
        "id": "cFqx3wpmgeTP"
      },
      "outputs": [],
      "source": [
        "dataflag = 'vesselmnist3d'"
      ]
    },
    {
      "attachments": {},
      "cell_type": "markdown",
      "metadata": {
        "id": "WwLpPTjmGjIn"
      },
      "source": [
        "# **Testing**"
      ]
    },
    {
      "cell_type": "code",
      "execution_count": 28,
      "metadata": {
        "colab": {
          "base_uri": "https://localhost:8080/"
        },
        "execution": {
          "iopub.execute_input": "2023-05-08T12:52:10.977716Z",
          "iopub.status.busy": "2023-05-08T12:52:10.977309Z",
          "iopub.status.idle": "2023-05-08T12:52:11.676799Z",
          "shell.execute_reply": "2023-05-08T12:52:11.675731Z",
          "shell.execute_reply.started": "2023-05-08T12:52:10.977685Z"
        },
        "id": "mWeZeX3C97Da",
        "outputId": "33d6f9d7-c3b9-4f87-aafd-8df762b2795c",
        "trusted": true
      },
      "outputs": [
        {
          "name": "stdout",
          "output_type": "stream",
          "text": [
            "Test AUC: 0.8930, Test Accuracy: 0.9136\n"
          ]
        }
      ],
      "source": [
        "# Evaluation on Test data\n",
        "\n",
        "test_pred_list = []\n",
        "test_true_list = [] \n",
        "for test_data, test_targets in testloader:\n",
        "    test_data  = test_data.cuda()\n",
        "    test_pred = best_model(test_data)\n",
        "    test_pred_list.append(test_pred.cpu().detach().numpy())\n",
        "    test_true_list.append(test_targets.numpy())\n",
        "test_true = np.concatenate(test_true_list)\n",
        "test_pred = np.concatenate(test_pred_list)\n",
        "test_auc =  auc_roc_score(test_true, test_pred) \n",
        "\n",
        "test_pred_binary = (test_pred > 0.5).astype(int)\n",
        "test_accuracy = accuracy_score(test_true, test_pred_binary)\n",
        "\n",
        "# print results\n",
        "print(\"Test AUC: %.4f, Test Accuracy: %.4f\"%(test_auc, test_accuracy))      "
      ]
    },
    {
      "cell_type": "code",
      "execution_count": 33,
      "metadata": {
        "execution": {
          "iopub.execute_input": "2023-05-08T12:53:26.871194Z",
          "iopub.status.busy": "2023-05-08T12:53:26.870832Z",
          "iopub.status.idle": "2023-05-08T12:53:27.059307Z",
          "shell.execute_reply": "2023-05-08T12:53:27.057945Z",
          "shell.execute_reply.started": "2023-05-08T12:53:26.871163Z"
        },
        "id": "oEtVwe46AYLg",
        "trusted": true
      },
      "outputs": [],
      "source": [
        "# Saving the best model\n",
        "state = {\n",
        "    'net': best_model.state_dict(),\n",
        "}\n",
        "\n",
        "output_root = os.path.join('./output', 'vesselmnist3d')\n",
        "if not os.path.exists(output_root):\n",
        "    os.makedirs(output_root)\n",
        "\n",
        "filename = 'vesselmnist3d' + '_auc_' + str(round(test_auc,4)) + '_model.pth'\n",
        "path = os.path.join(output_root, filename)\n",
        "torch.save(state, path)"
      ]
    },
    {
      "cell_type": "code",
      "execution_count": 29,
      "metadata": {
        "colab": {
          "base_uri": "https://localhost:8080/"
        },
        "execution": {
          "iopub.execute_input": "2023-05-08T12:52:16.539719Z",
          "iopub.status.busy": "2023-05-08T12:52:16.539180Z",
          "iopub.status.idle": "2023-05-08T12:52:17.246664Z",
          "shell.execute_reply": "2023-05-08T12:52:17.243565Z",
          "shell.execute_reply.started": "2023-05-08T12:52:16.539688Z"
        },
        "id": "dWvP7JR4G9yt",
        "outputId": "770feb91-bfd6-4e3f-99fc-97744b97edd8",
        "trusted": true
      },
      "outputs": [
        {
          "name": "stdout",
          "output_type": "stream",
          "text": [
            "Test: 0.8930\n"
          ]
        }
      ],
      "source": [
        "# Eval function similar to demo file\n",
        "\n",
        "def evaluate(net, test_loader):\n",
        "    # Testing AUC\n",
        "    score_list = list()\n",
        "    label_list = list()\n",
        "    for tmp_data, tmp_label in test_loader:\n",
        "        # tmp_data, tmp_label, tmp_idx = data\n",
        "        tmp_data, tmp_label = tmp_data.cuda(), tmp_label.cuda()\n",
        "#         tmp_data = tmp_data.expand(-1, 3, -1, -1)        \n",
        "        tmp_score = net(tmp_data).detach().clone().cpu()\n",
        "        score_list.append(tmp_score)\n",
        "        label_list.append(tmp_label.cpu())\n",
        "    test_label = torch.cat(label_list)\n",
        "    test_score = torch.cat(score_list)\n",
        "                   \n",
        "    test_auc = metrics.roc_auc_score(test_label, test_score)                   \n",
        "    print(\"Test: %.4f\"%test_auc, flush=True)\n",
        "\n",
        "evaluate(best_model, testloader)"
      ]
    },
    {
      "cell_type": "code",
      "execution_count": 29,
      "metadata": {
        "id": "QP76VGIDzWxr"
      },
      "outputs": [],
      "source": []
    }
  ],
  "metadata": {
    "accelerator": "GPU",
    "colab": {
      "gpuType": "T4",
      "machine_shape": "hm",
      "provenance": []
    },
    "gpuClass": "standard",
    "kernelspec": {
      "display_name": "Python 3",
      "language": "python",
      "name": "python3"
    },
    "language_info": {
      "codemirror_mode": {
        "name": "ipython",
        "version": 3
      },
      "file_extension": ".py",
      "mimetype": "text/x-python",
      "name": "python",
      "nbconvert_exporter": "python",
      "pygments_lexer": "ipython3",
      "version": "3.10.10"
    }
  },
  "nbformat": 4,
  "nbformat_minor": 0
}
